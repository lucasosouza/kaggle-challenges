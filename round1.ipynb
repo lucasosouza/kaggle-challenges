{
 "cells": [
  {
   "cell_type": "code",
   "execution_count": 1,
   "metadata": {
    "collapsed": true
   },
   "outputs": [],
   "source": [
    "# import useful stuff\n",
    "import pandas as pd\n",
    "from sklearn.tree import DecisionTreeClassifier as Tree\n",
    "import re\n",
    "\n",
    "# import custom functions\n",
    "from metrics import *\n",
    "\n",
    "# avoid undefined metric warning when calculating precision with 0 labels defined as 1\n",
    "import warnings\n",
    "warnings.filterwarnings('ignore')"
   ]
  },
  {
   "cell_type": "markdown",
   "metadata": {},
   "source": [
    "### Data transformations (from data analysis)"
   ]
  },
  {
   "cell_type": "code",
   "execution_count": 2,
   "metadata": {
    "collapsed": false
   },
   "outputs": [],
   "source": [
    "def transform(df, fillna=False):\n",
    "    # remove columns\n",
    "    for col in ['ult_fec_cli_1t', 'conyuemp', 'tipodom', 'cod_prov', \n",
    "                'pais_residencia', 'ncodpers', 'indrel', 'indrel_1mes', \n",
    "                'ind_empleado', 'fecha_alta', 'fecha_dato']:\n",
    "        del df[col]\n",
    "\n",
    "    # convert numerical vars to int\n",
    "    numerical_vars = ['age', 'antiguedad', 'renta']\n",
    "    df[numerical_vars] = df[numerical_vars].convert_objects(convert_numeric=True)\n",
    "\n",
    "    # convert S/N to boolean\n",
    "    for var in ['indfall', 'indresi', 'indext']:\n",
    "        df[var] = df[var] == 'S'\n",
    "\n",
    "    # drop na\n",
    "    if fillna:\n",
    "        df = df.fillna(value=0)\n",
    "    else:\n",
    "        df = df.dropna()    \n",
    "        \n",
    "    # one hot encode remaining categorical vars\n",
    "    categorical_vars = ['segmento', 'sexo', 'tiprel_1mes', 'canal_entrada', 'nomprov']\n",
    "    df = pd.get_dummies(df, prefix=None, prefix_sep='_', dummy_na=False, \n",
    "                       columns=categorical_vars, sparse=False, drop_first=False)\n",
    "    \n",
    "    # remove variables with one value, if any\n",
    "    for col in df.columns:\n",
    "        if len(df[col].value_counts()) == 1:\n",
    "            print(col)\n",
    "            del df[col]\n",
    "            \n",
    "    return df"
   ]
  },
  {
   "cell_type": "code",
   "execution_count": 3,
   "metadata": {
    "collapsed": false
   },
   "outputs": [],
   "source": [
    "# df_train = pd.read_csv('train_ver2.csv', nrows=100000)\n",
    "df_train = pd.read_csv('train_ver2.csv', nrows=3000000)"
   ]
  },
  {
   "cell_type": "code",
   "execution_count": 4,
   "metadata": {
    "collapsed": false
   },
   "outputs": [],
   "source": [
    "df_train = transform(df_train)"
   ]
  },
  {
   "cell_type": "code",
   "execution_count": 5,
   "metadata": {
    "collapsed": false
   },
   "outputs": [],
   "source": [
    "# separate the labels\n",
    "labels = []\n",
    "for col in df_train.columns:\n",
    "    if col[:4] == 'ind_' and col[-4:] == 'ult1':\n",
    "        labels.append(col)\n",
    "\n",
    "# create X and y delete dataframe\n",
    "X = df_train[df_train.columns.difference(labels)]\n",
    "y = df_train[labels]\n",
    "del df_train"
   ]
  },
  {
   "cell_type": "code",
   "execution_count": 6,
   "metadata": {
    "collapsed": false
   },
   "outputs": [],
   "source": [
    "# order labels before running classifier\n",
    "ordered_labels = []\n",
    "for label in labels:\n",
    "    ordered_labels.append((label, (y[label] == 1).sum()))\n",
    "\n",
    "labels = [x for (x,y) in sorted(ordered_labels, key=lambda x:-x[1])]"
   ]
  },
  {
   "cell_type": "markdown",
   "metadata": {},
   "source": [
    "### First Shot at Prediction"
   ]
  },
  {
   "cell_type": "markdown",
   "metadata": {},
   "source": [
    "After all required corvertions have been made, I can make a first shot at predicting. First question we need to ask is, what I'm a predicting?\n",
    "\n",
    "I'm predicting comsuption of a certain product. I have a total of 24 booleans that will tell whether or not this customer consumed this product. These are my labels for a One vs All classification model.\n",
    "\n"
   ]
  },
  {
   "cell_type": "code",
   "execution_count": 7,
   "metadata": {
    "collapsed": false
   },
   "outputs": [],
   "source": [
    "# upload test data\n",
    "X_test = pd.read_csv('test_ver2.csv')\n",
    "\n",
    "# initialize results\n",
    "report = pd.DataFrame(X_test['ncodpers'])\n",
    "classif_results = {}\n",
    "\n",
    "# prepare test data for classifer\n",
    "X_test = transform(X_test, fillna=True)\n"
   ]
  },
  {
   "cell_type": "code",
   "execution_count": null,
   "metadata": {
    "collapsed": false
   },
   "outputs": [],
   "source": [
    "# X_test should only have columns that are also in X (needed due to one-hot encoding)\n",
    "paired_columns = [col for col in X_test.columns if col in X.columns]\n",
    "X_test = X_test[paired_columns]"
   ]
  },
  {
   "cell_type": "code",
   "execution_count": null,
   "metadata": {
    "collapsed": false
   },
   "outputs": [],
   "source": [
    "# predict each product with a different clssifer\n",
    "for label in labels:\n",
    "   if len(y[label].value_counts()) != 1:\n",
    "       clf = Tree()\n",
    "       clf.fit(X, y[label])\n",
    "       classif_results[label] = clf.predict(X_test)"
   ]
  },
  {
   "cell_type": "code",
   "execution_count": null,
   "metadata": {
    "collapsed": true
   },
   "outputs": [],
   "source": [
    "# clean memory\n",
    "del X\n",
    "del y\n",
    "del X_test"
   ]
  },
  {
   "cell_type": "code",
   "execution_count": null,
   "metadata": {
    "collapsed": false
   },
   "outputs": [],
   "source": [
    "# transform results to expected output\n",
    "fn_name_labels = lambda label, pred: list(map(lambda x: label if x else '', pred))\n",
    "cf_list = [fn_name_labels(k,v) for k,v in classif_results.items()]\n",
    "\n",
    "# concatenate results\n",
    "fn_join_columns = lambda x:re.sub('\\s+', ' ', ' '.join(x)).strip()\n",
    "\n",
    "# add new column added products in report\n",
    "report['added_products'] = list(map(fn_join_columns, zip(*cf_list)))"
   ]
  },
  {
   "cell_type": "code",
   "execution_count": null,
   "metadata": {
    "collapsed": false
   },
   "outputs": [],
   "source": [
    "report.ix[0, 'added_products']"
   ]
  },
  {
   "cell_type": "code",
   "execution_count": null,
   "metadata": {
    "collapsed": false
   },
   "outputs": [],
   "source": [
    "report.to_csv('round1b.csv', header=True, index=False)"
   ]
  }
 ],
 "metadata": {
  "anaconda-cloud": {},
  "kernelspec": {
   "display_name": "Python [conda env:udacity]",
   "language": "python",
   "name": "conda-env-udacity-py"
  },
  "language_info": {
   "codemirror_mode": {
    "name": "ipython",
    "version": 3
   },
   "file_extension": ".py",
   "mimetype": "text/x-python",
   "name": "python",
   "nbconvert_exporter": "python",
   "pygments_lexer": "ipython3",
   "version": "3.5.2"
  }
 },
 "nbformat": 4,
 "nbformat_minor": 1
}
