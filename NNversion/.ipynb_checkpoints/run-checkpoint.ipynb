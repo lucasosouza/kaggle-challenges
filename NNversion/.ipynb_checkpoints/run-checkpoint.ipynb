{
 "cells": [
  {
   "cell_type": "code",
   "execution_count": 7,
   "metadata": {
    "collapsed": false
   },
   "outputs": [],
   "source": [
    "# ssh variables\n",
    "cert = 'udacity-p2.pem'\n",
    "remote = 'ubuntu@54.161.149.130'\n",
    "login = 'sshpass -p \"carnd\"'"
   ]
  },
  {
   "cell_type": "code",
   "execution_count": 8,
   "metadata": {
    "collapsed": false
   },
   "outputs": [
    {
     "name": "stdout",
     "output_type": "stream",
     "text": [
      "run.py                                        100% 1962     1.9KB/s   00:00    \n",
      "export.py                                     100% 1633     1.6KB/s   00:00    \n",
      "nn.py                                         100%   10KB  10.0KB/s   00:00    \n",
      "preprocess.py                                 100% 1749     1.7KB/s   00:00    \n",
      "load.py                                       100% 4835     4.7KB/s   00:00    \n"
     ]
    }
   ],
   "source": [
    "files =['run.py', 'export.py', 'nn.py','preprocess.py', 'load.py']\n",
    "# ssh updated driving log\n",
    "for file in files:\n",
    "    ! scp -i {cert} {file} {remote}:Santander/{file}"
   ]
  },
  {
   "cell_type": "code",
   "execution_count": 3,
   "metadata": {
    "collapsed": false,
    "scrolled": true
   },
   "outputs": [],
   "source": [
    "# ssh updated model and run model in remote host\n",
    "#! ssh -i {cert} {remote} 'cd Santander; python3 run.py'"
   ]
  },
  {
   "cell_type": "code",
   "execution_count": 11,
   "metadata": {
    "collapsed": false
   },
   "outputs": [
    {
     "name": "stdout",
     "output_type": "stream",
     "text": [
      "train_model.ckpt                              100%  204MB   1.5MB/s   02:14    \n",
      "train_model.ckpt.meta                         100% 3144KB   1.0MB/s   00:03    \n"
     ]
    }
   ],
   "source": [
    "# download model and weights to local machine\n",
    "files = ['train_model.ckpt', 'train_model.ckpt.meta']\n",
    "for file in files:\n",
    "    ! scp -i {cert} {remote}:Santander/{file} {file}"
   ]
  },
  {
   "cell_type": "code",
   "execution_count": null,
   "metadata": {
    "collapsed": true
   },
   "outputs": [],
   "source": []
  }
 ],
 "metadata": {
  "anaconda-cloud": {},
  "kernelspec": {
   "display_name": "Python [conda env:udacity]",
   "language": "python",
   "name": "conda-env-udacity-py"
  },
  "language_info": {
   "codemirror_mode": {
    "name": "ipython",
    "version": 3
   },
   "file_extension": ".py",
   "mimetype": "text/x-python",
   "name": "python",
   "nbconvert_exporter": "python",
   "pygments_lexer": "ipython3",
   "version": "3.5.2"
  }
 },
 "nbformat": 4,
 "nbformat_minor": 1
}
