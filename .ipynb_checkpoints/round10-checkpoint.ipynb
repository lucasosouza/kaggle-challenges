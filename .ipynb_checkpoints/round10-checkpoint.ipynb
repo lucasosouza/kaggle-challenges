{
 "cells": [
  {
   "cell_type": "code",
   "execution_count": null,
   "metadata": {
    "collapsed": false
   },
   "outputs": [],
   "source": [
    "from run import prep_data\n",
    "from nn import train_and_predict"
   ]
  },
  {
   "cell_type": "code",
   "execution_count": null,
   "metadata": {
    "collapsed": false
   },
   "outputs": [],
   "source": [
    "X, y, X_test, labels = prep_data()"
   ]
  },
  {
   "cell_type": "code",
   "execution_count": 22,
   "metadata": {
    "collapsed": false
   },
   "outputs": [
    {
     "name": "stdout",
     "output_type": "stream",
     "text": [
      "Epoch: 0001, Cost: 4.62776518, Time: 96.40\n",
      "Epoch: 0002, Cost: 4.50998020, Time: 97.40\n",
      "Optimization Finished! Time to complete: 193.82\n"
     ]
    }
   ],
   "source": [
    "# get probability distribution for test\n",
    "preds = nn.train_and_predict(X, y, X_test)"
   ]
  },
  {
   "cell_type": "code",
   "execution_count": 35,
   "metadata": {
    "collapsed": true
   },
   "outputs": [],
   "source": [
    "import pandas as pd"
   ]
  },
  {
   "cell_type": "code",
   "execution_count": 62,
   "metadata": {
    "collapsed": false
   },
   "outputs": [],
   "source": [
    "# reconstruct dataframe\n",
    "results = pd.DataFrame(preds.indices)"
   ]
  },
  {
   "cell_type": "code",
   "execution_count": 63,
   "metadata": {
    "collapsed": false
   },
   "outputs": [],
   "source": [
    "fn = lambda x: labels[int(x)]\n",
    "results = results.applymap(fn)"
   ]
  },
  {
   "cell_type": "code",
   "execution_count": 64,
   "metadata": {
    "collapsed": false
   },
   "outputs": [
    {
     "data": {
      "text/html": [
       "<div>\n",
       "<table border=\"1\" class=\"dataframe\">\n",
       "  <thead>\n",
       "    <tr style=\"text-align: right;\">\n",
       "      <th></th>\n",
       "      <th>0</th>\n",
       "      <th>1</th>\n",
       "      <th>2</th>\n",
       "      <th>3</th>\n",
       "      <th>4</th>\n",
       "      <th>5</th>\n",
       "      <th>6</th>\n",
       "    </tr>\n",
       "  </thead>\n",
       "  <tbody>\n",
       "    <tr>\n",
       "      <th>0</th>\n",
       "      <td>ind_cco_fin_ult1</td>\n",
       "      <td>ind_recibo_ult1</td>\n",
       "      <td>ind_cno_fin_ult1</td>\n",
       "      <td>ind_nom_pens_ult1</td>\n",
       "      <td>ind_nomina_ult1</td>\n",
       "      <td>ind_ctma_fin_ult1</td>\n",
       "      <td>ind_ecue_fin_ult1</td>\n",
       "    </tr>\n",
       "    <tr>\n",
       "      <th>1</th>\n",
       "      <td>ind_cco_fin_ult1</td>\n",
       "      <td>ind_recibo_ult1</td>\n",
       "      <td>ind_cno_fin_ult1</td>\n",
       "      <td>ind_nom_pens_ult1</td>\n",
       "      <td>ind_nomina_ult1</td>\n",
       "      <td>ind_ctma_fin_ult1</td>\n",
       "      <td>ind_ecue_fin_ult1</td>\n",
       "    </tr>\n",
       "    <tr>\n",
       "      <th>2</th>\n",
       "      <td>ind_cco_fin_ult1</td>\n",
       "      <td>ind_recibo_ult1</td>\n",
       "      <td>ind_cno_fin_ult1</td>\n",
       "      <td>ind_nom_pens_ult1</td>\n",
       "      <td>ind_nomina_ult1</td>\n",
       "      <td>ind_ctma_fin_ult1</td>\n",
       "      <td>ind_ecue_fin_ult1</td>\n",
       "    </tr>\n",
       "    <tr>\n",
       "      <th>3</th>\n",
       "      <td>ind_cco_fin_ult1</td>\n",
       "      <td>ind_recibo_ult1</td>\n",
       "      <td>ind_cno_fin_ult1</td>\n",
       "      <td>ind_nom_pens_ult1</td>\n",
       "      <td>ind_nomina_ult1</td>\n",
       "      <td>ind_ctma_fin_ult1</td>\n",
       "      <td>ind_ecue_fin_ult1</td>\n",
       "    </tr>\n",
       "    <tr>\n",
       "      <th>4</th>\n",
       "      <td>ind_cco_fin_ult1</td>\n",
       "      <td>ind_recibo_ult1</td>\n",
       "      <td>ind_cno_fin_ult1</td>\n",
       "      <td>ind_nom_pens_ult1</td>\n",
       "      <td>ind_nomina_ult1</td>\n",
       "      <td>ind_ctma_fin_ult1</td>\n",
       "      <td>ind_ecue_fin_ult1</td>\n",
       "    </tr>\n",
       "  </tbody>\n",
       "</table>\n",
       "</div>"
      ],
      "text/plain": [
       "                  0                1                 2                  3  \\\n",
       "0  ind_cco_fin_ult1  ind_recibo_ult1  ind_cno_fin_ult1  ind_nom_pens_ult1   \n",
       "1  ind_cco_fin_ult1  ind_recibo_ult1  ind_cno_fin_ult1  ind_nom_pens_ult1   \n",
       "2  ind_cco_fin_ult1  ind_recibo_ult1  ind_cno_fin_ult1  ind_nom_pens_ult1   \n",
       "3  ind_cco_fin_ult1  ind_recibo_ult1  ind_cno_fin_ult1  ind_nom_pens_ult1   \n",
       "4  ind_cco_fin_ult1  ind_recibo_ult1  ind_cno_fin_ult1  ind_nom_pens_ult1   \n",
       "\n",
       "                 4                  5                  6  \n",
       "0  ind_nomina_ult1  ind_ctma_fin_ult1  ind_ecue_fin_ult1  \n",
       "1  ind_nomina_ult1  ind_ctma_fin_ult1  ind_ecue_fin_ult1  \n",
       "2  ind_nomina_ult1  ind_ctma_fin_ult1  ind_ecue_fin_ult1  \n",
       "3  ind_nomina_ult1  ind_ctma_fin_ult1  ind_ecue_fin_ult1  \n",
       "4  ind_nomina_ult1  ind_ctma_fin_ult1  ind_ecue_fin_ult1  "
      ]
     },
     "execution_count": 64,
     "metadata": {},
     "output_type": "execute_result"
    }
   ],
   "source": [
    "results.head()"
   ]
  },
  {
   "cell_type": "code",
   "execution_count": 65,
   "metadata": {
    "collapsed": false
   },
   "outputs": [],
   "source": [
    "fn = lambda x:\" \".join(x)\n",
    "results['added_products'] = results.apply(fn, axis=1)\n",
    "\n",
    "results['ncodpers'] = X_test.index"
   ]
  },
  {
   "cell_type": "code",
   "execution_count": 66,
   "metadata": {
    "collapsed": false
   },
   "outputs": [
    {
     "data": {
      "text/html": [
       "<div>\n",
       "<table border=\"1\" class=\"dataframe\">\n",
       "  <thead>\n",
       "    <tr style=\"text-align: right;\">\n",
       "      <th></th>\n",
       "      <th>ncodpers</th>\n",
       "      <th>added_products</th>\n",
       "    </tr>\n",
       "  </thead>\n",
       "  <tbody>\n",
       "    <tr>\n",
       "      <th>0</th>\n",
       "      <td>0</td>\n",
       "      <td>ind_cco_fin_ult1 ind_recibo_ult1 ind_cno_fin_u...</td>\n",
       "    </tr>\n",
       "    <tr>\n",
       "      <th>1</th>\n",
       "      <td>618359</td>\n",
       "      <td>ind_cco_fin_ult1 ind_recibo_ult1 ind_cno_fin_u...</td>\n",
       "    </tr>\n",
       "    <tr>\n",
       "      <th>2</th>\n",
       "      <td>618360</td>\n",
       "      <td>ind_cco_fin_ult1 ind_recibo_ult1 ind_cno_fin_u...</td>\n",
       "    </tr>\n",
       "    <tr>\n",
       "      <th>3</th>\n",
       "      <td>618361</td>\n",
       "      <td>ind_cco_fin_ult1 ind_recibo_ult1 ind_cno_fin_u...</td>\n",
       "    </tr>\n",
       "    <tr>\n",
       "      <th>4</th>\n",
       "      <td>618362</td>\n",
       "      <td>ind_cco_fin_ult1 ind_recibo_ult1 ind_cno_fin_u...</td>\n",
       "    </tr>\n",
       "  </tbody>\n",
       "</table>\n",
       "</div>"
      ],
      "text/plain": [
       "   ncodpers                                     added_products\n",
       "0         0  ind_cco_fin_ult1 ind_recibo_ult1 ind_cno_fin_u...\n",
       "1    618359  ind_cco_fin_ult1 ind_recibo_ult1 ind_cno_fin_u...\n",
       "2    618360  ind_cco_fin_ult1 ind_recibo_ult1 ind_cno_fin_u...\n",
       "3    618361  ind_cco_fin_ult1 ind_recibo_ult1 ind_cno_fin_u...\n",
       "4    618362  ind_cco_fin_ult1 ind_recibo_ult1 ind_cno_fin_u..."
      ]
     },
     "execution_count": 66,
     "metadata": {},
     "output_type": "execute_result"
    }
   ],
   "source": [
    "results = results[['ncodpers', 'added_products']]\n",
    "results.head()"
   ]
  },
  {
   "cell_type": "code",
   "execution_count": 68,
   "metadata": {
    "collapsed": false
   },
   "outputs": [],
   "source": [
    "results.to_csv('round10.csv', header=True, index=False)"
   ]
  },
  {
   "cell_type": "code",
   "execution_count": 69,
   "metadata": {
    "collapsed": false
   },
   "outputs": [
    {
     "data": {
      "text/plain": [
       "(929615, 2)"
      ]
     },
     "execution_count": 69,
     "metadata": {},
     "output_type": "execute_result"
    }
   ],
   "source": [
    "results.shape"
   ]
  },
  {
   "cell_type": "code",
   "execution_count": null,
   "metadata": {
    "collapsed": true
   },
   "outputs": [],
   "source": [
    "# having the model, the results, everything\n",
    "# what is left is to be bold\n",
    "# convert this to an actual data I can use it\n",
    "# and export\n",
    "# I will run this thing on the cloud tomorrow\n",
    "# and will not run out of memory\n",
    "# because GPU\n",
    "# no batches\n",
    "# let's see what happense"
   ]
  }
 ],
 "metadata": {
  "anaconda-cloud": {},
  "kernelspec": {
   "display_name": "Python [conda env:udacity]",
   "language": "python",
   "name": "conda-env-udacity-py"
  },
  "language_info": {
   "codemirror_mode": {
    "name": "ipython",
    "version": 3
   },
   "file_extension": ".py",
   "mimetype": "text/x-python",
   "name": "python",
   "nbconvert_exporter": "python",
   "pygments_lexer": "ipython3",
   "version": "3.5.2"
  }
 },
 "nbformat": 4,
 "nbformat_minor": 1
}
