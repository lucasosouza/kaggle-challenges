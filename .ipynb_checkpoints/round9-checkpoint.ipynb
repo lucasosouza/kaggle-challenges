{
 "cells": [
  {
   "cell_type": "code",
   "execution_count": 1,
   "metadata": {
    "collapsed": true
   },
   "outputs": [],
   "source": [
    "# import useful stuff\n",
    "import pandas as pd\n",
    "from sklearn.tree import DecisionTreeClassifier\n",
    "from sklearn.tree import DecisionTreeRegressor\n",
    "import re\n",
    "import numpy as np\n",
    "\n",
    "from sklearn.feature_selection import SelectKBest\n",
    "from sklearn.model_selection import cross_val_score\n",
    "from sklearn.model_selection import StratifiedShuffleSplit\n",
    "from sklearn.metrics import f1_score\n",
    "from sklearn.metrics import recall_score\n",
    "\n",
    "from sklearn.linear_model import LogisticRegression\n",
    "\n",
    "from sklearn.decomposition import PCA\n",
    "from sklearn.preprocessing import MinMaxScaler\n",
    "\n",
    "from sklearn.metrics import accuracy_score\n",
    "\n",
    "# avoid undefined metric warning when calculating precision with 0 labels defined as 1\n",
    "import warnings\n",
    "warnings.filterwarnings('ignore')\n",
    "\n",
    "from sklearn.linear_model import SGDClassifier\n",
    "\n",
    "from time import time"
   ]
  },
  {
   "cell_type": "markdown",
   "metadata": {},
   "source": [
    "### Data transformations"
   ]
  },
  {
   "cell_type": "markdown",
   "metadata": {},
   "source": [
    "1. Load data\n",
    "2. Transform data\n",
    "3. Create features and lables\n",
    "4. Re-select features\n",
    "5. Train\n",
    "6. Cross-validate"
   ]
  },
  {
   "cell_type": "markdown",
   "metadata": {},
   "source": [
    "#### Load Data"
   ]
  },
  {
   "cell_type": "code",
   "execution_count": 2,
   "metadata": {
    "collapsed": false
   },
   "outputs": [],
   "source": [
    "def gen_data(test=None):\n",
    "\n",
    "    if test:\n",
    "        df = pd.read_csv('test_ver2.csv')\n",
    "    else: \n",
    "        df = pd.read_csv('train_ver2.csv')\n",
    "    \n",
    "    # separate the labels\n",
    "    labels = []\n",
    "    for col in df.columns:\n",
    "        if col[:4] == 'ind_' and col[-4:] == 'ult1':\n",
    "            labels.append(col)\n",
    "\n",
    "    # create X and y delete dataframe\n",
    "    X = df[df.columns.difference(labels)]\n",
    "    y = df[labels].fillna(value=0) # NAs in labels will be considered 0\n",
    "    del df\n",
    "\n",
    "    return X,y, labels"
   ]
  },
  {
   "cell_type": "code",
   "execution_count": 3,
   "metadata": {
    "collapsed": false
   },
   "outputs": [],
   "source": [
    "X, y, labels =  gen_data()"
   ]
  },
  {
   "cell_type": "code",
   "execution_count": 4,
   "metadata": {
    "collapsed": false
   },
   "outputs": [],
   "source": [
    "threshold = X['ncodpers'].quantile(.9)"
   ]
  },
  {
   "cell_type": "code",
   "execution_count": 5,
   "metadata": {
    "collapsed": false
   },
   "outputs": [],
   "source": [
    "X = X[X['ncodpers'] > threshold]\n",
    "y = y.loc[X.index]"
   ]
  },
  {
   "cell_type": "code",
   "execution_count": 6,
   "metadata": {
    "collapsed": false
   },
   "outputs": [
    {
     "data": {
      "text/plain": [
       "((1364729, 24), (1364729, 24))"
      ]
     },
     "execution_count": 6,
     "metadata": {},
     "output_type": "execute_result"
    }
   ],
   "source": [
    "X.shape, y.shape"
   ]
  },
  {
   "cell_type": "markdown",
   "metadata": {},
   "source": [
    "#### Transform data"
   ]
  },
  {
   "cell_type": "code",
   "execution_count": 7,
   "metadata": {
    "collapsed": false
   },
   "outputs": [],
   "source": [
    "def transform(df, fillna=True):\n",
    "    \"\"\" This version includes variables considered relevant\"\"\"\n",
    "    \n",
    "    ### variables to be removed ###\n",
    "    # remove cod_prov only, since it is redundant with nomprov\n",
    "    # removed fecha_alta - redundant with antiguedad\n",
    "    for col in ['cod_prov', 'fecha_alta', 'ult_fec_cli_1t', 'pais_residencia']:\n",
    "        del df[col]    \n",
    "\n",
    "    ### numerical_vars ###\n",
    "    # convert numerical vars to int\n",
    "    numerical_vars = ['age', 'antiguedad', 'renta']\n",
    "    df[numerical_vars] = df[numerical_vars].convert_objects(convert_numeric=True)\n",
    "    \n",
    "    # change less or equal than 0 to nan\n",
    "    for var in numerical_vars:\n",
    "        df.ix[df[var] < 0, var] = np.nan\n",
    "\n",
    "    ### boolean and categorical vars ###\n",
    "    # convert S/N to boolean and remaining to number\n",
    "    boolean_vars = ['indfall', 'ind_actividad_cliente', 'ind_nuevo', 'indresi', 'indext', \n",
    "                    'tipodom', 'conyuemp', 'ind_actividad_cliente']\n",
    "    for var in ['indfall', 'indresi', 'indext', 'conyuemp']:\n",
    "        df[var] = df[var] == 'S'\n",
    "    df[boolean_vars] = df[boolean_vars].convert_objects(convert_numeric=True)\n",
    "        \n",
    "    # one hot encode categorical vars\n",
    "    # 150 canais, 103 paises, 52 provincias\n",
    "    categorical_vars = ['segmento', 'sexo', 'tiprel_1mes', 'canal_entrada', 'nomprov', \n",
    "                        'ind_empleado', 'indrel_1mes']\n",
    "    df = pd.get_dummies(df, prefix=None, prefix_sep='_', dummy_na=False, \n",
    "                       columns=categorical_vars, sparse=False, drop_first=False)    \n",
    "\n",
    "    \n",
    "    ### handling null values ###\n",
    "    if fillna:\n",
    "        df = df.fillna(value=0)\n",
    "    else:\n",
    "        df = df.dropna()\n",
    "        \n",
    "    ### end ### \n",
    "            \n",
    "    return df"
   ]
  },
  {
   "cell_type": "code",
   "execution_count": 8,
   "metadata": {
    "collapsed": false
   },
   "outputs": [],
   "source": [
    "X = transform(X)\n",
    "y = y.loc[X.index]"
   ]
  },
  {
   "cell_type": "markdown",
   "metadata": {},
   "source": [
    "#### Generate features and labels"
   ]
  },
  {
   "cell_type": "markdown",
   "metadata": {},
   "source": [
    "I want to capture evolution. So it would be current month - past months. I can do this for past 6 months. That means only after some date I will be able to generate data.\n",
    "\n",
    "At this point, there are two types of data in the dataset:\n",
    "* Numerical: for these, I will only evaluate if it increased, or decreased, hence converting to three categories: decreased (-1), unchanged (0), increased(1).\n",
    "* Boolean: Take current status minus previous status. If it has changed from 0 to 1, it will be 1, as in added. If changed from 1 to, it will be -1, as in removed. If it is 0, it means unchanged. "
   ]
  },
  {
   "cell_type": "code",
   "execution_count": 9,
   "metadata": {
    "collapsed": true
   },
   "outputs": [],
   "source": [
    "# sort by ncodpers and fecha_dato\n",
    "X = X.sort_values(['ncodpers', 'fecha_dato'])\n",
    "y = y.loc[X.index]"
   ]
  },
  {
   "cell_type": "code",
   "execution_count": 10,
   "metadata": {
    "collapsed": false
   },
   "outputs": [],
   "source": [
    "# create differences\n",
    "X_diff = X.drop(['fecha_dato'], axis=1).diff()\n",
    "y_diff = y.diff()\n",
    "\n",
    "# set index and ncodpers as column\n",
    "X_diff['index'] = X_diff.index\n",
    "X_diff['ncodpers'] = X['ncodpers']"
   ]
  },
  {
   "cell_type": "code",
   "execution_count": 11,
   "metadata": {
    "collapsed": false
   },
   "outputs": [
    {
     "data": {
      "text/plain": [
       "(162253, 162253)"
      ]
     },
     "execution_count": 11,
     "metadata": {},
     "output_type": "execute_result"
    }
   ],
   "source": [
    "first = X_diff.groupby('ncodpers').first().reset_index()['index']\n",
    "last = X_diff.groupby('ncodpers').last().reset_index()['index']\n",
    "len(first), len(last)"
   ]
  },
  {
   "cell_type": "code",
   "execution_count": 12,
   "metadata": {
    "collapsed": true
   },
   "outputs": [],
   "source": [
    "# remove negative y\n",
    "y_diff[y_diff < 0] = 0"
   ]
  },
  {
   "cell_type": "code",
   "execution_count": 25,
   "metadata": {
    "collapsed": false
   },
   "outputs": [
    {
     "data": {
      "text/plain": [
       "((1048773, 105), (162253, 105), (1048773, 24), (162253, 24))"
      ]
     },
     "execution_count": 25,
     "metadata": {},
     "output_type": "execute_result"
    }
   ],
   "source": [
    "# set training and validation set\n",
    "X_train = X_diff[-X_diff.index.isin(pd.concat([first, last]))]\n",
    "X_val = X_diff[X_diff.index.isin(last)]\n",
    "y_train = y_diff[-X_diff.index.isin(pd.concat([first, last]))]\n",
    "y_val = y_diff[X_diff.index.isin(last)]\n",
    "X_train.shape, X_val.shape, y_train.shape, y_val.shape"
   ]
  },
  {
   "cell_type": "code",
   "execution_count": 26,
   "metadata": {
    "collapsed": false
   },
   "outputs": [
    {
     "data": {
      "text/html": [
       "<div>\n",
       "<table border=\"1\" class=\"dataframe\">\n",
       "  <thead>\n",
       "    <tr style=\"text-align: right;\">\n",
       "      <th></th>\n",
       "      <th>age</th>\n",
       "      <th>antiguedad</th>\n",
       "      <th>conyuemp</th>\n",
       "      <th>ind_actividad_cliente</th>\n",
       "      <th>ind_nuevo</th>\n",
       "      <th>indext</th>\n",
       "      <th>indfall</th>\n",
       "      <th>indrel</th>\n",
       "      <th>indresi</th>\n",
       "      <th>ncodpers</th>\n",
       "      <th>...</th>\n",
       "      <th>indrel_1mes_1</th>\n",
       "      <th>indrel_1mes_1.0</th>\n",
       "      <th>indrel_1mes_2</th>\n",
       "      <th>indrel_1mes_2.0</th>\n",
       "      <th>indrel_1mes_3</th>\n",
       "      <th>indrel_1mes_3.0</th>\n",
       "      <th>indrel_1mes_4</th>\n",
       "      <th>indrel_1mes_4.0</th>\n",
       "      <th>indrel_1mes_P</th>\n",
       "      <th>index</th>\n",
       "    </tr>\n",
       "  </thead>\n",
       "  <tbody>\n",
       "    <tr>\n",
       "      <th>5058102</th>\n",
       "      <td>0.0</td>\n",
       "      <td>1.0</td>\n",
       "      <td>False</td>\n",
       "      <td>0.0</td>\n",
       "      <td>0.0</td>\n",
       "      <td>False</td>\n",
       "      <td>False</td>\n",
       "      <td>0.0</td>\n",
       "      <td>False</td>\n",
       "      <td>1362228</td>\n",
       "      <td>...</td>\n",
       "      <td>0.0</td>\n",
       "      <td>1.0</td>\n",
       "      <td>0.0</td>\n",
       "      <td>0.0</td>\n",
       "      <td>0.0</td>\n",
       "      <td>0.0</td>\n",
       "      <td>0.0</td>\n",
       "      <td>0.0</td>\n",
       "      <td>0.0</td>\n",
       "      <td>5058102</td>\n",
       "    </tr>\n",
       "    <tr>\n",
       "      <th>6247377</th>\n",
       "      <td>0.0</td>\n",
       "      <td>1.0</td>\n",
       "      <td>False</td>\n",
       "      <td>0.0</td>\n",
       "      <td>0.0</td>\n",
       "      <td>False</td>\n",
       "      <td>False</td>\n",
       "      <td>0.0</td>\n",
       "      <td>False</td>\n",
       "      <td>1362228</td>\n",
       "      <td>...</td>\n",
       "      <td>0.0</td>\n",
       "      <td>0.0</td>\n",
       "      <td>0.0</td>\n",
       "      <td>0.0</td>\n",
       "      <td>0.0</td>\n",
       "      <td>0.0</td>\n",
       "      <td>0.0</td>\n",
       "      <td>0.0</td>\n",
       "      <td>0.0</td>\n",
       "      <td>6247377</td>\n",
       "    </tr>\n",
       "    <tr>\n",
       "      <th>6574995</th>\n",
       "      <td>0.0</td>\n",
       "      <td>1.0</td>\n",
       "      <td>False</td>\n",
       "      <td>0.0</td>\n",
       "      <td>0.0</td>\n",
       "      <td>False</td>\n",
       "      <td>False</td>\n",
       "      <td>0.0</td>\n",
       "      <td>False</td>\n",
       "      <td>1362228</td>\n",
       "      <td>...</td>\n",
       "      <td>0.0</td>\n",
       "      <td>0.0</td>\n",
       "      <td>0.0</td>\n",
       "      <td>0.0</td>\n",
       "      <td>0.0</td>\n",
       "      <td>0.0</td>\n",
       "      <td>0.0</td>\n",
       "      <td>0.0</td>\n",
       "      <td>0.0</td>\n",
       "      <td>6574995</td>\n",
       "    </tr>\n",
       "    <tr>\n",
       "      <th>7780192</th>\n",
       "      <td>1.0</td>\n",
       "      <td>1.0</td>\n",
       "      <td>False</td>\n",
       "      <td>0.0</td>\n",
       "      <td>0.0</td>\n",
       "      <td>False</td>\n",
       "      <td>False</td>\n",
       "      <td>0.0</td>\n",
       "      <td>False</td>\n",
       "      <td>1362228</td>\n",
       "      <td>...</td>\n",
       "      <td>0.0</td>\n",
       "      <td>-1.0</td>\n",
       "      <td>0.0</td>\n",
       "      <td>0.0</td>\n",
       "      <td>0.0</td>\n",
       "      <td>0.0</td>\n",
       "      <td>0.0</td>\n",
       "      <td>0.0</td>\n",
       "      <td>0.0</td>\n",
       "      <td>7780192</td>\n",
       "    </tr>\n",
       "    <tr>\n",
       "      <th>8956038</th>\n",
       "      <td>0.0</td>\n",
       "      <td>1.0</td>\n",
       "      <td>False</td>\n",
       "      <td>0.0</td>\n",
       "      <td>0.0</td>\n",
       "      <td>False</td>\n",
       "      <td>False</td>\n",
       "      <td>0.0</td>\n",
       "      <td>False</td>\n",
       "      <td>1362228</td>\n",
       "      <td>...</td>\n",
       "      <td>0.0</td>\n",
       "      <td>1.0</td>\n",
       "      <td>0.0</td>\n",
       "      <td>0.0</td>\n",
       "      <td>0.0</td>\n",
       "      <td>0.0</td>\n",
       "      <td>0.0</td>\n",
       "      <td>0.0</td>\n",
       "      <td>0.0</td>\n",
       "      <td>8956038</td>\n",
       "    </tr>\n",
       "  </tbody>\n",
       "</table>\n",
       "<p>5 rows × 105 columns</p>\n",
       "</div>"
      ],
      "text/plain": [
       "         age  antiguedad conyuemp  ind_actividad_cliente  ind_nuevo indext  \\\n",
       "5058102  0.0         1.0    False                    0.0        0.0  False   \n",
       "6247377  0.0         1.0    False                    0.0        0.0  False   \n",
       "6574995  0.0         1.0    False                    0.0        0.0  False   \n",
       "7780192  1.0         1.0    False                    0.0        0.0  False   \n",
       "8956038  0.0         1.0    False                    0.0        0.0  False   \n",
       "\n",
       "        indfall  indrel indresi  ncodpers   ...     indrel_1mes_1  \\\n",
       "5058102   False     0.0   False   1362228   ...               0.0   \n",
       "6247377   False     0.0   False   1362228   ...               0.0   \n",
       "6574995   False     0.0   False   1362228   ...               0.0   \n",
       "7780192   False     0.0   False   1362228   ...               0.0   \n",
       "8956038   False     0.0   False   1362228   ...               0.0   \n",
       "\n",
       "         indrel_1mes_1.0  indrel_1mes_2  indrel_1mes_2.0  indrel_1mes_3  \\\n",
       "5058102              1.0            0.0              0.0            0.0   \n",
       "6247377              0.0            0.0              0.0            0.0   \n",
       "6574995              0.0            0.0              0.0            0.0   \n",
       "7780192             -1.0            0.0              0.0            0.0   \n",
       "8956038              1.0            0.0              0.0            0.0   \n",
       "\n",
       "         indrel_1mes_3.0  indrel_1mes_4  indrel_1mes_4.0  indrel_1mes_P  \\\n",
       "5058102              0.0            0.0              0.0            0.0   \n",
       "6247377              0.0            0.0              0.0            0.0   \n",
       "6574995              0.0            0.0              0.0            0.0   \n",
       "7780192              0.0            0.0              0.0            0.0   \n",
       "8956038              0.0            0.0              0.0            0.0   \n",
       "\n",
       "           index  \n",
       "5058102  5058102  \n",
       "6247377  6247377  \n",
       "6574995  6574995  \n",
       "7780192  7780192  \n",
       "8956038  8956038  \n",
       "\n",
       "[5 rows x 105 columns]"
      ]
     },
     "execution_count": 26,
     "metadata": {},
     "output_type": "execute_result"
    }
   ],
   "source": [
    "## evaluate\n",
    "X_train.head()"
   ]
  },
  {
   "cell_type": "code",
   "execution_count": 28,
   "metadata": {
    "collapsed": false
   },
   "outputs": [
    {
     "data": {
      "text/html": [
       "<div>\n",
       "<table border=\"1\" class=\"dataframe\">\n",
       "  <thead>\n",
       "    <tr style=\"text-align: right;\">\n",
       "      <th></th>\n",
       "      <th>ind_ahor_fin_ult1</th>\n",
       "      <th>ind_aval_fin_ult1</th>\n",
       "      <th>ind_cco_fin_ult1</th>\n",
       "      <th>ind_cder_fin_ult1</th>\n",
       "      <th>ind_cno_fin_ult1</th>\n",
       "      <th>ind_ctju_fin_ult1</th>\n",
       "      <th>ind_ctma_fin_ult1</th>\n",
       "      <th>ind_ctop_fin_ult1</th>\n",
       "      <th>ind_ctpp_fin_ult1</th>\n",
       "      <th>ind_deco_fin_ult1</th>\n",
       "      <th>...</th>\n",
       "      <th>ind_hip_fin_ult1</th>\n",
       "      <th>ind_plan_fin_ult1</th>\n",
       "      <th>ind_pres_fin_ult1</th>\n",
       "      <th>ind_reca_fin_ult1</th>\n",
       "      <th>ind_tjcr_fin_ult1</th>\n",
       "      <th>ind_valo_fin_ult1</th>\n",
       "      <th>ind_viv_fin_ult1</th>\n",
       "      <th>ind_nomina_ult1</th>\n",
       "      <th>ind_nom_pens_ult1</th>\n",
       "      <th>ind_recibo_ult1</th>\n",
       "    </tr>\n",
       "  </thead>\n",
       "  <tbody>\n",
       "    <tr>\n",
       "      <th>5058102</th>\n",
       "      <td>0.0</td>\n",
       "      <td>0.0</td>\n",
       "      <td>0.0</td>\n",
       "      <td>0.0</td>\n",
       "      <td>0.0</td>\n",
       "      <td>0.0</td>\n",
       "      <td>0.0</td>\n",
       "      <td>0.0</td>\n",
       "      <td>0.0</td>\n",
       "      <td>0.0</td>\n",
       "      <td>...</td>\n",
       "      <td>0.0</td>\n",
       "      <td>0.0</td>\n",
       "      <td>0.0</td>\n",
       "      <td>0.0</td>\n",
       "      <td>0.0</td>\n",
       "      <td>0.0</td>\n",
       "      <td>0.0</td>\n",
       "      <td>0.0</td>\n",
       "      <td>0.0</td>\n",
       "      <td>0.0</td>\n",
       "    </tr>\n",
       "    <tr>\n",
       "      <th>6247377</th>\n",
       "      <td>0.0</td>\n",
       "      <td>0.0</td>\n",
       "      <td>0.0</td>\n",
       "      <td>0.0</td>\n",
       "      <td>0.0</td>\n",
       "      <td>0.0</td>\n",
       "      <td>0.0</td>\n",
       "      <td>0.0</td>\n",
       "      <td>0.0</td>\n",
       "      <td>0.0</td>\n",
       "      <td>...</td>\n",
       "      <td>0.0</td>\n",
       "      <td>0.0</td>\n",
       "      <td>0.0</td>\n",
       "      <td>0.0</td>\n",
       "      <td>0.0</td>\n",
       "      <td>0.0</td>\n",
       "      <td>0.0</td>\n",
       "      <td>0.0</td>\n",
       "      <td>0.0</td>\n",
       "      <td>0.0</td>\n",
       "    </tr>\n",
       "    <tr>\n",
       "      <th>6574995</th>\n",
       "      <td>0.0</td>\n",
       "      <td>0.0</td>\n",
       "      <td>0.0</td>\n",
       "      <td>0.0</td>\n",
       "      <td>0.0</td>\n",
       "      <td>0.0</td>\n",
       "      <td>0.0</td>\n",
       "      <td>0.0</td>\n",
       "      <td>0.0</td>\n",
       "      <td>0.0</td>\n",
       "      <td>...</td>\n",
       "      <td>0.0</td>\n",
       "      <td>0.0</td>\n",
       "      <td>0.0</td>\n",
       "      <td>0.0</td>\n",
       "      <td>0.0</td>\n",
       "      <td>0.0</td>\n",
       "      <td>0.0</td>\n",
       "      <td>0.0</td>\n",
       "      <td>0.0</td>\n",
       "      <td>0.0</td>\n",
       "    </tr>\n",
       "    <tr>\n",
       "      <th>7780192</th>\n",
       "      <td>0.0</td>\n",
       "      <td>0.0</td>\n",
       "      <td>0.0</td>\n",
       "      <td>0.0</td>\n",
       "      <td>0.0</td>\n",
       "      <td>0.0</td>\n",
       "      <td>0.0</td>\n",
       "      <td>0.0</td>\n",
       "      <td>0.0</td>\n",
       "      <td>0.0</td>\n",
       "      <td>...</td>\n",
       "      <td>0.0</td>\n",
       "      <td>0.0</td>\n",
       "      <td>0.0</td>\n",
       "      <td>0.0</td>\n",
       "      <td>0.0</td>\n",
       "      <td>0.0</td>\n",
       "      <td>0.0</td>\n",
       "      <td>0.0</td>\n",
       "      <td>0.0</td>\n",
       "      <td>0.0</td>\n",
       "    </tr>\n",
       "    <tr>\n",
       "      <th>8956038</th>\n",
       "      <td>0.0</td>\n",
       "      <td>0.0</td>\n",
       "      <td>0.0</td>\n",
       "      <td>0.0</td>\n",
       "      <td>0.0</td>\n",
       "      <td>0.0</td>\n",
       "      <td>0.0</td>\n",
       "      <td>0.0</td>\n",
       "      <td>0.0</td>\n",
       "      <td>0.0</td>\n",
       "      <td>...</td>\n",
       "      <td>0.0</td>\n",
       "      <td>0.0</td>\n",
       "      <td>0.0</td>\n",
       "      <td>0.0</td>\n",
       "      <td>0.0</td>\n",
       "      <td>0.0</td>\n",
       "      <td>0.0</td>\n",
       "      <td>0.0</td>\n",
       "      <td>0.0</td>\n",
       "      <td>0.0</td>\n",
       "    </tr>\n",
       "  </tbody>\n",
       "</table>\n",
       "<p>5 rows × 24 columns</p>\n",
       "</div>"
      ],
      "text/plain": [
       "         ind_ahor_fin_ult1  ind_aval_fin_ult1  ind_cco_fin_ult1  \\\n",
       "5058102                0.0                0.0               0.0   \n",
       "6247377                0.0                0.0               0.0   \n",
       "6574995                0.0                0.0               0.0   \n",
       "7780192                0.0                0.0               0.0   \n",
       "8956038                0.0                0.0               0.0   \n",
       "\n",
       "         ind_cder_fin_ult1  ind_cno_fin_ult1  ind_ctju_fin_ult1  \\\n",
       "5058102                0.0               0.0                0.0   \n",
       "6247377                0.0               0.0                0.0   \n",
       "6574995                0.0               0.0                0.0   \n",
       "7780192                0.0               0.0                0.0   \n",
       "8956038                0.0               0.0                0.0   \n",
       "\n",
       "         ind_ctma_fin_ult1  ind_ctop_fin_ult1  ind_ctpp_fin_ult1  \\\n",
       "5058102                0.0                0.0                0.0   \n",
       "6247377                0.0                0.0                0.0   \n",
       "6574995                0.0                0.0                0.0   \n",
       "7780192                0.0                0.0                0.0   \n",
       "8956038                0.0                0.0                0.0   \n",
       "\n",
       "         ind_deco_fin_ult1       ...         ind_hip_fin_ult1  \\\n",
       "5058102                0.0       ...                      0.0   \n",
       "6247377                0.0       ...                      0.0   \n",
       "6574995                0.0       ...                      0.0   \n",
       "7780192                0.0       ...                      0.0   \n",
       "8956038                0.0       ...                      0.0   \n",
       "\n",
       "         ind_plan_fin_ult1  ind_pres_fin_ult1  ind_reca_fin_ult1  \\\n",
       "5058102                0.0                0.0                0.0   \n",
       "6247377                0.0                0.0                0.0   \n",
       "6574995                0.0                0.0                0.0   \n",
       "7780192                0.0                0.0                0.0   \n",
       "8956038                0.0                0.0                0.0   \n",
       "\n",
       "         ind_tjcr_fin_ult1  ind_valo_fin_ult1  ind_viv_fin_ult1  \\\n",
       "5058102                0.0                0.0               0.0   \n",
       "6247377                0.0                0.0               0.0   \n",
       "6574995                0.0                0.0               0.0   \n",
       "7780192                0.0                0.0               0.0   \n",
       "8956038                0.0                0.0               0.0   \n",
       "\n",
       "         ind_nomina_ult1  ind_nom_pens_ult1  ind_recibo_ult1  \n",
       "5058102              0.0                0.0              0.0  \n",
       "6247377              0.0                0.0              0.0  \n",
       "6574995              0.0                0.0              0.0  \n",
       "7780192              0.0                0.0              0.0  \n",
       "8956038              0.0                0.0              0.0  \n",
       "\n",
       "[5 rows x 24 columns]"
      ]
     },
     "execution_count": 28,
     "metadata": {},
     "output_type": "execute_result"
    }
   ],
   "source": [
    "y_train.head()"
   ]
  },
  {
   "cell_type": "markdown",
   "metadata": {},
   "source": [
    "### Preprocess"
   ]
  },
  {
   "cell_type": "code",
   "execution_count": 29,
   "metadata": {
    "collapsed": false
   },
   "outputs": [],
   "source": [
    "# scale features\n",
    "scaler = MinMaxScaler()\n",
    "X_train = scaler.fit_transform(X_train)\n",
    "y_train = y_train.values"
   ]
  },
  {
   "cell_type": "code",
   "execution_count": 30,
   "metadata": {
    "collapsed": true
   },
   "outputs": [],
   "source": [
    "X_val = scaler.transform(X_val)\n",
    "y_val = y_val.values"
   ]
  },
  {
   "cell_type": "markdown",
   "metadata": {},
   "source": [
    "### Classification"
   ]
  },
  {
   "cell_type": "markdown",
   "metadata": {},
   "source": [
    "Create a deep neural network in tensorflow to predict as a classifier. Output is a softmax prediction, with the probability of belonging to each class\n",
    "\n",
    "Will this work if there are multiple classes????"
   ]
  },
  {
   "cell_type": "code",
   "execution_count": 31,
   "metadata": {
    "collapsed": true
   },
   "outputs": [],
   "source": [
    "import tensorflow as tf"
   ]
  },
  {
   "cell_type": "code",
   "execution_count": 32,
   "metadata": {
    "collapsed": true
   },
   "outputs": [],
   "source": [
    "# define width of each layer\n",
    "layer_width = {\n",
    "    'fc1': 1000,\n",
    "    'fc2': 600,\n",
    "    'fc3': 300,\n",
    "    'out': y_train.shape[1]\n",
    "}"
   ]
  },
  {
   "cell_type": "code",
   "execution_count": 33,
   "metadata": {
    "collapsed": false
   },
   "outputs": [],
   "source": [
    "# fixed parameters\n",
    "n_classes = len(np.unique(y_train))\n",
    "init_std = 0.03\n",
    "\n",
    "# weights and biases\n",
    "weights = {\n",
    "    'fc1': tf.Variable(tf.truncated_normal([X_train.shape[1],layer_width['fc1']], \n",
    "                                           stddev=init_std), trainable=True),\n",
    "    'fc2': tf.Variable(tf.truncated_normal([layer_width['fc1'],layer_width['fc2']], \n",
    "                                           stddev=init_std), trainable=True),\n",
    "    'fc3': tf.Variable(tf.truncated_normal([layer_width['fc2'],layer_width['fc3']], \n",
    "                                           stddev=init_std), trainable=True),\n",
    "    'out': tf.Variable(tf.truncated_normal([layer_width['fc3'],layer_width['out']], \n",
    "                                           stddev=init_std), trainable=True)\n",
    "}\n",
    "\n",
    "biases = {\n",
    "    'fc1': tf.Variable(tf.truncated_normal([layer_width['fc1']], \n",
    "                                           stddev=init_std), trainable=True),\n",
    "    'fc2': tf.Variable(tf.truncated_normal([layer_width['fc2']], \n",
    "                                           stddev=init_std), trainable=True),\n",
    "    'fc3': tf.Variable(tf.truncated_normal([layer_width['fc3']], \n",
    "                                           stddev=init_std), trainable=True),\n",
    "    'out': tf.Variable(tf.truncated_normal([layer_width['out']], \n",
    "                                           stddev=init_std), trainable=True)\n",
    "}"
   ]
  },
  {
   "cell_type": "code",
   "execution_count": 34,
   "metadata": {
    "collapsed": true
   },
   "outputs": [],
   "source": [
    "# create neural net\n",
    "def neural_net(x, weights, biases):\n",
    "    \n",
    "    # lay1\n",
    "    fc1 = tf.add(tf.matmul(x, weights['fc1']), biases['fc1'])\n",
    "    fc1 = tf.nn.relu(fc1)\n",
    "\n",
    "    # lay1\n",
    "    fc2 = tf.add(tf.matmul(fc1, weights['fc2']), biases['fc2'])\n",
    "    fc2 = tf.tanh(fc2)\n",
    "\n",
    "    # lay1\n",
    "    fc3 = tf.add(tf.matmul(fc2, weights['fc3']), biases['fc3'])\n",
    "    fc3 = tf.tanh(fc3)\n",
    "\n",
    "    # lay1\n",
    "    out = tf.add(tf.matmul(fc3, weights['out']), biases['out'])\n",
    "    \n",
    "    return out"
   ]
  },
  {
   "cell_type": "code",
   "execution_count": 35,
   "metadata": {
    "collapsed": true
   },
   "outputs": [],
   "source": [
    "# learning parameters\n",
    "batch_size = 20000\n",
    "training_epochs = 15"
   ]
  },
  {
   "cell_type": "code",
   "execution_count": 36,
   "metadata": {
    "collapsed": false
   },
   "outputs": [],
   "source": [
    "# graph input\n",
    "\n",
    "# instead of batch_size, use None to allow for variable input\n",
    "x = tf.placeholder(tf.float32, shape=(None, X_train.shape[1]))\n",
    "y = tf.placeholder(tf.int32, shape=(None))\n",
    "global_step = tf.Variable(0, trainable=False)\n",
    "learning_rate = tf.train.exponential_decay(0.04, global_step, decay_steps=X_train.shape[0]/batch_size, \n",
    "                                           decay_rate=.80, staircase=True)\n",
    "logits = neural_net(x, weights, biases)"
   ]
  },
  {
   "cell_type": "code",
   "execution_count": 37,
   "metadata": {
    "collapsed": true
   },
   "outputs": [],
   "source": [
    "# loss, optimizer, and variables initialization \n",
    "cross_entropy = tf.nn.softmax_cross_entropy_with_logits(\n",
    "    logits, y, name='xentropy')\n",
    "reg = .01\n",
    "loss = (tf.reduce_mean(cross_entropy) + \n",
    "        reg * tf.nn.l2_loss(weights['fc1']) + \n",
    "        reg * tf.nn.l2_loss(weights['fc2']) + \n",
    "        reg * tf.nn.l2_loss(weights['fc3']) + \n",
    "        reg * tf.nn.l2_loss(weights['out'])) \n",
    "        \n",
    "# optimizer\n",
    "tf.scalar_summary(loss.op.name, loss)\n",
    "optimizer = tf.train.GradientDescentOptimizer(learning_rate)\n",
    "train_op = optimizer.minimize(loss, global_step=global_step)\n",
    "\n",
    "#evaluation function\n",
    "correct_prediction = tf.equal(tf.argmax(logits, 1), tf.argmax(logits,1 ))\n",
    "accuracy = tf.reduce_mean(tf.cast(correct_prediction, tf.float32))\n",
    "\n",
    "#init\n",
    "init = tf.initialize_all_variables()"
   ]
  },
  {
   "cell_type": "code",
   "execution_count": 39,
   "metadata": {
    "collapsed": false
   },
   "outputs": [
    {
     "name": "stdout",
     "output_type": "stream",
     "text": [
      "Epoch: 0001, Cost: 4.16050196, Acc@Training: 1.000, Acc@Validate: 1.000, Time: 93.39\n",
      "Epoch: 0002, Cost: 4.26208973, Acc@Training: 1.000, Acc@Validate: 1.000, Time: 93.12\n",
      "Epoch: 0003, Cost: 4.56675863, Acc@Training: 1.000, Acc@Validate: 1.000, Time: 93.58\n",
      "Epoch: 0004, Cost: 4.94476700, Acc@Training: 1.000, Acc@Validate: 1.000, Time: 91.80\n",
      "Epoch: 0005, Cost: 5.31937408, Acc@Training: 1.000, Acc@Validate: 1.000, Time: 91.50\n",
      "Epoch: 0006, Cost: 5.67226601, Acc@Training: 1.000, Acc@Validate: 1.000, Time: 90.97\n",
      "Epoch: 0007, Cost: 5.98216009, Acc@Training: 1.000, Acc@Validate: 1.000, Time: 91.38\n",
      "Epoch: 0008, Cost: 6.25124788, Acc@Training: 1.000, Acc@Validate: 1.000, Time: 92.04\n",
      "Epoch: 0009, Cost: 6.47582150, Acc@Training: 1.000, Acc@Validate: 1.000, Time: 91.93\n",
      "Epoch: 0010, Cost: 6.66260242, Acc@Training: 1.000, Acc@Validate: 1.000, Time: 93.13\n",
      "Epoch: 0011, Cost: 6.81568241, Acc@Training: 1.000, Acc@Validate: 1.000, Time: 90.78\n",
      "Epoch: 0012, Cost: 6.94091320, Acc@Training: 1.000, Acc@Validate: 1.000, Time: 90.86\n",
      "Epoch: 0013, Cost: 7.04196644, Acc@Training: 1.000, Acc@Validate: 1.000, Time: 90.89\n",
      "Epoch: 0014, Cost: 7.12384224, Acc@Training: 1.000, Acc@Validate: 1.000, Time: 90.97\n",
      "Epoch: 0015, Cost: 7.19004822, Acc@Training: 1.000, Acc@Validate: 1.000, Time: 90.72\n",
      "Optimization Finished! Time to complete: 1377.08\n"
     ]
    }
   ],
   "source": [
    "# launch graph\n",
    "sess = tf.Session()\n",
    "sess.run(init)\n",
    "\n",
    "t0 = time()\n",
    "# create session variables\n",
    "feed_dict={\n",
    "    x: None,\n",
    "    y: None\n",
    "}\n",
    "\n",
    "num_samples = 50000\n",
    "\n",
    "# sample train and validation set\n",
    "np.random.seed(42)\n",
    "indices_train = np.random.permutation(y_train.shape[0])[:num_samples]\n",
    "\n",
    "# init scores\n",
    "scores_train = []\n",
    "scores_validate = []\n",
    "losses = []\n",
    "epochs = []\n",
    "\n",
    "# training cycle\n",
    "for epoch in range(1, training_epochs+1):\n",
    "\n",
    "    t1 = time()\n",
    "    # set size of batch\n",
    "    total_batch = int(X_train.shape[0]/batch_size)+1\n",
    "\n",
    "    # loop over batches\n",
    "    for i in range(total_batch):                \n",
    "        feed_dict[x] = X_train[i*batch_size:(i+1)*batch_size]\n",
    "        feed_dict[y] = y_train[i*batch_size:(i+1)*batch_size]\n",
    "        _, loss_value = sess.run([train_op, loss], feed_dict)\n",
    "\n",
    "    # update last loss value\n",
    "    losses.append(loss_value)\n",
    "\n",
    "    # test model in training set\n",
    "    feed_dict[x] = X_train[indices_train]\n",
    "    feed_dict[y] = y_train[indices_train]\n",
    "    acc = sess.run(accuracy, feed_dict) \n",
    "    scores_train.append(acc)\n",
    "\n",
    "    # test model in validation set\n",
    "    feed_dict[x] = X_val\n",
    "    feed_dict[y] = y_val\n",
    "    acc = sess.run(accuracy, feed_dict) \n",
    "    scores_validate.append(acc)\n",
    "\n",
    "    print(\"Epoch: {:0>4}, Cost: {:.8f}, Acc@Training: {:.3f}, Acc@Validate: {:.3f}, Time: {:.2f}\".format(\n",
    "            epoch, losses[-1], scores_train[-1], scores_validate[-1], time()-t1))        \n",
    "\n",
    "    # print(\"Epoch: {:0>4}, Cost: {:.8f}, Time: {:.2f}\".format(epoch, losses[-1], time()-t1)) \n",
    "\n",
    "#     if epoch>1:\n",
    "#         #if scores_train[-1] >= 1:\n",
    "#         if (scores_validate[-1] < scores_validate[-2]) or (scores_validate[-1] > .998):\n",
    "#             break\n",
    "\n",
    "print(\"Optimization Finished! Time to complete: {:.2f}\".format(time()-t0))"
   ]
  },
  {
   "cell_type": "code",
   "execution_count": 64,
   "metadata": {
    "collapsed": false
   },
   "outputs": [
    {
     "data": {
      "text/plain": [
       "'train_model.ckpt'"
      ]
     },
     "execution_count": 64,
     "metadata": {},
     "output_type": "execute_result"
    }
   ],
   "source": [
    "# save model to restore later\n",
    "save_file = 'train_model.ckpt'\n",
    "saver = tf.train.Saver()\n",
    "saver.save(sess, save_file)"
   ]
  },
  {
   "cell_type": "markdown",
   "metadata": {},
   "source": [
    "### Predict for test data"
   ]
  },
  {
   "cell_type": "code",
   "execution_count": 110,
   "metadata": {
    "collapsed": false
   },
   "outputs": [],
   "source": [
    "from preproc import prepare_test_data"
   ]
  },
  {
   "cell_type": "code",
   "execution_count": 111,
   "metadata": {
    "collapsed": false
   },
   "outputs": [],
   "source": [
    "X_test, features_test, ids_test = prepare_test_data()"
   ]
  },
  {
   "cell_type": "code",
   "execution_count": 112,
   "metadata": {
    "collapsed": false
   },
   "outputs": [],
   "source": [
    "features_selected = []\n",
    "features_train = X.columns.values\n",
    "for i, f in enumerate(features_test):\n",
    "    if f in features_train:\n",
    "        features_selected.append(i) "
   ]
  },
  {
   "cell_type": "code",
   "execution_count": 113,
   "metadata": {
    "collapsed": false
   },
   "outputs": [],
   "source": [
    "X_test = X_test[:, features_selected]"
   ]
  },
  {
   "cell_type": "code",
   "execution_count": 133,
   "metadata": {
    "collapsed": false
   },
   "outputs": [
    {
     "ename": "ValueError",
     "evalue": "Cannot feed value of shape (929615, 104) for Tensor 'Placeholder:0', which has shape '(?, 105)'",
     "output_type": "error",
     "traceback": [
      "\u001b[0;31m---------------------------------------------------------------------------\u001b[0m",
      "\u001b[0;31mValueError\u001b[0m                                Traceback (most recent call last)",
      "\u001b[0;32m<ipython-input-133-b50df13f07f0>\u001b[0m in \u001b[0;36m<module>\u001b[0;34m()\u001b[0m\n\u001b[1;32m      2\u001b[0m \u001b[0msoftmax_pred\u001b[0m \u001b[0;34m=\u001b[0m \u001b[0mtf\u001b[0m\u001b[0;34m.\u001b[0m\u001b[0mnn\u001b[0m\u001b[0;34m.\u001b[0m\u001b[0mtop_k\u001b[0m\u001b[0;34m(\u001b[0m\u001b[0mtf\u001b[0m\u001b[0;34m.\u001b[0m\u001b[0mnn\u001b[0m\u001b[0;34m.\u001b[0m\u001b[0msoftmax\u001b[0m\u001b[0;34m(\u001b[0m\u001b[0mlogits\u001b[0m\u001b[0;34m)\u001b[0m\u001b[0;34m,\u001b[0m \u001b[0;36m7\u001b[0m\u001b[0;34m)\u001b[0m\u001b[0;34m\u001b[0m\u001b[0m\n\u001b[1;32m      3\u001b[0m \u001b[0mfeed_dict\u001b[0m\u001b[0;34m[\u001b[0m\u001b[0mx\u001b[0m\u001b[0;34m]\u001b[0m \u001b[0;34m=\u001b[0m \u001b[0mX_test\u001b[0m\u001b[0;34m\u001b[0m\u001b[0m\n\u001b[0;32m----> 4\u001b[0;31m \u001b[0mclasses\u001b[0m \u001b[0;34m=\u001b[0m \u001b[0msess\u001b[0m\u001b[0;34m.\u001b[0m\u001b[0mrun\u001b[0m\u001b[0;34m(\u001b[0m\u001b[0msoftmax_pred\u001b[0m\u001b[0;34m,\u001b[0m \u001b[0mfeed_dict\u001b[0m\u001b[0;34m)\u001b[0m\u001b[0;34m\u001b[0m\u001b[0m\n\u001b[0m",
      "\u001b[0;32m/Users/lucasosouza/anaconda/envs/udacity/lib/python3.5/site-packages/tensorflow/python/client/session.py\u001b[0m in \u001b[0;36mrun\u001b[0;34m(self, fetches, feed_dict, options, run_metadata)\u001b[0m\n\u001b[1;32m    715\u001b[0m     \u001b[0;32mtry\u001b[0m\u001b[0;34m:\u001b[0m\u001b[0;34m\u001b[0m\u001b[0m\n\u001b[1;32m    716\u001b[0m       result = self._run(None, fetches, feed_dict, options_ptr,\n\u001b[0;32m--> 717\u001b[0;31m                          run_metadata_ptr)\n\u001b[0m\u001b[1;32m    718\u001b[0m       \u001b[0;32mif\u001b[0m \u001b[0mrun_metadata\u001b[0m\u001b[0;34m:\u001b[0m\u001b[0;34m\u001b[0m\u001b[0m\n\u001b[1;32m    719\u001b[0m         \u001b[0mproto_data\u001b[0m \u001b[0;34m=\u001b[0m \u001b[0mtf_session\u001b[0m\u001b[0;34m.\u001b[0m\u001b[0mTF_GetBuffer\u001b[0m\u001b[0;34m(\u001b[0m\u001b[0mrun_metadata_ptr\u001b[0m\u001b[0;34m)\u001b[0m\u001b[0;34m\u001b[0m\u001b[0m\n",
      "\u001b[0;32m/Users/lucasosouza/anaconda/envs/udacity/lib/python3.5/site-packages/tensorflow/python/client/session.py\u001b[0m in \u001b[0;36m_run\u001b[0;34m(self, handle, fetches, feed_dict, options, run_metadata)\u001b[0m\n\u001b[1;32m    892\u001b[0m                 \u001b[0;34m'Cannot feed value of shape %r for Tensor %r, '\u001b[0m\u001b[0;34m\u001b[0m\u001b[0m\n\u001b[1;32m    893\u001b[0m                 \u001b[0;34m'which has shape %r'\u001b[0m\u001b[0;34m\u001b[0m\u001b[0m\n\u001b[0;32m--> 894\u001b[0;31m                 % (np_val.shape, subfeed_t.name, str(subfeed_t.get_shape())))\n\u001b[0m\u001b[1;32m    895\u001b[0m           \u001b[0;32mif\u001b[0m \u001b[0;32mnot\u001b[0m \u001b[0mself\u001b[0m\u001b[0;34m.\u001b[0m\u001b[0mgraph\u001b[0m\u001b[0;34m.\u001b[0m\u001b[0mis_feedable\u001b[0m\u001b[0;34m(\u001b[0m\u001b[0msubfeed_t\u001b[0m\u001b[0;34m)\u001b[0m\u001b[0;34m:\u001b[0m\u001b[0;34m\u001b[0m\u001b[0m\n\u001b[1;32m    896\u001b[0m             \u001b[0;32mraise\u001b[0m \u001b[0mValueError\u001b[0m\u001b[0;34m(\u001b[0m\u001b[0;34m'Tensor %s may not be fed.'\u001b[0m \u001b[0;34m%\u001b[0m \u001b[0msubfeed_t\u001b[0m\u001b[0;34m)\u001b[0m\u001b[0;34m\u001b[0m\u001b[0m\n",
      "\u001b[0;31mValueError\u001b[0m: Cannot feed value of shape (929615, 104) for Tensor 'Placeholder:0', which has shape '(?, 105)'"
     ]
    }
   ],
   "source": [
    "# get probability distribution for new images\n",
    "softmax_pred = tf.nn.top_k(tf.nn.softmax(logits), 7)\n",
    "feed_dict[x] = X_test\n",
    "classes = sess.run(softmax_pred, feed_dict) "
   ]
  },
  {
   "cell_type": "code",
   "execution_count": 115,
   "metadata": {
    "collapsed": false
   },
   "outputs": [
    {
     "name": "stdout",
     "output_type": "stream",
     "text": [
      "[(0.064372271, 2), (0.05852136, 23), (0.046644129, 22), (0.046112314, 21), (0.045572311, 4), (0.044099823, 12), (0.043632623, 6)]\n",
      "[(0.064372189, 2), (0.058521286, 23), (0.046644069, 22), (0.046112962, 21), (0.045572251, 4), (0.044099767, 12), (0.043632567, 6)]\n",
      "[(0.064372279, 2), (0.058521368, 23), (0.046644136, 22), (0.046113025, 21), (0.045572314, 4), (0.044099826, 12), (0.043632627, 6)]\n",
      "[(0.064372323, 2), (0.058521409, 23), (0.046644166, 22), (0.046112351, 21), (0.045572694, 4), (0.044099856, 12), (0.043632656, 6)]\n",
      "[(0.064372249, 2), (0.058521342, 23), (0.046644114, 22), (0.046113003, 21), (0.045572296, 4), (0.044099808, 12), (0.043632608, 6)]\n"
     ]
    }
   ],
   "source": [
    "for i in range(5):\n",
    "    print(list(zip(classes.values[i], classes.indices[i])))"
   ]
  },
  {
   "cell_type": "code",
   "execution_count": 130,
   "metadata": {
    "collapsed": false
   },
   "outputs": [
    {
     "data": {
      "text/plain": [
       "(162253, 7)"
      ]
     },
     "execution_count": 130,
     "metadata": {},
     "output_type": "execute_result"
    }
   ],
   "source": [
    "classes.indices.shape"
   ]
  },
  {
   "cell_type": "code",
   "execution_count": 132,
   "metadata": {
    "collapsed": false
   },
   "outputs": [
    {
     "data": {
      "text/plain": [
       "(929615,)"
      ]
     },
     "execution_count": 132,
     "metadata": {},
     "output_type": "execute_result"
    }
   ],
   "source": [
    "ids_test.shape"
   ]
  },
  {
   "cell_type": "markdown",
   "metadata": {},
   "source": [
    "### Export to format"
   ]
  },
  {
   "cell_type": "code",
   "execution_count": 117,
   "metadata": {
    "collapsed": false
   },
   "outputs": [
    {
     "data": {
      "text/plain": [
       "array([[ 0.26666667,  0.65498652,  0.        , ...,  1.        ,\n",
       "         1.        ,  0.        ],\n",
       "       [ 0.26666667,  0.65498652,  0.        , ...,  1.        ,\n",
       "         1.        ,  0.66517824],\n",
       "       [ 0.26666667,  0.65498652,  0.        , ...,  1.        ,\n",
       "         1.        ,  0.66517931],\n",
       "       ..., \n",
       "       [ 0.26666667,  0.65498652,  0.        , ...,  1.        ,\n",
       "         1.        ,  0.33098146],\n",
       "       [ 0.26666667,  0.65498652,  0.        , ...,  1.        ,\n",
       "         1.        ,  0.33098254],\n",
       "       [ 0.26666667,  0.65498652,  0.        , ...,  1.        ,\n",
       "         1.        ,  0.33098361]])"
      ]
     },
     "execution_count": 117,
     "metadata": {},
     "output_type": "execute_result"
    }
   ],
   "source": [
    "X_test"
   ]
  },
  {
   "cell_type": "code",
   "execution_count": 121,
   "metadata": {
    "collapsed": false
   },
   "outputs": [
    {
     "data": {
      "text/plain": [
       "pandas.core.series.Series"
      ]
     },
     "execution_count": 121,
     "metadata": {},
     "output_type": "execute_result"
    }
   ],
   "source": [
    "type(ids_test)"
   ]
  },
  {
   "cell_type": "code",
   "execution_count": 126,
   "metadata": {
    "collapsed": false
   },
   "outputs": [
    {
     "ename": "ValueError",
     "evalue": "Shape of passed values is (7, 162253), indices imply (7, 929615)",
     "output_type": "error",
     "traceback": [
      "\u001b[0;31m---------------------------------------------------------------------------\u001b[0m",
      "\u001b[0;31mValueError\u001b[0m                                Traceback (most recent call last)",
      "\u001b[0;32m/Users/lucasosouza/anaconda/envs/udacity/lib/python3.5/site-packages/pandas/core/internals.py\u001b[0m in \u001b[0;36mcreate_block_manager_from_blocks\u001b[0;34m(blocks, axes)\u001b[0m\n\u001b[1;32m   3985\u001b[0m \u001b[0;34m\u001b[0m\u001b[0m\n\u001b[0;32m-> 3986\u001b[0;31m         \u001b[0mmgr\u001b[0m \u001b[0;34m=\u001b[0m \u001b[0mBlockManager\u001b[0m\u001b[0;34m(\u001b[0m\u001b[0mblocks\u001b[0m\u001b[0;34m,\u001b[0m \u001b[0maxes\u001b[0m\u001b[0;34m)\u001b[0m\u001b[0;34m\u001b[0m\u001b[0m\n\u001b[0m\u001b[1;32m   3987\u001b[0m         \u001b[0mmgr\u001b[0m\u001b[0;34m.\u001b[0m\u001b[0m_consolidate_inplace\u001b[0m\u001b[0;34m(\u001b[0m\u001b[0;34m)\u001b[0m\u001b[0;34m\u001b[0m\u001b[0m\n",
      "\u001b[0;32m/Users/lucasosouza/anaconda/envs/udacity/lib/python3.5/site-packages/pandas/core/internals.py\u001b[0m in \u001b[0;36m__init__\u001b[0;34m(self, blocks, axes, do_integrity_check, fastpath)\u001b[0m\n\u001b[1;32m   2593\u001b[0m         \u001b[0;32mif\u001b[0m \u001b[0mdo_integrity_check\u001b[0m\u001b[0;34m:\u001b[0m\u001b[0;34m\u001b[0m\u001b[0m\n\u001b[0;32m-> 2594\u001b[0;31m             \u001b[0mself\u001b[0m\u001b[0;34m.\u001b[0m\u001b[0m_verify_integrity\u001b[0m\u001b[0;34m(\u001b[0m\u001b[0;34m)\u001b[0m\u001b[0;34m\u001b[0m\u001b[0m\n\u001b[0m\u001b[1;32m   2595\u001b[0m \u001b[0;34m\u001b[0m\u001b[0m\n",
      "\u001b[0;32m/Users/lucasosouza/anaconda/envs/udacity/lib/python3.5/site-packages/pandas/core/internals.py\u001b[0m in \u001b[0;36m_verify_integrity\u001b[0;34m(self)\u001b[0m\n\u001b[1;32m   2803\u001b[0m             \u001b[0;32mif\u001b[0m \u001b[0mblock\u001b[0m\u001b[0;34m.\u001b[0m\u001b[0m_verify_integrity\u001b[0m \u001b[0;32mand\u001b[0m \u001b[0mblock\u001b[0m\u001b[0;34m.\u001b[0m\u001b[0mshape\u001b[0m\u001b[0;34m[\u001b[0m\u001b[0;36m1\u001b[0m\u001b[0;34m:\u001b[0m\u001b[0;34m]\u001b[0m \u001b[0;34m!=\u001b[0m \u001b[0mmgr_shape\u001b[0m\u001b[0;34m[\u001b[0m\u001b[0;36m1\u001b[0m\u001b[0;34m:\u001b[0m\u001b[0;34m]\u001b[0m\u001b[0;34m:\u001b[0m\u001b[0;34m\u001b[0m\u001b[0m\n\u001b[0;32m-> 2804\u001b[0;31m                 \u001b[0mconstruction_error\u001b[0m\u001b[0;34m(\u001b[0m\u001b[0mtot_items\u001b[0m\u001b[0;34m,\u001b[0m \u001b[0mblock\u001b[0m\u001b[0;34m.\u001b[0m\u001b[0mshape\u001b[0m\u001b[0;34m[\u001b[0m\u001b[0;36m1\u001b[0m\u001b[0;34m:\u001b[0m\u001b[0;34m]\u001b[0m\u001b[0;34m,\u001b[0m \u001b[0mself\u001b[0m\u001b[0;34m.\u001b[0m\u001b[0maxes\u001b[0m\u001b[0;34m)\u001b[0m\u001b[0;34m\u001b[0m\u001b[0m\n\u001b[0m\u001b[1;32m   2805\u001b[0m         \u001b[0;32mif\u001b[0m \u001b[0mlen\u001b[0m\u001b[0;34m(\u001b[0m\u001b[0mself\u001b[0m\u001b[0;34m.\u001b[0m\u001b[0mitems\u001b[0m\u001b[0;34m)\u001b[0m \u001b[0;34m!=\u001b[0m \u001b[0mtot_items\u001b[0m\u001b[0;34m:\u001b[0m\u001b[0;34m\u001b[0m\u001b[0m\n",
      "\u001b[0;32m/Users/lucasosouza/anaconda/envs/udacity/lib/python3.5/site-packages/pandas/core/internals.py\u001b[0m in \u001b[0;36mconstruction_error\u001b[0;34m(tot_items, block_shape, axes, e)\u001b[0m\n\u001b[1;32m   3969\u001b[0m     raise ValueError(\"Shape of passed values is {0}, indices imply {1}\".format(\n\u001b[0;32m-> 3970\u001b[0;31m         passed, implied))\n\u001b[0m\u001b[1;32m   3971\u001b[0m \u001b[0;34m\u001b[0m\u001b[0m\n",
      "\u001b[0;31mValueError\u001b[0m: Shape of passed values is (7, 162253), indices imply (7, 929615)",
      "\nDuring handling of the above exception, another exception occurred:\n",
      "\u001b[0;31mValueError\u001b[0m                                Traceback (most recent call last)",
      "\u001b[0;32m<ipython-input-126-f501d6999c46>\u001b[0m in \u001b[0;36m<module>\u001b[0;34m()\u001b[0m\n\u001b[0;32m----> 1\u001b[0;31m \u001b[0mresults\u001b[0m \u001b[0;34m=\u001b[0m \u001b[0mpd\u001b[0m\u001b[0;34m.\u001b[0m\u001b[0mDataFrame\u001b[0m\u001b[0;34m(\u001b[0m\u001b[0mclasses\u001b[0m\u001b[0;34m.\u001b[0m\u001b[0mindices\u001b[0m\u001b[0;34m,\u001b[0m \u001b[0mindex\u001b[0m\u001b[0;34m=\u001b[0m\u001b[0mids_test\u001b[0m\u001b[0;34m.\u001b[0m\u001b[0mvalues\u001b[0m\u001b[0;34m)\u001b[0m\u001b[0;34m\u001b[0m\u001b[0m\n\u001b[0m",
      "\u001b[0;32m/Users/lucasosouza/anaconda/envs/udacity/lib/python3.5/site-packages/pandas/core/frame.py\u001b[0m in \u001b[0;36m__init__\u001b[0;34m(self, data, index, columns, dtype, copy)\u001b[0m\n\u001b[1;32m    253\u001b[0m             \u001b[0;32melse\u001b[0m\u001b[0;34m:\u001b[0m\u001b[0;34m\u001b[0m\u001b[0m\n\u001b[1;32m    254\u001b[0m                 mgr = self._init_ndarray(data, index, columns, dtype=dtype,\n\u001b[0;32m--> 255\u001b[0;31m                                          copy=copy)\n\u001b[0m\u001b[1;32m    256\u001b[0m         \u001b[0;32melif\u001b[0m \u001b[0misinstance\u001b[0m\u001b[0;34m(\u001b[0m\u001b[0mdata\u001b[0m\u001b[0;34m,\u001b[0m \u001b[0;34m(\u001b[0m\u001b[0mlist\u001b[0m\u001b[0;34m,\u001b[0m \u001b[0mtypes\u001b[0m\u001b[0;34m.\u001b[0m\u001b[0mGeneratorType\u001b[0m\u001b[0;34m)\u001b[0m\u001b[0;34m)\u001b[0m\u001b[0;34m:\u001b[0m\u001b[0;34m\u001b[0m\u001b[0m\n\u001b[1;32m    257\u001b[0m             \u001b[0;32mif\u001b[0m \u001b[0misinstance\u001b[0m\u001b[0;34m(\u001b[0m\u001b[0mdata\u001b[0m\u001b[0;34m,\u001b[0m \u001b[0mtypes\u001b[0m\u001b[0;34m.\u001b[0m\u001b[0mGeneratorType\u001b[0m\u001b[0;34m)\u001b[0m\u001b[0;34m:\u001b[0m\u001b[0;34m\u001b[0m\u001b[0m\n",
      "\u001b[0;32m/Users/lucasosouza/anaconda/envs/udacity/lib/python3.5/site-packages/pandas/core/frame.py\u001b[0m in \u001b[0;36m_init_ndarray\u001b[0;34m(self, values, index, columns, dtype, copy)\u001b[0m\n\u001b[1;32m    430\u001b[0m             \u001b[0mvalues\u001b[0m \u001b[0;34m=\u001b[0m \u001b[0m_possibly_infer_to_datetimelike\u001b[0m\u001b[0;34m(\u001b[0m\u001b[0mvalues\u001b[0m\u001b[0;34m)\u001b[0m\u001b[0;34m\u001b[0m\u001b[0m\n\u001b[1;32m    431\u001b[0m \u001b[0;34m\u001b[0m\u001b[0m\n\u001b[0;32m--> 432\u001b[0;31m         \u001b[0;32mreturn\u001b[0m \u001b[0mcreate_block_manager_from_blocks\u001b[0m\u001b[0;34m(\u001b[0m\u001b[0;34m[\u001b[0m\u001b[0mvalues\u001b[0m\u001b[0;34m]\u001b[0m\u001b[0;34m,\u001b[0m \u001b[0;34m[\u001b[0m\u001b[0mcolumns\u001b[0m\u001b[0;34m,\u001b[0m \u001b[0mindex\u001b[0m\u001b[0;34m]\u001b[0m\u001b[0;34m)\u001b[0m\u001b[0;34m\u001b[0m\u001b[0m\n\u001b[0m\u001b[1;32m    433\u001b[0m \u001b[0;34m\u001b[0m\u001b[0m\n\u001b[1;32m    434\u001b[0m     \u001b[0;34m@\u001b[0m\u001b[0mproperty\u001b[0m\u001b[0;34m\u001b[0m\u001b[0m\n",
      "\u001b[0;32m/Users/lucasosouza/anaconda/envs/udacity/lib/python3.5/site-packages/pandas/core/internals.py\u001b[0m in \u001b[0;36mcreate_block_manager_from_blocks\u001b[0;34m(blocks, axes)\u001b[0m\n\u001b[1;32m   3991\u001b[0m         \u001b[0mblocks\u001b[0m \u001b[0;34m=\u001b[0m \u001b[0;34m[\u001b[0m\u001b[0mgetattr\u001b[0m\u001b[0;34m(\u001b[0m\u001b[0mb\u001b[0m\u001b[0;34m,\u001b[0m \u001b[0;34m'values'\u001b[0m\u001b[0;34m,\u001b[0m \u001b[0mb\u001b[0m\u001b[0;34m)\u001b[0m \u001b[0;32mfor\u001b[0m \u001b[0mb\u001b[0m \u001b[0;32min\u001b[0m \u001b[0mblocks\u001b[0m\u001b[0;34m]\u001b[0m\u001b[0;34m\u001b[0m\u001b[0m\n\u001b[1;32m   3992\u001b[0m         \u001b[0mtot_items\u001b[0m \u001b[0;34m=\u001b[0m \u001b[0msum\u001b[0m\u001b[0;34m(\u001b[0m\u001b[0mb\u001b[0m\u001b[0;34m.\u001b[0m\u001b[0mshape\u001b[0m\u001b[0;34m[\u001b[0m\u001b[0;36m0\u001b[0m\u001b[0;34m]\u001b[0m \u001b[0;32mfor\u001b[0m \u001b[0mb\u001b[0m \u001b[0;32min\u001b[0m \u001b[0mblocks\u001b[0m\u001b[0;34m)\u001b[0m\u001b[0;34m\u001b[0m\u001b[0m\n\u001b[0;32m-> 3993\u001b[0;31m         \u001b[0mconstruction_error\u001b[0m\u001b[0;34m(\u001b[0m\u001b[0mtot_items\u001b[0m\u001b[0;34m,\u001b[0m \u001b[0mblocks\u001b[0m\u001b[0;34m[\u001b[0m\u001b[0;36m0\u001b[0m\u001b[0;34m]\u001b[0m\u001b[0;34m.\u001b[0m\u001b[0mshape\u001b[0m\u001b[0;34m[\u001b[0m\u001b[0;36m1\u001b[0m\u001b[0;34m:\u001b[0m\u001b[0;34m]\u001b[0m\u001b[0;34m,\u001b[0m \u001b[0maxes\u001b[0m\u001b[0;34m,\u001b[0m \u001b[0me\u001b[0m\u001b[0;34m)\u001b[0m\u001b[0;34m\u001b[0m\u001b[0m\n\u001b[0m\u001b[1;32m   3994\u001b[0m \u001b[0;34m\u001b[0m\u001b[0m\n\u001b[1;32m   3995\u001b[0m \u001b[0;34m\u001b[0m\u001b[0m\n",
      "\u001b[0;32m/Users/lucasosouza/anaconda/envs/udacity/lib/python3.5/site-packages/pandas/core/internals.py\u001b[0m in \u001b[0;36mconstruction_error\u001b[0;34m(tot_items, block_shape, axes, e)\u001b[0m\n\u001b[1;32m   3968\u001b[0m         \u001b[0;32mraise\u001b[0m \u001b[0mValueError\u001b[0m\u001b[0;34m(\u001b[0m\u001b[0;34m\"Empty data passed with indices specified.\"\u001b[0m\u001b[0;34m)\u001b[0m\u001b[0;34m\u001b[0m\u001b[0m\n\u001b[1;32m   3969\u001b[0m     raise ValueError(\"Shape of passed values is {0}, indices imply {1}\".format(\n\u001b[0;32m-> 3970\u001b[0;31m         passed, implied))\n\u001b[0m\u001b[1;32m   3971\u001b[0m \u001b[0;34m\u001b[0m\u001b[0m\n\u001b[1;32m   3972\u001b[0m \u001b[0;34m\u001b[0m\u001b[0m\n",
      "\u001b[0;31mValueError\u001b[0m: Shape of passed values is (7, 162253), indices imply (7, 929615)"
     ]
    }
   ],
   "source": [
    "results = pd.DataFrame(classes.indices, index=ids_test.values)"
   ]
  },
  {
   "cell_type": "code",
   "execution_count": 124,
   "metadata": {
    "collapsed": false
   },
   "outputs": [
    {
     "data": {
      "text/html": [
       "<div>\n",
       "<table border=\"1\" class=\"dataframe\">\n",
       "  <thead>\n",
       "    <tr style=\"text-align: right;\">\n",
       "      <th></th>\n",
       "      <th>0</th>\n",
       "      <th>1</th>\n",
       "      <th>2</th>\n",
       "      <th>3</th>\n",
       "      <th>4</th>\n",
       "      <th>5</th>\n",
       "      <th>6</th>\n",
       "    </tr>\n",
       "  </thead>\n",
       "  <tbody>\n",
       "    <tr>\n",
       "      <th>0</th>\n",
       "      <td>2</td>\n",
       "      <td>23</td>\n",
       "      <td>22</td>\n",
       "      <td>21</td>\n",
       "      <td>4</td>\n",
       "      <td>12</td>\n",
       "      <td>6</td>\n",
       "    </tr>\n",
       "    <tr>\n",
       "      <th>1</th>\n",
       "      <td>2</td>\n",
       "      <td>23</td>\n",
       "      <td>22</td>\n",
       "      <td>21</td>\n",
       "      <td>4</td>\n",
       "      <td>12</td>\n",
       "      <td>6</td>\n",
       "    </tr>\n",
       "    <tr>\n",
       "      <th>2</th>\n",
       "      <td>2</td>\n",
       "      <td>23</td>\n",
       "      <td>22</td>\n",
       "      <td>21</td>\n",
       "      <td>4</td>\n",
       "      <td>12</td>\n",
       "      <td>6</td>\n",
       "    </tr>\n",
       "    <tr>\n",
       "      <th>3</th>\n",
       "      <td>2</td>\n",
       "      <td>23</td>\n",
       "      <td>22</td>\n",
       "      <td>21</td>\n",
       "      <td>4</td>\n",
       "      <td>12</td>\n",
       "      <td>6</td>\n",
       "    </tr>\n",
       "    <tr>\n",
       "      <th>4</th>\n",
       "      <td>2</td>\n",
       "      <td>23</td>\n",
       "      <td>22</td>\n",
       "      <td>21</td>\n",
       "      <td>4</td>\n",
       "      <td>12</td>\n",
       "      <td>6</td>\n",
       "    </tr>\n",
       "  </tbody>\n",
       "</table>\n",
       "</div>"
      ],
      "text/plain": [
       "   0   1   2   3  4   5  6\n",
       "0  2  23  22  21  4  12  6\n",
       "1  2  23  22  21  4  12  6\n",
       "2  2  23  22  21  4  12  6\n",
       "3  2  23  22  21  4  12  6\n",
       "4  2  23  22  21  4  12  6"
      ]
     },
     "execution_count": 124,
     "metadata": {},
     "output_type": "execute_result"
    }
   ],
   "source": [
    "results.head()"
   ]
  },
  {
   "cell_type": "code",
   "execution_count": null,
   "metadata": {
    "collapsed": true
   },
   "outputs": [],
   "source": [
    "# # export\n",
    "\n",
    "# transform results to expected output\n",
    "for label in fresults.columns:\n",
    "    fresults.ix[fresults[label]==1, label] = label\n",
    "    fresults.ix[fresults[label]==0, label] = ''\n",
    "    fresults.ix[fresults[label]==-1, label] = ''\n",
    "    \n",
    "# concatenate results\n",
    "fn_join_columns = lambda x:re.sub('\\s+', ' ', ' '.join(x)).strip()\n",
    "\n",
    "# add new column added products in report\n",
    "fresults['added_products'] = fresults.apply(fn_join_columns, axis=1)\n",
    "\n",
    "#export\n",
    "fresults['added_products'].to_csv('round5d.csv', header=True, index=True)\n"
   ]
  }
 ],
 "metadata": {
  "anaconda-cloud": {},
  "kernelspec": {
   "display_name": "Python [conda env:udacity]",
   "language": "python",
   "name": "conda-env-udacity-py"
  },
  "language_info": {
   "codemirror_mode": {
    "name": "ipython",
    "version": 3
   },
   "file_extension": ".py",
   "mimetype": "text/x-python",
   "name": "python",
   "nbconvert_exporter": "python",
   "pygments_lexer": "ipython3",
   "version": "3.5.2"
  }
 },
 "nbformat": 4,
 "nbformat_minor": 1
}
