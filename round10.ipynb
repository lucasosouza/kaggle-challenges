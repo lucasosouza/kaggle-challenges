{
 "cells": [
  {
   "cell_type": "code",
   "execution_count": 1,
   "metadata": {
    "collapsed": false
   },
   "outputs": [],
   "source": [
    "from run import prep_data\n",
    "from nn import train_and_predict\n",
    "import pandas as pd"
   ]
  },
  {
   "cell_type": "code",
   "execution_count": 2,
   "metadata": {
    "collapsed": false
   },
   "outputs": [
    {
     "name": "stdout",
     "output_type": "stream",
     "text": [
      "previous:  (931453, 24)\n",
      "next:  (929615, 24)\n",
      "transform:  (1861068, 254)\n",
      "delta:  (929615, 254)\n",
      "scale:  (929615, 254)\n",
      "X_test:  (929615, 254)\n",
      "threshold:  (1364729, 24) (1364729, 24)\n",
      "transform:  (1364729, 105)\n",
      "delta:  (1202476, 105) (1202476, 24)\n",
      "paired_columns:  (1202476, 112)\n",
      "scale:  (1202476, 112)\n"
     ]
    }
   ],
   "source": [
    "X, y, X_test, labels = prep_data()"
   ]
  },
  {
   "cell_type": "code",
   "execution_count": 4,
   "metadata": {
    "collapsed": false
   },
   "outputs": [
    {
     "name": "stdout",
     "output_type": "stream",
     "text": [
      "Epoch: 0001, Cost: 4.59906244, Time: 111.30\n",
      "Epoch: 0002, Cost: 4.48831224, Time: 114.55\n",
      "Optimization Finished! Time to complete: 225.89\n"
     ]
    }
   ],
   "source": [
    "# get probability distribution for test\n",
    "preds = train_and_predict(X, y, X_test)"
   ]
  },
  {
   "cell_type": "code",
   "execution_count": 5,
   "metadata": {
    "collapsed": false
   },
   "outputs": [
    {
     "data": {
      "text/html": [
       "<div>\n",
       "<table border=\"1\" class=\"dataframe\">\n",
       "  <thead>\n",
       "    <tr style=\"text-align: right;\">\n",
       "      <th></th>\n",
       "      <th>0</th>\n",
       "      <th>1</th>\n",
       "      <th>2</th>\n",
       "      <th>3</th>\n",
       "      <th>4</th>\n",
       "      <th>5</th>\n",
       "      <th>6</th>\n",
       "    </tr>\n",
       "  </thead>\n",
       "  <tbody>\n",
       "    <tr>\n",
       "      <th>0</th>\n",
       "      <td>ind_cco_fin_ult1</td>\n",
       "      <td>ind_recibo_ult1</td>\n",
       "      <td>ind_cno_fin_ult1</td>\n",
       "      <td>ind_nomina_ult1</td>\n",
       "      <td>ind_ctma_fin_ult1</td>\n",
       "      <td>ind_nom_pens_ult1</td>\n",
       "      <td>ind_ecue_fin_ult1</td>\n",
       "    </tr>\n",
       "    <tr>\n",
       "      <th>1</th>\n",
       "      <td>ind_cco_fin_ult1</td>\n",
       "      <td>ind_recibo_ult1</td>\n",
       "      <td>ind_cno_fin_ult1</td>\n",
       "      <td>ind_nomina_ult1</td>\n",
       "      <td>ind_ctma_fin_ult1</td>\n",
       "      <td>ind_nom_pens_ult1</td>\n",
       "      <td>ind_ecue_fin_ult1</td>\n",
       "    </tr>\n",
       "    <tr>\n",
       "      <th>2</th>\n",
       "      <td>ind_cco_fin_ult1</td>\n",
       "      <td>ind_recibo_ult1</td>\n",
       "      <td>ind_cno_fin_ult1</td>\n",
       "      <td>ind_nomina_ult1</td>\n",
       "      <td>ind_ctma_fin_ult1</td>\n",
       "      <td>ind_nom_pens_ult1</td>\n",
       "      <td>ind_ecue_fin_ult1</td>\n",
       "    </tr>\n",
       "    <tr>\n",
       "      <th>3</th>\n",
       "      <td>ind_cco_fin_ult1</td>\n",
       "      <td>ind_recibo_ult1</td>\n",
       "      <td>ind_cno_fin_ult1</td>\n",
       "      <td>ind_nomina_ult1</td>\n",
       "      <td>ind_ctma_fin_ult1</td>\n",
       "      <td>ind_nom_pens_ult1</td>\n",
       "      <td>ind_ecue_fin_ult1</td>\n",
       "    </tr>\n",
       "    <tr>\n",
       "      <th>4</th>\n",
       "      <td>ind_cco_fin_ult1</td>\n",
       "      <td>ind_recibo_ult1</td>\n",
       "      <td>ind_cno_fin_ult1</td>\n",
       "      <td>ind_nomina_ult1</td>\n",
       "      <td>ind_ctma_fin_ult1</td>\n",
       "      <td>ind_nom_pens_ult1</td>\n",
       "      <td>ind_ecue_fin_ult1</td>\n",
       "    </tr>\n",
       "  </tbody>\n",
       "</table>\n",
       "</div>"
      ],
      "text/plain": [
       "                  0                1                 2                3  \\\n",
       "0  ind_cco_fin_ult1  ind_recibo_ult1  ind_cno_fin_ult1  ind_nomina_ult1   \n",
       "1  ind_cco_fin_ult1  ind_recibo_ult1  ind_cno_fin_ult1  ind_nomina_ult1   \n",
       "2  ind_cco_fin_ult1  ind_recibo_ult1  ind_cno_fin_ult1  ind_nomina_ult1   \n",
       "3  ind_cco_fin_ult1  ind_recibo_ult1  ind_cno_fin_ult1  ind_nomina_ult1   \n",
       "4  ind_cco_fin_ult1  ind_recibo_ult1  ind_cno_fin_ult1  ind_nomina_ult1   \n",
       "\n",
       "                   4                  5                  6  \n",
       "0  ind_ctma_fin_ult1  ind_nom_pens_ult1  ind_ecue_fin_ult1  \n",
       "1  ind_ctma_fin_ult1  ind_nom_pens_ult1  ind_ecue_fin_ult1  \n",
       "2  ind_ctma_fin_ult1  ind_nom_pens_ult1  ind_ecue_fin_ult1  \n",
       "3  ind_ctma_fin_ult1  ind_nom_pens_ult1  ind_ecue_fin_ult1  \n",
       "4  ind_ctma_fin_ult1  ind_nom_pens_ult1  ind_ecue_fin_ult1  "
      ]
     },
     "execution_count": 5,
     "metadata": {},
     "output_type": "execute_result"
    }
   ],
   "source": [
    "# construct results data frame\n",
    "results = pd.DataFrame(preds.indices)\n",
    "\n",
    "# change from int back to label\n",
    "fn = lambda x: labels[int(x)]\n",
    "results = results.applymap(fn)\n",
    "\n",
    "results.head()"
   ]
  },
  {
   "cell_type": "code",
   "execution_count": 6,
   "metadata": {
    "collapsed": false
   },
   "outputs": [
    {
     "data": {
      "text/html": [
       "<div>\n",
       "<table border=\"1\" class=\"dataframe\">\n",
       "  <thead>\n",
       "    <tr style=\"text-align: right;\">\n",
       "      <th></th>\n",
       "      <th>ncodpers</th>\n",
       "      <th>added_products</th>\n",
       "    </tr>\n",
       "  </thead>\n",
       "  <tbody>\n",
       "    <tr>\n",
       "      <th>0</th>\n",
       "      <td>15889</td>\n",
       "      <td>ind_cco_fin_ult1 ind_recibo_ult1 ind_cno_fin_u...</td>\n",
       "    </tr>\n",
       "    <tr>\n",
       "      <th>1</th>\n",
       "      <td>15890</td>\n",
       "      <td>ind_cco_fin_ult1 ind_recibo_ult1 ind_cno_fin_u...</td>\n",
       "    </tr>\n",
       "    <tr>\n",
       "      <th>2</th>\n",
       "      <td>15892</td>\n",
       "      <td>ind_cco_fin_ult1 ind_recibo_ult1 ind_cno_fin_u...</td>\n",
       "    </tr>\n",
       "    <tr>\n",
       "      <th>3</th>\n",
       "      <td>15893</td>\n",
       "      <td>ind_cco_fin_ult1 ind_recibo_ult1 ind_cno_fin_u...</td>\n",
       "    </tr>\n",
       "    <tr>\n",
       "      <th>4</th>\n",
       "      <td>15894</td>\n",
       "      <td>ind_cco_fin_ult1 ind_recibo_ult1 ind_cno_fin_u...</td>\n",
       "    </tr>\n",
       "  </tbody>\n",
       "</table>\n",
       "</div>"
      ],
      "text/plain": [
       "   ncodpers                                     added_products\n",
       "0     15889  ind_cco_fin_ult1 ind_recibo_ult1 ind_cno_fin_u...\n",
       "1     15890  ind_cco_fin_ult1 ind_recibo_ult1 ind_cno_fin_u...\n",
       "2     15892  ind_cco_fin_ult1 ind_recibo_ult1 ind_cno_fin_u...\n",
       "3     15893  ind_cco_fin_ult1 ind_recibo_ult1 ind_cno_fin_u...\n",
       "4     15894  ind_cco_fin_ult1 ind_recibo_ult1 ind_cno_fin_u..."
      ]
     },
     "execution_count": 6,
     "metadata": {},
     "output_type": "execute_result"
    }
   ],
   "source": [
    "# join in a single columns\n",
    "fn = lambda x:\" \".join(x)\n",
    "results['added_products'] = results.apply(fn, axis=1)\n",
    "\n",
    "# add ncodpers\n",
    "results['ncodpers'] = X_test.index\n",
    "\n",
    "# delete other columns\n",
    "results = results[['ncodpers', 'added_products']]\n",
    "\n",
    "results.head()"
   ]
  },
  {
   "cell_type": "code",
   "execution_count": 7,
   "metadata": {
    "collapsed": false
   },
   "outputs": [
    {
     "name": "stdout",
     "output_type": "stream",
     "text": [
      "(929615, 2)\n"
     ]
    }
   ],
   "source": [
    "# export to csv\n",
    "print(results.shape)\n",
    "results.to_csv('round10.csv', header=True, index=False)"
   ]
  },
  {
   "cell_type": "code",
   "execution_count": 13,
   "metadata": {
    "collapsed": false
   },
   "outputs": [],
   "source": [
    "# save classes to pickle\n",
    "import pickle\n",
    "pickle.dump( preds.indices, open( \"preds.p\", \"wb\" ) )"
   ]
  },
  {
   "cell_type": "code",
   "execution_count": 14,
   "metadata": {
    "collapsed": true
   },
   "outputs": [],
   "source": [
    "# load training data\n",
    "from run import gen_data\n",
    "X,y, labels = gen_data()"
   ]
  },
  {
   "cell_type": "code",
   "execution_count": 123,
   "metadata": {
    "collapsed": false
   },
   "outputs": [],
   "source": [
    "# isolate products\n",
    "last_row = y[X['fecha_dato']=='2016-05-28']\n",
    "last_row.index=X[X['fecha_dato']=='2016-05-28']['ncodpers']"
   ]
  },
  {
   "cell_type": "code",
   "execution_count": 124,
   "metadata": {
    "collapsed": false
   },
   "outputs": [
    {
     "data": {
      "text/html": [
       "<div>\n",
       "<table border=\"1\" class=\"dataframe\">\n",
       "  <thead>\n",
       "    <tr style=\"text-align: right;\">\n",
       "      <th></th>\n",
       "      <th>ind_ahor_fin_ult1</th>\n",
       "      <th>ind_aval_fin_ult1</th>\n",
       "      <th>ind_cco_fin_ult1</th>\n",
       "      <th>ind_cder_fin_ult1</th>\n",
       "      <th>ind_cno_fin_ult1</th>\n",
       "      <th>ind_ctju_fin_ult1</th>\n",
       "      <th>ind_ctma_fin_ult1</th>\n",
       "      <th>ind_ctop_fin_ult1</th>\n",
       "      <th>ind_ctpp_fin_ult1</th>\n",
       "      <th>ind_deco_fin_ult1</th>\n",
       "      <th>...</th>\n",
       "      <th>ind_hip_fin_ult1</th>\n",
       "      <th>ind_plan_fin_ult1</th>\n",
       "      <th>ind_pres_fin_ult1</th>\n",
       "      <th>ind_reca_fin_ult1</th>\n",
       "      <th>ind_tjcr_fin_ult1</th>\n",
       "      <th>ind_valo_fin_ult1</th>\n",
       "      <th>ind_viv_fin_ult1</th>\n",
       "      <th>ind_nomina_ult1</th>\n",
       "      <th>ind_nom_pens_ult1</th>\n",
       "      <th>ind_recibo_ult1</th>\n",
       "    </tr>\n",
       "    <tr>\n",
       "      <th>ncodpers</th>\n",
       "      <th></th>\n",
       "      <th></th>\n",
       "      <th></th>\n",
       "      <th></th>\n",
       "      <th></th>\n",
       "      <th></th>\n",
       "      <th></th>\n",
       "      <th></th>\n",
       "      <th></th>\n",
       "      <th></th>\n",
       "      <th></th>\n",
       "      <th></th>\n",
       "      <th></th>\n",
       "      <th></th>\n",
       "      <th></th>\n",
       "      <th></th>\n",
       "      <th></th>\n",
       "      <th></th>\n",
       "      <th></th>\n",
       "      <th></th>\n",
       "      <th></th>\n",
       "    </tr>\n",
       "  </thead>\n",
       "  <tbody>\n",
       "    <tr>\n",
       "      <th>657640</th>\n",
       "      <td>0</td>\n",
       "      <td>0</td>\n",
       "      <td>0</td>\n",
       "      <td>0</td>\n",
       "      <td>0</td>\n",
       "      <td>0</td>\n",
       "      <td>0</td>\n",
       "      <td>0</td>\n",
       "      <td>0</td>\n",
       "      <td>0</td>\n",
       "      <td>...</td>\n",
       "      <td>0</td>\n",
       "      <td>0</td>\n",
       "      <td>0</td>\n",
       "      <td>0</td>\n",
       "      <td>0</td>\n",
       "      <td>0</td>\n",
       "      <td>0</td>\n",
       "      <td>0.0</td>\n",
       "      <td>0.0</td>\n",
       "      <td>0</td>\n",
       "    </tr>\n",
       "    <tr>\n",
       "      <th>657788</th>\n",
       "      <td>0</td>\n",
       "      <td>0</td>\n",
       "      <td>1</td>\n",
       "      <td>0</td>\n",
       "      <td>0</td>\n",
       "      <td>0</td>\n",
       "      <td>0</td>\n",
       "      <td>0</td>\n",
       "      <td>0</td>\n",
       "      <td>0</td>\n",
       "      <td>...</td>\n",
       "      <td>0</td>\n",
       "      <td>0</td>\n",
       "      <td>0</td>\n",
       "      <td>0</td>\n",
       "      <td>0</td>\n",
       "      <td>0</td>\n",
       "      <td>0</td>\n",
       "      <td>0.0</td>\n",
       "      <td>0.0</td>\n",
       "      <td>0</td>\n",
       "    </tr>\n",
       "    <tr>\n",
       "      <th>657795</th>\n",
       "      <td>0</td>\n",
       "      <td>0</td>\n",
       "      <td>1</td>\n",
       "      <td>0</td>\n",
       "      <td>0</td>\n",
       "      <td>0</td>\n",
       "      <td>0</td>\n",
       "      <td>0</td>\n",
       "      <td>0</td>\n",
       "      <td>0</td>\n",
       "      <td>...</td>\n",
       "      <td>0</td>\n",
       "      <td>0</td>\n",
       "      <td>0</td>\n",
       "      <td>0</td>\n",
       "      <td>0</td>\n",
       "      <td>0</td>\n",
       "      <td>0</td>\n",
       "      <td>0.0</td>\n",
       "      <td>0.0</td>\n",
       "      <td>0</td>\n",
       "    </tr>\n",
       "    <tr>\n",
       "      <th>657790</th>\n",
       "      <td>0</td>\n",
       "      <td>0</td>\n",
       "      <td>0</td>\n",
       "      <td>0</td>\n",
       "      <td>1</td>\n",
       "      <td>0</td>\n",
       "      <td>0</td>\n",
       "      <td>0</td>\n",
       "      <td>0</td>\n",
       "      <td>0</td>\n",
       "      <td>...</td>\n",
       "      <td>0</td>\n",
       "      <td>0</td>\n",
       "      <td>0</td>\n",
       "      <td>0</td>\n",
       "      <td>1</td>\n",
       "      <td>0</td>\n",
       "      <td>0</td>\n",
       "      <td>1.0</td>\n",
       "      <td>1.0</td>\n",
       "      <td>1</td>\n",
       "    </tr>\n",
       "    <tr>\n",
       "      <th>657794</th>\n",
       "      <td>0</td>\n",
       "      <td>0</td>\n",
       "      <td>1</td>\n",
       "      <td>0</td>\n",
       "      <td>0</td>\n",
       "      <td>0</td>\n",
       "      <td>0</td>\n",
       "      <td>0</td>\n",
       "      <td>0</td>\n",
       "      <td>0</td>\n",
       "      <td>...</td>\n",
       "      <td>0</td>\n",
       "      <td>0</td>\n",
       "      <td>0</td>\n",
       "      <td>0</td>\n",
       "      <td>0</td>\n",
       "      <td>0</td>\n",
       "      <td>0</td>\n",
       "      <td>0.0</td>\n",
       "      <td>0.0</td>\n",
       "      <td>0</td>\n",
       "    </tr>\n",
       "  </tbody>\n",
       "</table>\n",
       "<p>5 rows × 24 columns</p>\n",
       "</div>"
      ],
      "text/plain": [
       "          ind_ahor_fin_ult1  ind_aval_fin_ult1  ind_cco_fin_ult1  \\\n",
       "ncodpers                                                           \n",
       "657640                    0                  0                 0   \n",
       "657788                    0                  0                 1   \n",
       "657795                    0                  0                 1   \n",
       "657790                    0                  0                 0   \n",
       "657794                    0                  0                 1   \n",
       "\n",
       "          ind_cder_fin_ult1  ind_cno_fin_ult1  ind_ctju_fin_ult1  \\\n",
       "ncodpers                                                           \n",
       "657640                    0                 0                  0   \n",
       "657788                    0                 0                  0   \n",
       "657795                    0                 0                  0   \n",
       "657790                    0                 1                  0   \n",
       "657794                    0                 0                  0   \n",
       "\n",
       "          ind_ctma_fin_ult1  ind_ctop_fin_ult1  ind_ctpp_fin_ult1  \\\n",
       "ncodpers                                                            \n",
       "657640                    0                  0                  0   \n",
       "657788                    0                  0                  0   \n",
       "657795                    0                  0                  0   \n",
       "657790                    0                  0                  0   \n",
       "657794                    0                  0                  0   \n",
       "\n",
       "          ind_deco_fin_ult1       ...         ind_hip_fin_ult1  \\\n",
       "ncodpers                          ...                            \n",
       "657640                    0       ...                        0   \n",
       "657788                    0       ...                        0   \n",
       "657795                    0       ...                        0   \n",
       "657790                    0       ...                        0   \n",
       "657794                    0       ...                        0   \n",
       "\n",
       "          ind_plan_fin_ult1  ind_pres_fin_ult1  ind_reca_fin_ult1  \\\n",
       "ncodpers                                                            \n",
       "657640                    0                  0                  0   \n",
       "657788                    0                  0                  0   \n",
       "657795                    0                  0                  0   \n",
       "657790                    0                  0                  0   \n",
       "657794                    0                  0                  0   \n",
       "\n",
       "          ind_tjcr_fin_ult1  ind_valo_fin_ult1  ind_viv_fin_ult1  \\\n",
       "ncodpers                                                           \n",
       "657640                    0                  0                 0   \n",
       "657788                    0                  0                 0   \n",
       "657795                    0                  0                 0   \n",
       "657790                    1                  0                 0   \n",
       "657794                    0                  0                 0   \n",
       "\n",
       "          ind_nomina_ult1  ind_nom_pens_ult1  ind_recibo_ult1  \n",
       "ncodpers                                                       \n",
       "657640                0.0                0.0                0  \n",
       "657788                0.0                0.0                0  \n",
       "657795                0.0                0.0                0  \n",
       "657790                1.0                1.0                1  \n",
       "657794                0.0                0.0                0  \n",
       "\n",
       "[5 rows x 24 columns]"
      ]
     },
     "execution_count": 124,
     "metadata": {},
     "output_type": "execute_result"
    }
   ],
   "source": [
    "last_row.head()"
   ]
  },
  {
   "cell_type": "code",
   "execution_count": 126,
   "metadata": {
    "collapsed": false
   },
   "outputs": [],
   "source": [
    "def consolidate_products(arr):\n",
    "    products_list = []\n",
    "    for i, item in enumerate(arr):\n",
    "        if item>0:\n",
    "            products_list.append(i)\n",
    "    return products_list\n",
    "\n",
    "last_row['products'] = last_row.apply(consolidate_products, axis=1)"
   ]
  },
  {
   "cell_type": "code",
   "execution_count": 127,
   "metadata": {
    "collapsed": false
   },
   "outputs": [
    {
     "data": {
      "text/plain": [
       "ncodpers\n",
       "657640                         []\n",
       "657788                        [2]\n",
       "657795                        [2]\n",
       "657790    [4, 12, 18, 21, 22, 23]\n",
       "657794                    [2, 11]\n",
       "Name: products, dtype: object"
      ]
     },
     "execution_count": 127,
     "metadata": {},
     "output_type": "execute_result"
    }
   ],
   "source": [
    "last_row['products'].head()"
   ]
  },
  {
   "cell_type": "code",
   "execution_count": 128,
   "metadata": {
    "collapsed": false
   },
   "outputs": [
    {
     "data": {
      "text/plain": [
       "array([[ 2, 23,  4, ...,  6, 22, 12],\n",
       "       [ 2, 23,  4, ...,  6, 22, 12],\n",
       "       [ 2, 23,  4, ...,  6, 22, 12],\n",
       "       ..., \n",
       "       [ 2, 23,  4, ...,  6, 22, 12],\n",
       "       [ 2, 23,  4, ...,  6, 22, 12],\n",
       "       [ 2, 23,  4, ...,  6, 22, 12]], dtype=int32)"
      ]
     },
     "execution_count": 128,
     "metadata": {},
     "output_type": "execute_result"
    }
   ],
   "source": [
    "preds.indices"
   ]
  },
  {
   "cell_type": "code",
   "execution_count": 129,
   "metadata": {
    "collapsed": true
   },
   "outputs": [],
   "source": [
    "# construct results data frame\n",
    "results = pd.DataFrame(preds.indices, index=X_test.index)"
   ]
  },
  {
   "cell_type": "code",
   "execution_count": 131,
   "metadata": {
    "collapsed": false
   },
   "outputs": [
    {
     "data": {
      "text/plain": [
       "ncodpers\n",
       "15889    (2, 23, 4, 21, 6, 22, 12)\n",
       "15890    (2, 23, 4, 21, 6, 22, 12)\n",
       "15892    (2, 23, 4, 21, 6, 22, 12)\n",
       "15893    (2, 23, 4, 21, 6, 22, 12)\n",
       "15894    (2, 23, 4, 21, 6, 22, 12)\n",
       "Name: new_products, dtype: object"
      ]
     },
     "execution_count": 131,
     "metadata": {},
     "output_type": "execute_result"
    }
   ],
   "source": [
    "# consolidate\n",
    "def concat_products(row):\n",
    "    return tuple([int(i) for i in row])\n",
    "\n",
    "results['new_products'] = results.apply(concat_products, axis=1, reduce=True, raw=True)\n",
    "results['new_products'].head()"
   ]
  },
  {
   "cell_type": "code",
   "execution_count": 132,
   "metadata": {
    "collapsed": false
   },
   "outputs": [],
   "source": [
    "# concatenate two dataframes\n",
    "diff = pd.DataFrame(index=X_test.index)\n",
    "diff['products'] = last_row['products']\n",
    "diff['new_products'] = results['new_products']"
   ]
  },
  {
   "cell_type": "code",
   "execution_count": 133,
   "metadata": {
    "collapsed": false
   },
   "outputs": [
    {
     "data": {
      "text/html": [
       "<div>\n",
       "<table border=\"1\" class=\"dataframe\">\n",
       "  <thead>\n",
       "    <tr style=\"text-align: right;\">\n",
       "      <th></th>\n",
       "      <th>products</th>\n",
       "      <th>new_products</th>\n",
       "    </tr>\n",
       "    <tr>\n",
       "      <th>ncodpers</th>\n",
       "      <th></th>\n",
       "      <th></th>\n",
       "    </tr>\n",
       "  </thead>\n",
       "  <tbody>\n",
       "    <tr>\n",
       "      <th>15889</th>\n",
       "      <td>[2, 8, 18, 19]</td>\n",
       "      <td>(2, 23, 4, 21, 6, 22, 12)</td>\n",
       "    </tr>\n",
       "    <tr>\n",
       "      <th>15890</th>\n",
       "      <td>[4, 8, 12, 15, 18, 21, 22, 23]</td>\n",
       "      <td>(2, 23, 4, 21, 6, 22, 12)</td>\n",
       "    </tr>\n",
       "    <tr>\n",
       "      <th>15892</th>\n",
       "      <td>[2, 11, 12, 17, 18, 19, 23]</td>\n",
       "      <td>(2, 23, 4, 21, 6, 22, 12)</td>\n",
       "    </tr>\n",
       "    <tr>\n",
       "      <th>15893</th>\n",
       "      <td>[19]</td>\n",
       "      <td>(2, 23, 4, 21, 6, 22, 12)</td>\n",
       "    </tr>\n",
       "    <tr>\n",
       "      <th>15894</th>\n",
       "      <td>[2, 12, 17, 18, 19, 21, 22, 23]</td>\n",
       "      <td>(2, 23, 4, 21, 6, 22, 12)</td>\n",
       "    </tr>\n",
       "  </tbody>\n",
       "</table>\n",
       "</div>"
      ],
      "text/plain": [
       "                                 products               new_products\n",
       "ncodpers                                                            \n",
       "15889                      [2, 8, 18, 19]  (2, 23, 4, 21, 6, 22, 12)\n",
       "15890      [4, 8, 12, 15, 18, 21, 22, 23]  (2, 23, 4, 21, 6, 22, 12)\n",
       "15892         [2, 11, 12, 17, 18, 19, 23]  (2, 23, 4, 21, 6, 22, 12)\n",
       "15893                                [19]  (2, 23, 4, 21, 6, 22, 12)\n",
       "15894     [2, 12, 17, 18, 19, 21, 22, 23]  (2, 23, 4, 21, 6, 22, 12)"
      ]
     },
     "execution_count": 133,
     "metadata": {},
     "output_type": "execute_result"
    }
   ],
   "source": [
    "diff.head()"
   ]
  },
  {
   "cell_type": "code",
   "execution_count": 136,
   "metadata": {
    "collapsed": false
   },
   "outputs": [],
   "source": [
    "# get the difference\n",
    "def diff_products(row):\n",
    "    return [i for i in row[1] if i not in row[0]]\n",
    "\n",
    "diff['added_products'] = diff.apply(diff_products, axis=1)"
   ]
  },
  {
   "cell_type": "code",
   "execution_count": 143,
   "metadata": {
    "collapsed": false
   },
   "outputs": [
    {
     "data": {
      "text/html": [
       "<div>\n",
       "<table border=\"1\" class=\"dataframe\">\n",
       "  <thead>\n",
       "    <tr style=\"text-align: right;\">\n",
       "      <th></th>\n",
       "      <th>products</th>\n",
       "      <th>new_products</th>\n",
       "      <th>added_products</th>\n",
       "    </tr>\n",
       "    <tr>\n",
       "      <th>ncodpers</th>\n",
       "      <th></th>\n",
       "      <th></th>\n",
       "      <th></th>\n",
       "    </tr>\n",
       "  </thead>\n",
       "  <tbody>\n",
       "    <tr>\n",
       "      <th>15889</th>\n",
       "      <td>[2, 8, 18, 19]</td>\n",
       "      <td>(2, 23, 4, 21, 6, 22, 12)</td>\n",
       "      <td>[23, 4, 21, 6, 22, 12]</td>\n",
       "    </tr>\n",
       "    <tr>\n",
       "      <th>15890</th>\n",
       "      <td>[4, 8, 12, 15, 18, 21, 22, 23]</td>\n",
       "      <td>(2, 23, 4, 21, 6, 22, 12)</td>\n",
       "      <td>[2, 6]</td>\n",
       "    </tr>\n",
       "    <tr>\n",
       "      <th>15892</th>\n",
       "      <td>[2, 11, 12, 17, 18, 19, 23]</td>\n",
       "      <td>(2, 23, 4, 21, 6, 22, 12)</td>\n",
       "      <td>[4, 21, 6, 22]</td>\n",
       "    </tr>\n",
       "    <tr>\n",
       "      <th>15893</th>\n",
       "      <td>[19]</td>\n",
       "      <td>(2, 23, 4, 21, 6, 22, 12)</td>\n",
       "      <td>[2, 23, 4, 21, 6, 22, 12]</td>\n",
       "    </tr>\n",
       "    <tr>\n",
       "      <th>15894</th>\n",
       "      <td>[2, 12, 17, 18, 19, 21, 22, 23]</td>\n",
       "      <td>(2, 23, 4, 21, 6, 22, 12)</td>\n",
       "      <td>[4, 6]</td>\n",
       "    </tr>\n",
       "  </tbody>\n",
       "</table>\n",
       "</div>"
      ],
      "text/plain": [
       "                                 products               new_products  \\\n",
       "ncodpers                                                               \n",
       "15889                      [2, 8, 18, 19]  (2, 23, 4, 21, 6, 22, 12)   \n",
       "15890      [4, 8, 12, 15, 18, 21, 22, 23]  (2, 23, 4, 21, 6, 22, 12)   \n",
       "15892         [2, 11, 12, 17, 18, 19, 23]  (2, 23, 4, 21, 6, 22, 12)   \n",
       "15893                                [19]  (2, 23, 4, 21, 6, 22, 12)   \n",
       "15894     [2, 12, 17, 18, 19, 21, 22, 23]  (2, 23, 4, 21, 6, 22, 12)   \n",
       "\n",
       "                     added_products  \n",
       "ncodpers                             \n",
       "15889        [23, 4, 21, 6, 22, 12]  \n",
       "15890                        [2, 6]  \n",
       "15892                [4, 21, 6, 22]  \n",
       "15893     [2, 23, 4, 21, 6, 22, 12]  \n",
       "15894                        [4, 6]  "
      ]
     },
     "execution_count": 143,
     "metadata": {},
     "output_type": "execute_result"
    }
   ],
   "source": [
    "diff.head()"
   ]
  },
  {
   "cell_type": "code",
   "execution_count": 148,
   "metadata": {
    "collapsed": false
   },
   "outputs": [],
   "source": [
    "# now change i for string and join\n",
    "def convert_products(row):\n",
    "    mod_row = map(lambda x: labels[x], row)\n",
    "    return \" \".join(mod_row)\n",
    "    \n",
    "diff['added_products'] = diff['added_products'].apply(convert_products)"
   ]
  },
  {
   "cell_type": "code",
   "execution_count": 151,
   "metadata": {
    "collapsed": false
   },
   "outputs": [
    {
     "data": {
      "text/html": [
       "<div>\n",
       "<table border=\"1\" class=\"dataframe\">\n",
       "  <thead>\n",
       "    <tr style=\"text-align: right;\">\n",
       "      <th></th>\n",
       "      <th>products</th>\n",
       "      <th>new_products</th>\n",
       "      <th>added_products</th>\n",
       "    </tr>\n",
       "    <tr>\n",
       "      <th>ncodpers</th>\n",
       "      <th></th>\n",
       "      <th></th>\n",
       "      <th></th>\n",
       "    </tr>\n",
       "  </thead>\n",
       "  <tbody>\n",
       "    <tr>\n",
       "      <th>15889</th>\n",
       "      <td>[2, 8, 18, 19]</td>\n",
       "      <td>(2, 23, 4, 21, 6, 22, 12)</td>\n",
       "      <td>ind_recibo_ult1 ind_cno_fin_ult1 ind_nomina_ul...</td>\n",
       "    </tr>\n",
       "    <tr>\n",
       "      <th>15890</th>\n",
       "      <td>[4, 8, 12, 15, 18, 21, 22, 23]</td>\n",
       "      <td>(2, 23, 4, 21, 6, 22, 12)</td>\n",
       "      <td>ind_cco_fin_ult1 ind_ctma_fin_ult1</td>\n",
       "    </tr>\n",
       "    <tr>\n",
       "      <th>15892</th>\n",
       "      <td>[2, 11, 12, 17, 18, 19, 23]</td>\n",
       "      <td>(2, 23, 4, 21, 6, 22, 12)</td>\n",
       "      <td>ind_cno_fin_ult1 ind_nomina_ult1 ind_ctma_fin_...</td>\n",
       "    </tr>\n",
       "    <tr>\n",
       "      <th>15893</th>\n",
       "      <td>[19]</td>\n",
       "      <td>(2, 23, 4, 21, 6, 22, 12)</td>\n",
       "      <td>ind_cco_fin_ult1 ind_recibo_ult1 ind_cno_fin_u...</td>\n",
       "    </tr>\n",
       "    <tr>\n",
       "      <th>15894</th>\n",
       "      <td>[2, 12, 17, 18, 19, 21, 22, 23]</td>\n",
       "      <td>(2, 23, 4, 21, 6, 22, 12)</td>\n",
       "      <td>ind_cno_fin_ult1 ind_ctma_fin_ult1</td>\n",
       "    </tr>\n",
       "  </tbody>\n",
       "</table>\n",
       "</div>"
      ],
      "text/plain": [
       "                                 products               new_products  \\\n",
       "ncodpers                                                               \n",
       "15889                      [2, 8, 18, 19]  (2, 23, 4, 21, 6, 22, 12)   \n",
       "15890      [4, 8, 12, 15, 18, 21, 22, 23]  (2, 23, 4, 21, 6, 22, 12)   \n",
       "15892         [2, 11, 12, 17, 18, 19, 23]  (2, 23, 4, 21, 6, 22, 12)   \n",
       "15893                                [19]  (2, 23, 4, 21, 6, 22, 12)   \n",
       "15894     [2, 12, 17, 18, 19, 21, 22, 23]  (2, 23, 4, 21, 6, 22, 12)   \n",
       "\n",
       "                                             added_products  \n",
       "ncodpers                                                     \n",
       "15889     ind_recibo_ult1 ind_cno_fin_ult1 ind_nomina_ul...  \n",
       "15890                    ind_cco_fin_ult1 ind_ctma_fin_ult1  \n",
       "15892     ind_cno_fin_ult1 ind_nomina_ult1 ind_ctma_fin_...  \n",
       "15893     ind_cco_fin_ult1 ind_recibo_ult1 ind_cno_fin_u...  \n",
       "15894                    ind_cno_fin_ult1 ind_ctma_fin_ult1  "
      ]
     },
     "execution_count": 151,
     "metadata": {},
     "output_type": "execute_result"
    }
   ],
   "source": [
    "# check results\n",
    "diff.head()"
   ]
  },
  {
   "cell_type": "code",
   "execution_count": 153,
   "metadata": {
    "collapsed": false
   },
   "outputs": [],
   "source": [
    "del diff['products']\n",
    "del diff['new_products']"
   ]
  },
  {
   "cell_type": "code",
   "execution_count": 155,
   "metadata": {
    "collapsed": false
   },
   "outputs": [
    {
     "data": {
      "text/html": [
       "<div>\n",
       "<table border=\"1\" class=\"dataframe\">\n",
       "  <thead>\n",
       "    <tr style=\"text-align: right;\">\n",
       "      <th></th>\n",
       "      <th>added_products</th>\n",
       "    </tr>\n",
       "    <tr>\n",
       "      <th>ncodpers</th>\n",
       "      <th></th>\n",
       "    </tr>\n",
       "  </thead>\n",
       "  <tbody>\n",
       "    <tr>\n",
       "      <th>15889</th>\n",
       "      <td>ind_recibo_ult1 ind_cno_fin_ult1 ind_nomina_ul...</td>\n",
       "    </tr>\n",
       "    <tr>\n",
       "      <th>15890</th>\n",
       "      <td>ind_cco_fin_ult1 ind_ctma_fin_ult1</td>\n",
       "    </tr>\n",
       "    <tr>\n",
       "      <th>15892</th>\n",
       "      <td>ind_cno_fin_ult1 ind_nomina_ult1 ind_ctma_fin_...</td>\n",
       "    </tr>\n",
       "    <tr>\n",
       "      <th>15893</th>\n",
       "      <td>ind_cco_fin_ult1 ind_recibo_ult1 ind_cno_fin_u...</td>\n",
       "    </tr>\n",
       "    <tr>\n",
       "      <th>15894</th>\n",
       "      <td>ind_cno_fin_ult1 ind_ctma_fin_ult1</td>\n",
       "    </tr>\n",
       "  </tbody>\n",
       "</table>\n",
       "</div>"
      ],
      "text/plain": [
       "                                             added_products\n",
       "ncodpers                                                   \n",
       "15889     ind_recibo_ult1 ind_cno_fin_ult1 ind_nomina_ul...\n",
       "15890                    ind_cco_fin_ult1 ind_ctma_fin_ult1\n",
       "15892     ind_cno_fin_ult1 ind_nomina_ult1 ind_ctma_fin_...\n",
       "15893     ind_cco_fin_ult1 ind_recibo_ult1 ind_cno_fin_u...\n",
       "15894                    ind_cno_fin_ult1 ind_ctma_fin_ult1"
      ]
     },
     "execution_count": 155,
     "metadata": {},
     "output_type": "execute_result"
    }
   ],
   "source": [
    "diff.head()"
   ]
  },
  {
   "cell_type": "code",
   "execution_count": 157,
   "metadata": {
    "collapsed": true
   },
   "outputs": [],
   "source": [
    "diff.to_csv('round10b.csv', header=True, index=True)"
   ]
  },
  {
   "cell_type": "code",
   "execution_count": null,
   "metadata": {
    "collapsed": true
   },
   "outputs": [],
   "source": [
    "# run on cloud\n",
    "# full training data\n",
    "# train a lot\n",
    "# try to converge cost\n",
    "# remove products they already have at that position before doing the count"
   ]
  }
 ],
 "metadata": {
  "anaconda-cloud": {},
  "kernelspec": {
   "display_name": "Python [conda env:udacity]",
   "language": "python",
   "name": "conda-env-udacity-py"
  },
  "language_info": {
   "codemirror_mode": {
    "name": "ipython",
    "version": 3
   },
   "file_extension": ".py",
   "mimetype": "text/x-python",
   "name": "python",
   "nbconvert_exporter": "python",
   "pygments_lexer": "ipython3",
   "version": "3.5.2"
  }
 },
 "nbformat": 4,
 "nbformat_minor": 1
}
