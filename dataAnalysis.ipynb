{
 "cells": [
  {
   "cell_type": "code",
   "execution_count": 1,
   "metadata": {
    "collapsed": true
   },
   "outputs": [],
   "source": [
    "# import useful stuff\n",
    "import matplotlib.pyplot as plt\n",
    "import pandas as pd\n",
    "import numpy as np\n",
    "import seaborn as sns\n",
    "\n"
   ]
  },
  {
   "cell_type": "code",
   "execution_count": 2,
   "metadata": {
    "collapsed": true
   },
   "outputs": [],
   "source": [
    "%matplotlib inline"
   ]
  },
  {
   "cell_type": "code",
   "execution_count": 3,
   "metadata": {
    "collapsed": false
   },
   "outputs": [
    {
     "name": "stderr",
     "output_type": "stream",
     "text": [
      "/Users/lucasosouza/anaconda/envs/udacity/lib/python3.5/site-packages/IPython/core/interactiveshell.py:2717: DtypeWarning: Columns (15) have mixed types. Specify dtype option on import or set low_memory=False.\n",
      "  interactivity=interactivity, compiler=compiler, result=result)\n"
     ]
    }
   ],
   "source": [
    "df = pd.read_csv('train_ver2.csv', nrows=2000000)\n",
    "# df = pd.read_csv('train_ver2.csv')\n",
    "\n",
    "# how many rows have the full file? I'm running with 5 million rows and it occupies 20gb of memory\n",
    "# when I run with 10 million rows, it seems a similar size than with all rows, so is somewhere near that\n",
    "# the csv file has 2gb total"
   ]
  },
  {
   "cell_type": "code",
   "execution_count": 4,
   "metadata": {
    "collapsed": false
   },
   "outputs": [
    {
     "name": "stderr",
     "output_type": "stream",
     "text": [
      "/Users/lucasosouza/anaconda/envs/udacity/lib/python3.5/site-packages/numpy/lib/function_base.py:3834: RuntimeWarning: Invalid value encountered in percentile\n",
      "  RuntimeWarning)\n"
     ]
    },
    {
     "data": {
      "text/html": [
       "<div>\n",
       "<table border=\"1\" class=\"dataframe\">\n",
       "  <thead>\n",
       "    <tr style=\"text-align: right;\">\n",
       "      <th></th>\n",
       "      <th>ncodpers</th>\n",
       "      <th>ind_nuevo</th>\n",
       "      <th>indrel</th>\n",
       "      <th>indrel_1mes</th>\n",
       "      <th>tipodom</th>\n",
       "      <th>cod_prov</th>\n",
       "      <th>ind_actividad_cliente</th>\n",
       "      <th>renta</th>\n",
       "      <th>ind_ahor_fin_ult1</th>\n",
       "      <th>ind_aval_fin_ult1</th>\n",
       "      <th>...</th>\n",
       "      <th>ind_hip_fin_ult1</th>\n",
       "      <th>ind_plan_fin_ult1</th>\n",
       "      <th>ind_pres_fin_ult1</th>\n",
       "      <th>ind_reca_fin_ult1</th>\n",
       "      <th>ind_tjcr_fin_ult1</th>\n",
       "      <th>ind_valo_fin_ult1</th>\n",
       "      <th>ind_viv_fin_ult1</th>\n",
       "      <th>ind_nomina_ult1</th>\n",
       "      <th>ind_nom_pens_ult1</th>\n",
       "      <th>ind_recibo_ult1</th>\n",
       "    </tr>\n",
       "  </thead>\n",
       "  <tbody>\n",
       "    <tr>\n",
       "      <th>count</th>\n",
       "      <td>2.000000e+06</td>\n",
       "      <td>1.980972e+06</td>\n",
       "      <td>1.980972e+06</td>\n",
       "      <td>1.980972e+06</td>\n",
       "      <td>1980972.0</td>\n",
       "      <td>1.968845e+06</td>\n",
       "      <td>1.980972e+06</td>\n",
       "      <td>1.645651e+06</td>\n",
       "      <td>2.000000e+06</td>\n",
       "      <td>2.000000e+06</td>\n",
       "      <td>...</td>\n",
       "      <td>2.000000e+06</td>\n",
       "      <td>2.000000e+06</td>\n",
       "      <td>2.000000e+06</td>\n",
       "      <td>2.000000e+06</td>\n",
       "      <td>2.000000e+06</td>\n",
       "      <td>2.000000e+06</td>\n",
       "      <td>2.000000e+06</td>\n",
       "      <td>1.990494e+06</td>\n",
       "      <td>1.990494e+06</td>\n",
       "      <td>2.000000e+06</td>\n",
       "    </tr>\n",
       "    <tr>\n",
       "      <th>mean</th>\n",
       "      <td>7.693820e+05</td>\n",
       "      <td>4.490220e-03</td>\n",
       "      <td>1.121549e+00</td>\n",
       "      <td>1.000072e+00</td>\n",
       "      <td>1.0</td>\n",
       "      <td>2.673299e+01</td>\n",
       "      <td>5.453156e-01</td>\n",
       "      <td>1.351959e+05</td>\n",
       "      <td>1.445000e-04</td>\n",
       "      <td>3.300000e-05</td>\n",
       "      <td>...</td>\n",
       "      <td>8.124500e-03</td>\n",
       "      <td>1.172200e-02</td>\n",
       "      <td>3.885000e-03</td>\n",
       "      <td>6.302450e-02</td>\n",
       "      <td>5.699050e-02</td>\n",
       "      <td>3.239950e-02</td>\n",
       "      <td>5.244500e-03</td>\n",
       "      <td>6.626345e-02</td>\n",
       "      <td>7.145915e-02</td>\n",
       "      <td>1.539895e-01</td>\n",
       "    </tr>\n",
       "    <tr>\n",
       "      <th>std</th>\n",
       "      <td>3.981139e+05</td>\n",
       "      <td>6.685851e-02</td>\n",
       "      <td>3.449214e+00</td>\n",
       "      <td>1.195216e-02</td>\n",
       "      <td>0.0</td>\n",
       "      <td>1.263372e+01</td>\n",
       "      <td>4.979424e-01</td>\n",
       "      <td>2.247456e+05</td>\n",
       "      <td>1.201995e-02</td>\n",
       "      <td>5.744469e-03</td>\n",
       "      <td>...</td>\n",
       "      <td>8.976913e-02</td>\n",
       "      <td>1.076318e-01</td>\n",
       "      <td>6.220859e-02</td>\n",
       "      <td>2.430071e-01</td>\n",
       "      <td>2.318245e-01</td>\n",
       "      <td>1.770587e-01</td>\n",
       "      <td>7.222879e-02</td>\n",
       "      <td>2.487421e-01</td>\n",
       "      <td>2.575903e-01</td>\n",
       "      <td>3.609388e-01</td>\n",
       "    </tr>\n",
       "    <tr>\n",
       "      <th>min</th>\n",
       "      <td>1.588900e+04</td>\n",
       "      <td>0.000000e+00</td>\n",
       "      <td>1.000000e+00</td>\n",
       "      <td>1.000000e+00</td>\n",
       "      <td>1.0</td>\n",
       "      <td>1.000000e+00</td>\n",
       "      <td>0.000000e+00</td>\n",
       "      <td>1.202730e+03</td>\n",
       "      <td>0.000000e+00</td>\n",
       "      <td>0.000000e+00</td>\n",
       "      <td>...</td>\n",
       "      <td>0.000000e+00</td>\n",
       "      <td>0.000000e+00</td>\n",
       "      <td>0.000000e+00</td>\n",
       "      <td>0.000000e+00</td>\n",
       "      <td>0.000000e+00</td>\n",
       "      <td>0.000000e+00</td>\n",
       "      <td>0.000000e+00</td>\n",
       "      <td>0.000000e+00</td>\n",
       "      <td>0.000000e+00</td>\n",
       "      <td>0.000000e+00</td>\n",
       "    </tr>\n",
       "    <tr>\n",
       "      <th>25%</th>\n",
       "      <td>4.333370e+05</td>\n",
       "      <td>NaN</td>\n",
       "      <td>NaN</td>\n",
       "      <td>NaN</td>\n",
       "      <td>NaN</td>\n",
       "      <td>NaN</td>\n",
       "      <td>NaN</td>\n",
       "      <td>NaN</td>\n",
       "      <td>0.000000e+00</td>\n",
       "      <td>0.000000e+00</td>\n",
       "      <td>...</td>\n",
       "      <td>0.000000e+00</td>\n",
       "      <td>0.000000e+00</td>\n",
       "      <td>0.000000e+00</td>\n",
       "      <td>0.000000e+00</td>\n",
       "      <td>0.000000e+00</td>\n",
       "      <td>0.000000e+00</td>\n",
       "      <td>0.000000e+00</td>\n",
       "      <td>NaN</td>\n",
       "      <td>NaN</td>\n",
       "      <td>0.000000e+00</td>\n",
       "    </tr>\n",
       "    <tr>\n",
       "      <th>50%</th>\n",
       "      <td>8.339755e+05</td>\n",
       "      <td>NaN</td>\n",
       "      <td>NaN</td>\n",
       "      <td>NaN</td>\n",
       "      <td>NaN</td>\n",
       "      <td>NaN</td>\n",
       "      <td>NaN</td>\n",
       "      <td>NaN</td>\n",
       "      <td>0.000000e+00</td>\n",
       "      <td>0.000000e+00</td>\n",
       "      <td>...</td>\n",
       "      <td>0.000000e+00</td>\n",
       "      <td>0.000000e+00</td>\n",
       "      <td>0.000000e+00</td>\n",
       "      <td>0.000000e+00</td>\n",
       "      <td>0.000000e+00</td>\n",
       "      <td>0.000000e+00</td>\n",
       "      <td>0.000000e+00</td>\n",
       "      <td>NaN</td>\n",
       "      <td>NaN</td>\n",
       "      <td>0.000000e+00</td>\n",
       "    </tr>\n",
       "    <tr>\n",
       "      <th>75%</th>\n",
       "      <td>1.113527e+06</td>\n",
       "      <td>NaN</td>\n",
       "      <td>NaN</td>\n",
       "      <td>NaN</td>\n",
       "      <td>NaN</td>\n",
       "      <td>NaN</td>\n",
       "      <td>NaN</td>\n",
       "      <td>NaN</td>\n",
       "      <td>0.000000e+00</td>\n",
       "      <td>0.000000e+00</td>\n",
       "      <td>...</td>\n",
       "      <td>0.000000e+00</td>\n",
       "      <td>0.000000e+00</td>\n",
       "      <td>0.000000e+00</td>\n",
       "      <td>0.000000e+00</td>\n",
       "      <td>0.000000e+00</td>\n",
       "      <td>0.000000e+00</td>\n",
       "      <td>0.000000e+00</td>\n",
       "      <td>NaN</td>\n",
       "      <td>NaN</td>\n",
       "      <td>0.000000e+00</td>\n",
       "    </tr>\n",
       "    <tr>\n",
       "      <th>max</th>\n",
       "      <td>1.394803e+06</td>\n",
       "      <td>1.000000e+00</td>\n",
       "      <td>9.900000e+01</td>\n",
       "      <td>3.000000e+00</td>\n",
       "      <td>1.0</td>\n",
       "      <td>5.200000e+01</td>\n",
       "      <td>1.000000e+00</td>\n",
       "      <td>2.889440e+07</td>\n",
       "      <td>1.000000e+00</td>\n",
       "      <td>1.000000e+00</td>\n",
       "      <td>...</td>\n",
       "      <td>1.000000e+00</td>\n",
       "      <td>1.000000e+00</td>\n",
       "      <td>1.000000e+00</td>\n",
       "      <td>1.000000e+00</td>\n",
       "      <td>1.000000e+00</td>\n",
       "      <td>1.000000e+00</td>\n",
       "      <td>1.000000e+00</td>\n",
       "      <td>1.000000e+00</td>\n",
       "      <td>1.000000e+00</td>\n",
       "      <td>1.000000e+00</td>\n",
       "    </tr>\n",
       "  </tbody>\n",
       "</table>\n",
       "<p>8 rows × 32 columns</p>\n",
       "</div>"
      ],
      "text/plain": [
       "           ncodpers     ind_nuevo        indrel   indrel_1mes    tipodom  \\\n",
       "count  2.000000e+06  1.980972e+06  1.980972e+06  1.980972e+06  1980972.0   \n",
       "mean   7.693820e+05  4.490220e-03  1.121549e+00  1.000072e+00        1.0   \n",
       "std    3.981139e+05  6.685851e-02  3.449214e+00  1.195216e-02        0.0   \n",
       "min    1.588900e+04  0.000000e+00  1.000000e+00  1.000000e+00        1.0   \n",
       "25%    4.333370e+05           NaN           NaN           NaN        NaN   \n",
       "50%    8.339755e+05           NaN           NaN           NaN        NaN   \n",
       "75%    1.113527e+06           NaN           NaN           NaN        NaN   \n",
       "max    1.394803e+06  1.000000e+00  9.900000e+01  3.000000e+00        1.0   \n",
       "\n",
       "           cod_prov  ind_actividad_cliente         renta  ind_ahor_fin_ult1  \\\n",
       "count  1.968845e+06           1.980972e+06  1.645651e+06       2.000000e+06   \n",
       "mean   2.673299e+01           5.453156e-01  1.351959e+05       1.445000e-04   \n",
       "std    1.263372e+01           4.979424e-01  2.247456e+05       1.201995e-02   \n",
       "min    1.000000e+00           0.000000e+00  1.202730e+03       0.000000e+00   \n",
       "25%             NaN                    NaN           NaN       0.000000e+00   \n",
       "50%             NaN                    NaN           NaN       0.000000e+00   \n",
       "75%             NaN                    NaN           NaN       0.000000e+00   \n",
       "max    5.200000e+01           1.000000e+00  2.889440e+07       1.000000e+00   \n",
       "\n",
       "       ind_aval_fin_ult1       ...         ind_hip_fin_ult1  \\\n",
       "count       2.000000e+06       ...             2.000000e+06   \n",
       "mean        3.300000e-05       ...             8.124500e-03   \n",
       "std         5.744469e-03       ...             8.976913e-02   \n",
       "min         0.000000e+00       ...             0.000000e+00   \n",
       "25%         0.000000e+00       ...             0.000000e+00   \n",
       "50%         0.000000e+00       ...             0.000000e+00   \n",
       "75%         0.000000e+00       ...             0.000000e+00   \n",
       "max         1.000000e+00       ...             1.000000e+00   \n",
       "\n",
       "       ind_plan_fin_ult1  ind_pres_fin_ult1  ind_reca_fin_ult1  \\\n",
       "count       2.000000e+06       2.000000e+06       2.000000e+06   \n",
       "mean        1.172200e-02       3.885000e-03       6.302450e-02   \n",
       "std         1.076318e-01       6.220859e-02       2.430071e-01   \n",
       "min         0.000000e+00       0.000000e+00       0.000000e+00   \n",
       "25%         0.000000e+00       0.000000e+00       0.000000e+00   \n",
       "50%         0.000000e+00       0.000000e+00       0.000000e+00   \n",
       "75%         0.000000e+00       0.000000e+00       0.000000e+00   \n",
       "max         1.000000e+00       1.000000e+00       1.000000e+00   \n",
       "\n",
       "       ind_tjcr_fin_ult1  ind_valo_fin_ult1  ind_viv_fin_ult1  \\\n",
       "count       2.000000e+06       2.000000e+06      2.000000e+06   \n",
       "mean        5.699050e-02       3.239950e-02      5.244500e-03   \n",
       "std         2.318245e-01       1.770587e-01      7.222879e-02   \n",
       "min         0.000000e+00       0.000000e+00      0.000000e+00   \n",
       "25%         0.000000e+00       0.000000e+00      0.000000e+00   \n",
       "50%         0.000000e+00       0.000000e+00      0.000000e+00   \n",
       "75%         0.000000e+00       0.000000e+00      0.000000e+00   \n",
       "max         1.000000e+00       1.000000e+00      1.000000e+00   \n",
       "\n",
       "       ind_nomina_ult1  ind_nom_pens_ult1  ind_recibo_ult1  \n",
       "count     1.990494e+06       1.990494e+06     2.000000e+06  \n",
       "mean      6.626345e-02       7.145915e-02     1.539895e-01  \n",
       "std       2.487421e-01       2.575903e-01     3.609388e-01  \n",
       "min       0.000000e+00       0.000000e+00     0.000000e+00  \n",
       "25%                NaN                NaN     0.000000e+00  \n",
       "50%                NaN                NaN     0.000000e+00  \n",
       "75%                NaN                NaN     0.000000e+00  \n",
       "max       1.000000e+00       1.000000e+00     1.000000e+00  \n",
       "\n",
       "[8 rows x 32 columns]"
      ]
     },
     "execution_count": 4,
     "metadata": {},
     "output_type": "execute_result"
    }
   ],
   "source": [
    "df.describe()"
   ]
  },
  {
   "cell_type": "code",
   "execution_count": 5,
   "metadata": {
    "collapsed": false
   },
   "outputs": [
    {
     "data": {
      "text/plain": [
       "fecha_dato                      2015-01-28\n",
       "ncodpers                           1375586\n",
       "ind_empleado                             N\n",
       "pais_residencia                         ES\n",
       "sexo                                     H\n",
       "age                                     35\n",
       "fecha_alta                      2015-01-12\n",
       "ind_nuevo                                0\n",
       "antiguedad                               6\n",
       "indrel                                   1\n",
       "ult_fec_cli_1t                         NaN\n",
       "indrel_1mes                              1\n",
       "tiprel_1mes                              A\n",
       "indresi                                  S\n",
       "indext                                   N\n",
       "conyuemp                               NaN\n",
       "canal_entrada                          KHL\n",
       "indfall                                  N\n",
       "tipodom                                  1\n",
       "cod_prov                                29\n",
       "nomprov                             MALAGA\n",
       "ind_actividad_cliente                    1\n",
       "renta                              87218.1\n",
       "segmento                 02 - PARTICULARES\n",
       "ind_ahor_fin_ult1                        0\n",
       "ind_aval_fin_ult1                        0\n",
       "ind_cco_fin_ult1                         1\n",
       "ind_cder_fin_ult1                        0\n",
       "ind_cno_fin_ult1                         0\n",
       "ind_ctju_fin_ult1                        0\n",
       "ind_ctma_fin_ult1                        0\n",
       "ind_ctop_fin_ult1                        0\n",
       "ind_ctpp_fin_ult1                        0\n",
       "ind_deco_fin_ult1                        0\n",
       "ind_deme_fin_ult1                        0\n",
       "ind_dela_fin_ult1                        0\n",
       "ind_ecue_fin_ult1                        0\n",
       "ind_fond_fin_ult1                        0\n",
       "ind_hip_fin_ult1                         0\n",
       "ind_plan_fin_ult1                        0\n",
       "ind_pres_fin_ult1                        0\n",
       "ind_reca_fin_ult1                        0\n",
       "ind_tjcr_fin_ult1                        0\n",
       "ind_valo_fin_ult1                        0\n",
       "ind_viv_fin_ult1                         0\n",
       "ind_nomina_ult1                          0\n",
       "ind_nom_pens_ult1                        0\n",
       "ind_recibo_ult1                          0\n",
       "Name: 0, dtype: object"
      ]
     },
     "execution_count": 5,
     "metadata": {},
     "output_type": "execute_result"
    }
   ],
   "source": [
    "df.loc[0]"
   ]
  },
  {
   "cell_type": "code",
   "execution_count": 6,
   "metadata": {
    "collapsed": false
   },
   "outputs": [
    {
     "data": {
      "text/plain": [
       "48"
      ]
     },
     "execution_count": 6,
     "metadata": {},
     "output_type": "execute_result"
    }
   ],
   "source": [
    "len(df.columns)"
   ]
  },
  {
   "cell_type": "code",
   "execution_count": 7,
   "metadata": {
    "collapsed": true
   },
   "outputs": [],
   "source": [
    "# got 33 variables. lets search for the description of each one\n",
    "# https://www.kaggle.com/c/santander-product-recommendation/data"
   ]
  },
  {
   "cell_type": "raw",
   "metadata": {},
   "source": [
    "Let's group the variables into different type of features:\n",
    "* Grouped by Type\n",
    "Date or Code: can be index\n",
    "NCodePers: type of employee. 5 types allowed. Categorical\n",
    "pais_residencia, sexo, age, conyuemp, indfall, ind_actividad_cliente: categorical features that describe customer. conyuemp describe if it is a spouse of the employee. indfall if dead or not. ind_actividad_cliente active or inactive, boolean. \n",
    "fecha_alta: date the customer signed in with the bank\n",
    "ind_nuevo: boolean. indicates whether or not the customer joined in the last 6 months\n",
    "antiguedad: continuous. customer seniority in months\n",
    "indrel, ult_fec_cli_1t, indrel_1mes, tiprel_1mes: related to customer type at a given point in time\n",
    "indresi, indext: customer location, if foreign or not\n",
    "canal_entrada: channel used to join\n",
    "tipodom, cod_prov, nomprov: variables related to customer address\n",
    "renta: gross income of household. continuous\n",
    "segmento: customer classification within bank\n",
    "\n",
    "total of 24 variables per customer\n",
    "\n",
    "* Varchar (text or long int)\n",
    "cod_prov: \tProvince code (customer's address), probably long int\n",
    "nomprov: Province name (moved to categorical)\n",
    "pais_residencia: Customer's Country residence\n",
    "Code: Customer code. LongInt\n",
    "\n",
    "* Date\n",
    "Date: The table is partitioned for this column. Date\n",
    "fecha_alta: The date in which the customer became as the first holder of a contract in the bank\n",
    "ult_fec_cli_1t: Last date as primary customer (if he isn't at the end of the month)\n",
    "\n",
    "* Boolean\n",
    "indfall: dead or not\n",
    "ind_actividad_cliente: active or inactive\n",
    "conyuemp: spouse of employee or not\n",
    "ind_nuevo: customer joined on past 6 months or not\n",
    "indresi: residence country is same as bank country\n",
    "indext: customer birth different than bank country\n",
    "tipodom: address is primary address or not\n",
    "\n",
    "* Categorical\n",
    "segmento: segmentation: 01 - VIP, 02 - Individuals 03 - college graduated\n",
    "ind_empleado: Employee index: A active, B ex employed, F filial, N not employee, P pasive\n",
    "sex: sexo\n",
    "indrel: 1 (First/Primary), 99 (Primary customer during the month but not at the end of the month)\n",
    "indrel_1mes: Customer type at the beginning of the month ,1 (First/Primary customer), 2 (co-owner ),P (Potential),3 (former primary), 4(former co-owner)\n",
    "tiprel_1mes: Customer relation type at the beginning of the month, A (active), I (inactive), P (former customer),R (Potential)\n",
    "canal_entrada: channel used by the customer to join\n",
    "\n",
    "* Numerical (continous or discrete):\n",
    "antiguedad: Customer seniority (in months)\n",
    "age: Age\n",
    "renta: gross income of household\n",
    "\n",
    "\n",
    "ind_ahor_fin_ult1 and ...:\n",
    "these are boolean variables. indicates if the customer have consumed or not this product.\n",
    "this is what we should be predicting\n",
    "there are 24 different products\n"
   ]
  },
  {
   "cell_type": "markdown",
   "metadata": {},
   "source": [
    "### Missing Values"
   ]
  },
  {
   "cell_type": "code",
   "execution_count": 8,
   "metadata": {
    "collapsed": false
   },
   "outputs": [
    {
     "data": {
      "text/plain": [
       "fecha_dato                     0\n",
       "ncodpers                       0\n",
       "ind_empleado               19028\n",
       "pais_residencia            19028\n",
       "sexo                       19036\n",
       "age                            0\n",
       "fecha_alta                 19028\n",
       "ind_nuevo                  19028\n",
       "antiguedad                     0\n",
       "indrel                     19028\n",
       "ult_fec_cli_1t           1997543\n",
       "indrel_1mes                19028\n",
       "tiprel_1mes                19028\n",
       "indresi                    19028\n",
       "indext                     19028\n",
       "conyuemp                 1999734\n",
       "canal_entrada              19167\n",
       "indfall                    19028\n",
       "tipodom                    19028\n",
       "cod_prov                   31155\n",
       "nomprov                    31155\n",
       "ind_actividad_cliente      19028\n",
       "renta                     354349\n",
       "segmento                   19222\n",
       "ind_ahor_fin_ult1              0\n",
       "ind_aval_fin_ult1              0\n",
       "ind_cco_fin_ult1               0\n",
       "ind_cder_fin_ult1              0\n",
       "ind_cno_fin_ult1               0\n",
       "ind_ctju_fin_ult1              0\n",
       "ind_ctma_fin_ult1              0\n",
       "ind_ctop_fin_ult1              0\n",
       "ind_ctpp_fin_ult1              0\n",
       "ind_deco_fin_ult1              0\n",
       "ind_deme_fin_ult1              0\n",
       "ind_dela_fin_ult1              0\n",
       "ind_ecue_fin_ult1              0\n",
       "ind_fond_fin_ult1              0\n",
       "ind_hip_fin_ult1               0\n",
       "ind_plan_fin_ult1              0\n",
       "ind_pres_fin_ult1              0\n",
       "ind_reca_fin_ult1              0\n",
       "ind_tjcr_fin_ult1              0\n",
       "ind_valo_fin_ult1              0\n",
       "ind_viv_fin_ult1               0\n",
       "ind_nomina_ult1             9506\n",
       "ind_nom_pens_ult1           9506\n",
       "ind_recibo_ult1                0\n",
       "dtype: int64"
      ]
     },
     "execution_count": 8,
     "metadata": {},
     "output_type": "execute_result"
    }
   ],
   "source": [
    "# checking null values\n",
    "df.isnull().sum()"
   ]
  },
  {
   "cell_type": "markdown",
   "metadata": {},
   "source": [
    "Three variables stand out:\n",
    "* conyuemp : 0 in 100.000 entries. not many customers will be spouse of employees, I guess\n",
    "* ult_fec_cli_1t: 128 in 100.000 entries. this data represent last date as primary customer. Meaning probably there aren't many customers who change from primary to normal customer\n",
    "* renta: about 1/5 of the entries are missing. \n",
    "\n",
    "Other relevant findings:\n",
    "* Products ind_nomina_ult1 and ind_nom_pens_ult1 have missing values. That is weird and should be investigated. Why NaN instead of 0?\n",
    "* For 683 customers, a small percentage (less than 1%), almost all information is missing. Are these relevant to the analysis? Probably not\n"
   ]
  },
  {
   "cell_type": "code",
   "execution_count": 9,
   "metadata": {
    "collapsed": false
   },
   "outputs": [],
   "source": [
    "# what to do with null values?\n",
    "# df.isnull().sum().sort_values(ascending=False)[:10]\n",
    "\n",
    "# I will remove the 683 entries with lot's of null values\n",
    "# for the remaining, I only have an issue with renta\n",
    "# if I make it 0, it might make my worst. I can try to predict. \n",
    "# If I fill with median, it's going to distort my dataset. I will just remove them all for now\n",
    "\n",
    "# removing the variables with over 90% null values. may try later and check impact\n",
    "for col in ['ult_fec_cli_1t', 'conyuemp']:\n",
    "    del df[col]\n",
    "\n",
    "df = df.dropna()"
   ]
  },
  {
   "cell_type": "markdown",
   "metadata": {},
   "source": [
    "### Numerical Vars"
   ]
  },
  {
   "cell_type": "code",
   "execution_count": 10,
   "metadata": {
    "collapsed": false
   },
   "outputs": [
    {
     "data": {
      "text/html": [
       "<div>\n",
       "<table border=\"1\" class=\"dataframe\">\n",
       "  <thead>\n",
       "    <tr style=\"text-align: right;\">\n",
       "      <th></th>\n",
       "      <th>renta</th>\n",
       "    </tr>\n",
       "  </thead>\n",
       "  <tbody>\n",
       "    <tr>\n",
       "      <th>count</th>\n",
       "      <td>1.645414e+06</td>\n",
       "    </tr>\n",
       "    <tr>\n",
       "      <th>mean</th>\n",
       "      <td>1.351941e+05</td>\n",
       "    </tr>\n",
       "    <tr>\n",
       "      <th>std</th>\n",
       "      <td>2.247550e+05</td>\n",
       "    </tr>\n",
       "    <tr>\n",
       "      <th>min</th>\n",
       "      <td>1.202730e+03</td>\n",
       "    </tr>\n",
       "    <tr>\n",
       "      <th>25%</th>\n",
       "      <td>6.957471e+04</td>\n",
       "    </tr>\n",
       "    <tr>\n",
       "      <th>50%</th>\n",
       "      <td>1.032862e+05</td>\n",
       "    </tr>\n",
       "    <tr>\n",
       "      <th>75%</th>\n",
       "      <td>1.579284e+05</td>\n",
       "    </tr>\n",
       "    <tr>\n",
       "      <th>max</th>\n",
       "      <td>2.889440e+07</td>\n",
       "    </tr>\n",
       "  </tbody>\n",
       "</table>\n",
       "</div>"
      ],
      "text/plain": [
       "              renta\n",
       "count  1.645414e+06\n",
       "mean   1.351941e+05\n",
       "std    2.247550e+05\n",
       "min    1.202730e+03\n",
       "25%    6.957471e+04\n",
       "50%    1.032862e+05\n",
       "75%    1.579284e+05\n",
       "max    2.889440e+07"
      ]
     },
     "execution_count": 10,
     "metadata": {},
     "output_type": "execute_result"
    }
   ],
   "source": [
    "# let's look at each type of variables in its own turn\n",
    "# start with numerical\n",
    "df[numerical_vars].describe()"
   ]
  },
  {
   "cell_type": "code",
   "execution_count": 11,
   "metadata": {
    "collapsed": false
   },
   "outputs": [
    {
     "data": {
      "text/plain": [
       "age            object\n",
       "antiguedad     object\n",
       "renta         float64\n",
       "dtype: object"
      ]
     },
     "execution_count": 11,
     "metadata": {},
     "output_type": "execute_result"
    }
   ],
   "source": [
    "df[numerical_vars].dtypes"
   ]
  },
  {
   "cell_type": "code",
   "execution_count": 12,
   "metadata": {
    "collapsed": false
   },
   "outputs": [
    {
     "name": "stderr",
     "output_type": "stream",
     "text": [
      "/Users/lucasosouza/anaconda/envs/udacity/lib/python3.5/site-packages/ipykernel/__main__.py:7: FutureWarning: convert_objects is deprecated.  Use the data-type specific converters pd.to_datetime, pd.to_timedelta and pd.to_numeric.\n"
     ]
    },
    {
     "data": {
      "text/html": [
       "<div>\n",
       "<table border=\"1\" class=\"dataframe\">\n",
       "  <thead>\n",
       "    <tr style=\"text-align: right;\">\n",
       "      <th></th>\n",
       "      <th>age</th>\n",
       "      <th>antiguedad</th>\n",
       "      <th>renta</th>\n",
       "    </tr>\n",
       "  </thead>\n",
       "  <tbody>\n",
       "    <tr>\n",
       "      <th>count</th>\n",
       "      <td>1.645414e+06</td>\n",
       "      <td>1.645414e+06</td>\n",
       "      <td>1.645414e+06</td>\n",
       "    </tr>\n",
       "    <tr>\n",
       "      <th>mean</th>\n",
       "      <td>4.115465e+01</td>\n",
       "      <td>8.186675e+01</td>\n",
       "      <td>1.351941e+05</td>\n",
       "    </tr>\n",
       "    <tr>\n",
       "      <th>std</th>\n",
       "      <td>1.708962e+01</td>\n",
       "      <td>1.910820e+03</td>\n",
       "      <td>2.247550e+05</td>\n",
       "    </tr>\n",
       "    <tr>\n",
       "      <th>min</th>\n",
       "      <td>2.000000e+00</td>\n",
       "      <td>-9.999990e+05</td>\n",
       "      <td>1.202730e+03</td>\n",
       "    </tr>\n",
       "    <tr>\n",
       "      <th>25%</th>\n",
       "      <td>2.500000e+01</td>\n",
       "      <td>3.000000e+01</td>\n",
       "      <td>6.957471e+04</td>\n",
       "    </tr>\n",
       "    <tr>\n",
       "      <th>50%</th>\n",
       "      <td>4.000000e+01</td>\n",
       "      <td>6.900000e+01</td>\n",
       "      <td>1.032862e+05</td>\n",
       "    </tr>\n",
       "    <tr>\n",
       "      <th>75%</th>\n",
       "      <td>5.100000e+01</td>\n",
       "      <td>1.390000e+02</td>\n",
       "      <td>1.579284e+05</td>\n",
       "    </tr>\n",
       "    <tr>\n",
       "      <th>max</th>\n",
       "      <td>1.160000e+02</td>\n",
       "      <td>2.460000e+02</td>\n",
       "      <td>2.889440e+07</td>\n",
       "    </tr>\n",
       "  </tbody>\n",
       "</table>\n",
       "</div>"
      ],
      "text/plain": [
       "                age    antiguedad         renta\n",
       "count  1.645414e+06  1.645414e+06  1.645414e+06\n",
       "mean   4.115465e+01  8.186675e+01  1.351941e+05\n",
       "std    1.708962e+01  1.910820e+03  2.247550e+05\n",
       "min    2.000000e+00 -9.999990e+05  1.202730e+03\n",
       "25%    2.500000e+01  3.000000e+01  6.957471e+04\n",
       "50%    4.000000e+01  6.900000e+01  1.032862e+05\n",
       "75%    5.100000e+01  1.390000e+02  1.579284e+05\n",
       "max    1.160000e+02  2.460000e+02  2.889440e+07"
      ]
     },
     "execution_count": 12,
     "metadata": {},
     "output_type": "execute_result"
    }
   ],
   "source": [
    "# age and antigued have no missing values, while rent has a lot, about 1/5. \n",
    "# regardless,  these have been tagged as object and not float or int. why?\n",
    "df['age'].value_counts()\n",
    "df['antiguedad'].value_counts()\n",
    "\n",
    "# seems ok till here. let's try to force convert to int\n",
    "df[['age', 'antiguedad']] = df[['age', 'antiguedad']].convert_objects(convert_numeric=True)\n",
    "df[numerical_vars].describe()"
   ]
  },
  {
   "cell_type": "markdown",
   "metadata": {},
   "source": [
    "### Boolean Vars"
   ]
  },
  {
   "cell_type": "code",
   "execution_count": 13,
   "metadata": {
    "collapsed": false
   },
   "outputs": [
    {
     "name": "stdout",
     "output_type": "stream",
     "text": [
      "N    1641286\n",
      "S       4128\n",
      "Name: indfall, dtype: int64\n",
      "1.0    911661\n",
      "0.0    733753\n",
      "Name: ind_actividad_cliente, dtype: int64\n",
      "0.0    1638309\n",
      "1.0       7105\n",
      "Name: ind_nuevo, dtype: int64\n",
      "S    1645398\n",
      "N         16\n",
      "Name: indresi, dtype: int64\n",
      "N    1580095\n",
      "S      65319\n",
      "Name: indext, dtype: int64\n",
      "1.0    1645414\n",
      "Name: tipodom, dtype: int64\n"
     ]
    }
   ],
   "source": [
    "boolean_vars = ['indfall', 'ind_actividad_cliente', 'ind_nuevo', 'indresi', 'indext', 'tipodom']\n",
    "\n",
    "# first, let's check if they are indeed boolean\n",
    "for var in boolean_vars:\n",
    "    print(df[var].value_counts())\n",
    "    "
   ]
  },
  {
   "cell_type": "markdown",
   "metadata": {},
   "source": [
    "Things to note:\n",
    "* All primary address flag have returned True (tipodom). It can be discarded\n",
    "* Most of these boolean are highly skewed towards either S(yes) or N(no). Includes, ind_nuevo (new client or not), indresi(lives in country or not), indext(foreign or not). These will not be such useful features\n",
    "* Only 40% of the customers are active. I will assume inactive customers wont't buy new stuff, so we can apply a simple heuristic in the classification as the first step. Should also include in this heuristic dead customers, although dead customers are probably inactive\n",
    "* Finally, not all are 0 or 1, they are tagged as S/N. Can convert to 0 or 1\n"
   ]
  },
  {
   "cell_type": "code",
   "execution_count": 14,
   "metadata": {
    "collapsed": false
   },
   "outputs": [
    {
     "data": {
      "text/plain": [
       "2469.0"
      ]
     },
     "execution_count": 14,
     "metadata": {},
     "output_type": "execute_result"
    }
   ],
   "source": [
    "# check if all dead customers are inactive\n",
    "df.loc[df['indfall'] == 'S', 'ind_actividad_cliente'].sum()"
   ]
  },
  {
   "cell_type": "markdown",
   "metadata": {},
   "source": [
    "14 out of 21 dead customers are active. So I should not take this for granted"
   ]
  },
  {
   "cell_type": "code",
   "execution_count": 15,
   "metadata": {
    "collapsed": false
   },
   "outputs": [],
   "source": [
    "# convert S/N to boolean\n",
    "for var in ['indfall', 'indresi', 'indext']:\n",
    "    df[var] = df[var] == 'S'\n",
    "    \n",
    "# mark columns to be removed, later. need to check entire dataset to be sure\n",
    "columns_to_remove = ['tipodom']"
   ]
  },
  {
   "cell_type": "code",
   "execution_count": 16,
   "metadata": {
    "collapsed": false
   },
   "outputs": [
    {
     "data": {
      "text/plain": [
       "indfall                     bool\n",
       "ind_actividad_cliente    float64\n",
       "ind_nuevo                float64\n",
       "indresi                     bool\n",
       "indext                      bool\n",
       "tipodom                  float64\n",
       "dtype: object"
      ]
     },
     "execution_count": 16,
     "metadata": {},
     "output_type": "execute_result"
    }
   ],
   "source": [
    "df[boolean_vars].dtypes"
   ]
  },
  {
   "cell_type": "markdown",
   "metadata": {},
   "source": [
    "### Varchar Vars"
   ]
  },
  {
   "cell_type": "code",
   "execution_count": 17,
   "metadata": {
    "collapsed": true
   },
   "outputs": [],
   "source": [
    "varchar_vars = ['cod_prov', 'nomprov', 'pais_residencia', 'ncodpers']\n"
   ]
  },
  {
   "cell_type": "code",
   "execution_count": 18,
   "metadata": {
    "collapsed": false
   },
   "outputs": [],
   "source": [
    "# a short disgression to check how recent is the database of customers\n",
    "# df.ix[0, 'ncodpers'], df.ix[99999, 'ncodpers']\n",
    "\n",
    "# it seems more like a sort descending, so it can be that they gave me training data for old customers.\n",
    "# The test data will most likely represent newer customers, so it is a longitudinal split, not random\n",
    "# That hypothesis get stronger if we consider there are only 21 customers who joined in the past 6 months\n",
    "# need to confirm this later"
   ]
  },
  {
   "cell_type": "code",
   "execution_count": 19,
   "metadata": {
    "collapsed": false
   },
   "outputs": [
    {
     "data": {
      "text/plain": [
       "ES    1645398\n",
       "IT          6\n",
       "PY          4\n",
       "DE          3\n",
       "BO          3\n",
       "Name: pais_residencia, dtype: int64"
      ]
     },
     "execution_count": 19,
     "metadata": {},
     "output_type": "execute_result"
    }
   ],
   "source": [
    "# A look at the others\n",
    "# how many different countries. If not a lot, move to categorical _vars\n",
    "df['pais_residencia'].value_counts()[:5]"
   ]
  },
  {
   "cell_type": "markdown",
   "metadata": {},
   "source": [
    "There are 33 different countries. But the data is very sparse, with over 99% concentrated in Spain. It is already represented in the boolean variable if the client is foreign or not, or if he/she lives abroad or not. So this country data as it is may not be so useful in a general classification problem. But, if I train foreigns separately, in a different classifier, I believe this variable will be more significant. For now I will remove."
   ]
  },
  {
   "cell_type": "code",
   "execution_count": 20,
   "metadata": {
    "collapsed": false
   },
   "outputs": [
    {
     "data": {
      "text/plain": [
       "MADRID       610026\n",
       "BARCELONA    149077\n",
       "SEVILLA       81861\n",
       "VALENCIA      79467\n",
       "CORUÑA, A     47611\n",
       "Name: nomprov, dtype: int64"
      ]
     },
     "execution_count": 20,
     "metadata": {},
     "output_type": "execute_result"
    }
   ],
   "source": [
    "# check nom_prov\n",
    "df['nomprov'].value_counts()[:5]"
   ]
  },
  {
   "cell_type": "markdown",
   "metadata": {},
   "source": [
    "52 different provincies, data is less sparse. This might be relevant, I should defintely apply one_hot_encoding to use as a featuere. Will move over to categorical vars"
   ]
  },
  {
   "cell_type": "code",
   "execution_count": 21,
   "metadata": {
    "collapsed": false
   },
   "outputs": [
    {
     "data": {
      "text/plain": [
       "51"
      ]
     },
     "execution_count": 21,
     "metadata": {},
     "output_type": "execute_result"
    }
   ],
   "source": [
    "df['cod_prov'].value_counts().count()"
   ]
  },
  {
   "cell_type": "markdown",
   "metadata": {},
   "source": [
    "52, same name. Just a representation for province name. Can be removed. I will keep the name so I can later map results to provinces. "
   ]
  },
  {
   "cell_type": "code",
   "execution_count": 22,
   "metadata": {
    "collapsed": true
   },
   "outputs": [],
   "source": [
    "for col in ['cod_prov', 'pais_residencia', 'ncodpers']:\n",
    "    columns_to_remove.append(col)"
   ]
  },
  {
   "cell_type": "markdown",
   "metadata": {},
   "source": [
    "### Categorical Vars"
   ]
  },
  {
   "cell_type": "code",
   "execution_count": 23,
   "metadata": {
    "collapsed": false
   },
   "outputs": [
    {
     "name": "stdout",
     "output_type": "stream",
     "text": [
      "02 - PARTICULARES     1000742\n",
      "03 - UNIVERSITARIO     557917\n",
      "01 - TOP                86755\n",
      "Name: segmento, dtype: int64\n",
      "N    1644081\n",
      "B        528\n",
      "A        411\n",
      "F        391\n",
      "S          3\n",
      "Name: ind_empleado, dtype: int64\n",
      "V    907045\n",
      "H    738369\n",
      "Name: sexo, dtype: int64\n",
      "1.0    1645396\n",
      "Name: indrel, dtype: int64\n",
      "1.0    1645412\n",
      "3.0          2\n",
      "Name: indrel_1mes, dtype: int64\n",
      "A    888068\n",
      "I    757344\n",
      "P         2\n",
      "Name: tiprel_1mes, dtype: int64\n",
      "KHE    516619\n",
      "KAT    452025\n",
      "KFC    405833\n",
      "KFA     62589\n",
      "KHK     18458\n",
      "Name: canal_entrada, dtype: int64\n",
      "MADRID       610026\n",
      "BARCELONA    149077\n",
      "SEVILLA       81861\n",
      "VALENCIA      79467\n",
      "CORUÑA, A     47611\n",
      "Name: nomprov, dtype: int64\n"
     ]
    }
   ],
   "source": [
    "categorical_vars = ['segmento', 'ind_empleado', 'sexo', 'indrel', \n",
    "                    'indrel_1mes', 'tiprel_1mes', 'canal_entrada', 'nomprov']\n",
    "\n",
    "for var in categorical_vars:\n",
    "    print(df[var].value_counts()[:5])"
   ]
  },
  {
   "cell_type": "markdown",
   "metadata": {},
   "source": [
    "Notes:\n",
    "* ind_empleado only has N, meaning not employee. Can be removed if same pattern for full dataset\n",
    "* indrel are also all 1 (first/primary). Not sure from the description whether or not this is a boolean variable (would be boolean if 1 and 99 are the only options). Needs to check full dataset\n",
    "* indrel_1mes, or customer type at beggining of the month, are mostly 1 (first/primary). Only 3 entries are 3(former/primary)> Does not seem relevant.\n",
    "* tiprel_1mes is mainly divided between Active and Inactive, with 3 former, probably same 3 as last field indrel_1mes. If this data is correlated with boolean field ind_actividad_cliente, it may be discarded\n",
    "* Segmento, sexo, canal_entrada, and nomprov seems like good variables to differentiate customers\n"
   ]
  },
  {
   "cell_type": "code",
   "execution_count": 24,
   "metadata": {
    "collapsed": false
   },
   "outputs": [],
   "source": [
    "# remove indrel, indrel_1mes, ind_empleado\n",
    "for col in ['indrel', 'indrel_1mes', 'ind_empleado']:\n",
    "    columns_to_remove.append(col)\n",
    "\n",
    "# check correlation between indrel_1Mes and ind_actividad_cliente\n",
    "# pd.pivot_table(df[['ind_actividad_cliente', 'tiprel_1mes']], index= ['ind_actividad_cliente', 'tiprel_1mes'],\n",
    "#              aggfunc=len)\n",
    "\n",
    "# not 100% certain... can keep both variables for now"
   ]
  },
  {
   "cell_type": "code",
   "execution_count": 25,
   "metadata": {
    "collapsed": true
   },
   "outputs": [],
   "source": [
    "# one hot encode  remaining categorical vars with\n",
    "categorical_vars = ['segmento', 'sexo', 'tiprel_1mes', 'canal_entrada', 'nomprov']\n",
    "\n",
    "df = pd.get_dummies(df, prefix=None, prefix_sep='_', dummy_na=False, \n",
    "                   columns=categorical_vars, sparse=False, drop_first=False)"
   ]
  },
  {
   "cell_type": "markdown",
   "metadata": {},
   "source": [
    "### Date Vars"
   ]
  },
  {
   "cell_type": "code",
   "execution_count": 26,
   "metadata": {
    "collapsed": false
   },
   "outputs": [
    {
     "data": {
      "text/html": [
       "<div>\n",
       "<table border=\"1\" class=\"dataframe\">\n",
       "  <thead>\n",
       "    <tr style=\"text-align: right;\">\n",
       "      <th></th>\n",
       "      <th>fecha_dato</th>\n",
       "      <th>fecha_alta</th>\n",
       "    </tr>\n",
       "  </thead>\n",
       "  <tbody>\n",
       "    <tr>\n",
       "      <th>count</th>\n",
       "      <td>1645414</td>\n",
       "      <td>1645414</td>\n",
       "    </tr>\n",
       "    <tr>\n",
       "      <th>unique</th>\n",
       "      <td>4</td>\n",
       "      <td>6252</td>\n",
       "    </tr>\n",
       "    <tr>\n",
       "      <th>top</th>\n",
       "      <td>2015-03-28</td>\n",
       "      <td>2014-07-28</td>\n",
       "    </tr>\n",
       "    <tr>\n",
       "      <th>freq</th>\n",
       "      <td>518439</td>\n",
       "      <td>7698</td>\n",
       "    </tr>\n",
       "  </tbody>\n",
       "</table>\n",
       "</div>"
      ],
      "text/plain": [
       "        fecha_dato  fecha_alta\n",
       "count      1645414     1645414\n",
       "unique           4        6252\n",
       "top     2015-03-28  2014-07-28\n",
       "freq        518439        7698"
      ]
     },
     "execution_count": 26,
     "metadata": {},
     "output_type": "execute_result"
    }
   ],
   "source": [
    "# finally, let's look at date variables\n",
    "date_vars = ['fecha_dato', 'fecha_alta']\n",
    "df[date_vars].describe()"
   ]
  },
  {
   "cell_type": "code",
   "execution_count": 27,
   "metadata": {
    "collapsed": false
   },
   "outputs": [],
   "source": [
    "# df['ult_fec_cli_1t'].value_counts()[:5]"
   ]
  },
  {
   "cell_type": "markdown",
   "metadata": {},
   "source": [
    "Notes:\n",
    "* fecha_dato only has one value. Is not useful and should be removed\n",
    "* fecha alta would make more sense as in number of days or months since the customer made the first contract. But that would be the same as seniority, no? Let's calculate and check if there is a correlation between then"
   ]
  },
  {
   "cell_type": "code",
   "execution_count": 28,
   "metadata": {
    "collapsed": false
   },
   "outputs": [],
   "source": [
    "# will just drop it for now... come back to this later\n",
    "#base_date = df.ix[0, 'fecha_dato']\n",
    "#months_since_first_contract = df['fecha_alta'] - base_date\n",
    "\n",
    "for col in date_vars:\n",
    "    columns_to_remove.append(col)"
   ]
  },
  {
   "cell_type": "markdown",
   "metadata": {},
   "source": [
    "### First Shot at Prediction"
   ]
  },
  {
   "cell_type": "markdown",
   "metadata": {},
   "source": [
    "After all required corvertions have been made, I can make a first shot at predicting. First question we need to ask is, what I'm a predicting?\n",
    "\n",
    "I'm predicting comsuption of a certain product. I have a total of 24 booleans that will tell whether or not this customer consumed this product. These are my labels for a One vs All classification model.\n",
    "\n"
   ]
  },
  {
   "cell_type": "code",
   "execution_count": 29,
   "metadata": {
    "collapsed": false
   },
   "outputs": [
    {
     "data": {
      "text/plain": [
       "24"
      ]
     },
     "execution_count": 29,
     "metadata": {},
     "output_type": "execute_result"
    }
   ],
   "source": [
    "# separate the labels\n",
    "labels = []\n",
    "for col in df.columns:\n",
    "    if col[:4] == 'ind_' and col[-4:] == 'ult1':\n",
    "        labels.append(col)\n",
    "len(labels)"
   ]
  },
  {
   "cell_type": "code",
   "execution_count": 30,
   "metadata": {
    "collapsed": true
   },
   "outputs": [],
   "source": [
    "# X is the vars\n",
    "# y is the label\n",
    "# but what is it I'm trying to predict?\n",
    "# I can run one classifier per product, why not?\n",
    "# let's start with this one"
   ]
  },
  {
   "cell_type": "code",
   "execution_count": 31,
   "metadata": {
    "collapsed": false
   },
   "outputs": [
    {
     "name": "stderr",
     "output_type": "stream",
     "text": [
      "/Users/lucasosouza/anaconda/envs/udacity/lib/python3.5/site-packages/ipykernel/__main__.py:1: FutureWarning: using '-' to provide set differences with Indexes is deprecated, use .difference()\n",
      "  if __name__ == '__main__':\n"
     ]
    }
   ],
   "source": [
    "X = df[df.columns - columns_to_remove - labels]\n",
    "y = df[labels]"
   ]
  },
  {
   "cell_type": "code",
   "execution_count": 32,
   "metadata": {
    "collapsed": true
   },
   "outputs": [],
   "source": [
    "# these variables are now singletons, should remove them as well\n",
    "for col in X:\n",
    "    if len(X[col].value_counts()) == 1:\n",
    "        del X[col]        "
   ]
  },
  {
   "cell_type": "code",
   "execution_count": 33,
   "metadata": {
    "collapsed": false
   },
   "outputs": [],
   "source": [
    "# y['ind_cco_fin_ult1'].value_counts()\n",
    "# y.dtypes"
   ]
  },
  {
   "cell_type": "code",
   "execution_count": 34,
   "metadata": {
    "collapsed": false
   },
   "outputs": [],
   "source": [
    "from sklearn.tree import DecisionTreeClassifier as Tree\n",
    "from sklearn.model_selection import cross_val_score\n",
    "from sklearn.model_selection import StratifiedShuffleSplit\n",
    "import pdb"
   ]
  },
  {
   "cell_type": "code",
   "execution_count": 35,
   "metadata": {
    "collapsed": true
   },
   "outputs": [],
   "source": [
    "# avoid undefined metric warning when calculating precision with 0 labels defined as 1\n",
    "import warnings\n",
    "warnings.filterwarnings('ignore')"
   ]
  },
  {
   "cell_type": "code",
   "execution_count": 36,
   "metadata": {
    "collapsed": false
   },
   "outputs": [
    {
     "name": "stdout",
     "output_type": "stream",
     "text": [
      "0    1645160\n",
      "1        254\n",
      "Name: ind_ahor_fin_ult1, dtype: int64 0.970206896552 0.0511357801766\n",
      "0    1645352\n",
      "1         62\n",
      "Name: ind_aval_fin_ult1, dtype: int64 0.985714285714 0.0428571428571\n",
      "1    1269489\n",
      "0     375925\n",
      "Name: ind_cco_fin_ult1, dtype: int64 0.99152856454 0.000196028244108\n",
      "0    1644551\n",
      "1        863\n",
      "Name: ind_cder_fin_ult1, dtype: int64 0.965683030844 0.020322498497\n",
      "0    1476468\n",
      "1     168946\n",
      "Name: ind_cno_fin_ult1, dtype: int64 0.973648821087 0.000765942114241\n",
      "0    1622524\n",
      "1      22890\n",
      "Name: ind_ctju_fin_ult1, dtype: int64 0.994655992375 0.00102340105462\n",
      "0    1624537\n",
      "1      20877\n",
      "Name: ind_ctma_fin_ult1, dtype: int64 0.932060708999 0.00730638362076\n",
      "0    1352065\n",
      "1     293349\n",
      "Name: ind_ctop_fin_ult1, dtype: int64 0.991866063957 0.0007669917408\n",
      "0    1537170\n",
      "1     108244\n",
      "Name: ind_ctpp_fin_ult1, dtype: int64 0.987980114702 0.00103033759025\n",
      "0    1640709\n",
      "1       4705\n",
      "Name: ind_deco_fin_ult1, dtype: int64 0.698795353773 0.0158777076643\n",
      "0    1640948\n",
      "1       4466\n",
      "Name: ind_deme_fin_ult1, dtype: int64 0.962167894482 0.00796404049642\n",
      "0    1544316\n",
      "1     101098\n",
      "Name: ind_dela_fin_ult1, dtype: int64 0.962711885045 0.00156121964253\n",
      "0    1474925\n",
      "1     170489\n",
      "Name: ind_ecue_fin_ult1, dtype: int64 0.977810673244 0.00120450810222\n",
      "0    1606327\n",
      "1      39087\n",
      "Name: ind_fond_fin_ult1, dtype: int64 0.969384811498 0.00301675715707\n",
      "0    1631226\n",
      "1      14188\n",
      "Name: ind_hip_fin_ult1, dtype: int64 0.991800811434 0.00400830953493\n",
      "0    1624828\n",
      "1      20586\n",
      "Name: ind_plan_fin_ult1, dtype: int64 0.986514158654 0.00365913824098\n",
      "0    1639757\n",
      "1       5657\n",
      "Name: ind_pres_fin_ult1, dtype: int64 0.986346897958 0.0109654457716\n",
      "0    1538860\n",
      "1     106554\n",
      "Name: ind_reca_fin_ult1, dtype: int64 0.990634010281 0.00113973590123\n",
      "0    1546501\n",
      "1      98913\n",
      "Name: ind_tjcr_fin_ult1, dtype: int64 0.893083588253 0.00432920107387\n",
      "0    1590591\n",
      "1      54823\n",
      "Name: ind_valo_fin_ult1, dtype: int64 0.976741684205 0.00252125431111\n",
      "0    1636152\n",
      "1       9262\n",
      "Name: ind_viv_fin_ult1, dtype: int64 0.985158642825 0.00695727339837\n",
      "0.0    1529177\n",
      "1.0     116237\n",
      "Name: ind_nomina_ult1, dtype: int64 0.909737688179 0.00353717409375\n",
      "0.0    1520048\n",
      "1.0     125366\n",
      "Name: ind_nom_pens_ult1, dtype: int64 0.893211345766 0.00249274557236\n",
      "0    1378336\n",
      "1     267078\n",
      "Name: ind_recibo_ult1, dtype: int64 0.938439856971 0.00131615661721\n"
     ]
    }
   ],
   "source": [
    "# predict and output accuracy for each product\n",
    "# use cross validation\n",
    "for label in labels:\n",
    "    if len(y[label].value_counts()) != 1:\n",
    "        clf = Tree()\n",
    "        cv = StratifiedShuffleSplit()\n",
    "        score = cross_val_score(estimator=clf, X=X, y=y[label], scoring='precision', cv=cv)\n",
    "        print(y[label].value_counts(), score.mean(), score.std())"
   ]
  },
  {
   "cell_type": "markdown",
   "metadata": {},
   "source": [
    "Some results are good, some suck horribly. Let's see what I can get with the full dataset.\n"
   ]
  },
  {
   "cell_type": "code",
   "execution_count": null,
   "metadata": {
    "collapsed": true
   },
   "outputs": [],
   "source": []
  }
 ],
 "metadata": {
  "anaconda-cloud": {},
  "kernelspec": {
   "display_name": "Python [conda env:udacity]",
   "language": "python",
   "name": "conda-env-udacity-py"
  },
  "language_info": {
   "codemirror_mode": {
    "name": "ipython",
    "version": 3
   },
   "file_extension": ".py",
   "mimetype": "text/x-python",
   "name": "python",
   "nbconvert_exporter": "python",
   "pygments_lexer": "ipython3",
   "version": "3.5.2"
  }
 },
 "nbformat": 4,
 "nbformat_minor": 1
}
