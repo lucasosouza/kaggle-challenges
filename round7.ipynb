{
 "cells": [
  {
   "cell_type": "code",
   "execution_count": 1,
   "metadata": {
    "collapsed": true
   },
   "outputs": [],
   "source": [
    "# import useful stuff\n",
    "import pandas as pd\n",
    "from sklearn.tree import DecisionTreeClassifier\n",
    "from sklearn.tree import DecisionTreeRegressor\n",
    "import re\n",
    "import numpy as np\n",
    "\n",
    "from sklearn.feature_selection import SelectKBest\n",
    "from sklearn.model_selection import cross_val_score\n",
    "from sklearn.model_selection import StratifiedShuffleSplit\n",
    "from sklearn.metrics import f1_score\n",
    "\n",
    "from sklearn.decomposition import PCA\n",
    "from sklearn.preprocessing import MinMaxScaler\n",
    "\n",
    "from sklearn.metrics import accuracy_score\n",
    "\n",
    "# avoid undefined metric warning when calculating precision with 0 labels defined as 1\n",
    "import warnings\n",
    "warnings.filterwarnings('ignore')\n",
    "\n",
    "from sklearn.linear_model import SGDClassifier"
   ]
  },
  {
   "cell_type": "markdown",
   "metadata": {},
   "source": [
    "### Data transformations"
   ]
  },
  {
   "cell_type": "markdown",
   "metadata": {},
   "source": [
    "1. Load data\n",
    "2. Transform data\n",
    "3. Create features and lables\n",
    "4. Re-select features\n",
    "5. Train\n",
    "6. Cross-validate"
   ]
  },
  {
   "cell_type": "markdown",
   "metadata": {},
   "source": [
    "#### Load Data"
   ]
  },
  {
   "cell_type": "code",
   "execution_count": 2,
   "metadata": {
    "collapsed": false
   },
   "outputs": [],
   "source": [
    "def gen_data(test=None):\n",
    "\n",
    "    if test:\n",
    "        df = pd.read_csv('test_ver2.csv')\n",
    "    else: \n",
    "        df = pd.read_csv('train_ver2.csv')\n",
    "    \n",
    "    # separate the labels\n",
    "    labels = []\n",
    "    for col in df.columns:\n",
    "        if col[:4] == 'ind_' and col[-4:] == 'ult1':\n",
    "            labels.append(col)\n",
    "\n",
    "    # create X and y delete dataframe\n",
    "    X = df[df.columns.difference(labels)]\n",
    "    y = df[labels].fillna(value=0) # NAs in labels will be considered 0\n",
    "    del df\n",
    "\n",
    "    return X,y, labels"
   ]
  },
  {
   "cell_type": "code",
   "execution_count": 3,
   "metadata": {
    "collapsed": false
   },
   "outputs": [],
   "source": [
    "X, y, labels =  gen_data()"
   ]
  },
  {
   "cell_type": "code",
   "execution_count": 4,
   "metadata": {
    "collapsed": false
   },
   "outputs": [
    {
     "data": {
      "text/plain": [
       "(13647309, 24)"
      ]
     },
     "execution_count": 4,
     "metadata": {},
     "output_type": "execute_result"
    }
   ],
   "source": [
    "X.shape"
   ]
  },
  {
   "cell_type": "markdown",
   "metadata": {},
   "source": [
    "#### Transform data"
   ]
  },
  {
   "cell_type": "code",
   "execution_count": null,
   "metadata": {
    "collapsed": false
   },
   "outputs": [],
   "source": [
    "def transform(df, fillna=True):\n",
    "    \"\"\" This version includes variables considered relevant\"\"\"\n",
    "    \n",
    "    ### variables to be removed ###\n",
    "    # remove cod_prov only, since it is redundant with nomprov\n",
    "    # removed fecha_alta - redundant with antiguedad\n",
    "    for col in ['cod_prov', 'fecha_alta']:\n",
    "        del df[col]    \n",
    "\n",
    "    ### numerical_vars ###\n",
    "    # convert numerical vars to int\n",
    "    numerical_vars = ['age', 'antiguedad', 'renta']\n",
    "    df[numerical_vars] = df[numerical_vars].convert_objects(convert_numeric=True)\n",
    "    \n",
    "    # change less or equal than 0 to nan\n",
    "    for var in numerical_vars:\n",
    "        df.ix[df[var] < 0, var] = np.nan\n",
    "\n",
    "    ### boolean and categorical vars ###\n",
    "    # convert S/N to boolean and remaining to number\n",
    "    boolean_vars = ['indfall', 'ind_actividad_cliente', 'ind_nuevo', 'indresi', 'indext', \n",
    "                    'tipodom', 'conyuemp', 'ind_actividad_cliente']\n",
    "    for var in ['indfall', 'indresi', 'indext', 'conyuemp']:\n",
    "        df[var] = df[var] == 'S'\n",
    "    df[boolean_vars] = df[boolean_vars].convert_objects(convert_numeric=True)\n",
    "        \n",
    "    # one hot encode categorical vars\n",
    "    # 150 canais, 103 paises, 52 provincias\n",
    "    categorical_vars = ['segmento', 'sexo', 'tiprel_1mes', 'canal_entrada', 'nomprov', \n",
    "                        'ind_empleado', 'indrel_1mes', 'ult_fec_cli_1t', 'pais_residencia']\n",
    "    df = pd.get_dummies(df, prefix=None, prefix_sep='_', dummy_na=False, \n",
    "                       columns=categorical_vars, sparse=False, drop_first=False)    \n",
    "\n",
    "    \n",
    "    ### handling null values ###\n",
    "    if fillna:\n",
    "        df = df.fillna(value=0)\n",
    "    else:\n",
    "        df = df.dropna()\n",
    "        \n",
    "    ### end ### \n",
    "            \n",
    "    return df"
   ]
  },
  {
   "cell_type": "code",
   "execution_count": null,
   "metadata": {
    "collapsed": false
   },
   "outputs": [],
   "source": [
    "X = transform(X)\n",
    "y = y.loc[X.index]"
   ]
  },
  {
   "cell_type": "markdown",
   "metadata": {},
   "source": [
    "#### Generate features and labels"
   ]
  },
  {
   "cell_type": "markdown",
   "metadata": {},
   "source": [
    "I want to capture evolution. So it would be current month - past months. I can do this for past 6 months. That means only after some date I will be able to generate data.\n",
    "\n",
    "At this point, there are two types of data in the dataset:\n",
    "* Numerical: for these, I will only evaluate if it increased, or decreased, hence converting to three categories: decreased (-1), unchanged (0), increased(1).\n",
    "* Boolean: Take current status minus previous status. If it has changed from 0 to 1, it will be 1, as in added. If changed from 1 to, it will be -1, as in removed. If it is 0, it means unchanged. "
   ]
  },
  {
   "cell_type": "code",
   "execution_count": null,
   "metadata": {
    "collapsed": false
   },
   "outputs": [],
   "source": [
    "X[0]"
   ]
  },
  {
   "cell_type": "code",
   "execution_count": null,
   "metadata": {
    "collapsed": true
   },
   "outputs": [],
   "source": []
  },
  {
   "cell_type": "code",
   "execution_count": null,
   "metadata": {
    "collapsed": true
   },
   "outputs": [],
   "source": []
  },
  {
   "cell_type": "code",
   "execution_count": null,
   "metadata": {
    "collapsed": true
   },
   "outputs": [],
   "source": [
    "# tra"
   ]
  },
  {
   "cell_type": "code",
   "execution_count": null,
   "metadata": {
    "collapsed": true
   },
   "outputs": [],
   "source": []
  },
  {
   "cell_type": "code",
   "execution_count": 7,
   "metadata": {
    "collapsed": false
   },
   "outputs": [],
   "source": [
    "df = pd.read_csv('test_ver2.csv')"
   ]
  },
  {
   "cell_type": "code",
   "execution_count": null,
   "metadata": {
    "collapsed": false
   },
   "outputs": [],
   "source": [
    "# get 100,000 \n",
    "nrows = df.shape[0]\n",
    "indices = np.random.permutation(nrows)\n",
    "ids = df.ix[indices[:100000], 'ncodpers']"
   ]
  },
  {
   "cell_type": "code",
   "execution_count": null,
   "metadata": {
    "collapsed": true
   },
   "outputs": [],
   "source": []
  },
  {
   "cell_type": "code",
   "execution_count": 5,
   "metadata": {
    "collapsed": false
   },
   "outputs": [],
   "source": [
    "X,y, labels = gen_data()\n",
    "X = transform(X)\n",
    "y = y.loc[X.index]"
   ]
  },
  {
   "cell_type": "markdown",
   "metadata": {},
   "source": [
    "### Get Deltas"
   ]
  },
  {
   "cell_type": "code",
   "execution_count": null,
   "metadata": {
    "collapsed": true
   },
   "outputs": [],
   "source": []
  },
  {
   "cell_type": "code",
   "execution_count": null,
   "metadata": {
    "collapsed": true
   },
   "outputs": [],
   "source": []
  },
  {
   "cell_type": "code",
   "execution_count": null,
   "metadata": {
    "collapsed": true
   },
   "outputs": [],
   "source": []
  },
  {
   "cell_type": "markdown",
   "metadata": {},
   "source": [
    "### Scale Numerical Features"
   ]
  },
  {
   "cell_type": "code",
   "execution_count": 6,
   "metadata": {
    "collapsed": false
   },
   "outputs": [],
   "source": [
    "# scale numerical_vars from 0 to 1\n",
    "numerical_vars = ['age', 'antiguedad', 'renta', 'ncodpers']\n",
    "scaler = MinMaxScaler()\n",
    "X[numerical_vars] = scaler.fit_transform(X[numerical_vars])"
   ]
  },
  {
   "cell_type": "markdown",
   "metadata": {},
   "source": [
    "### Initializing classifiers "
   ]
  },
  {
   "cell_type": "code",
   "execution_count": 7,
   "metadata": {
    "collapsed": false
   },
   "outputs": [
    {
     "name": "stdout",
     "output_type": "stream",
     "text": [
      "Label ind_ahor_fin_ult1: 0.00\n",
      "Label ind_aval_fin_ult1: 0.00\n",
      "Label ind_cco_fin_ult1: 0.79\n",
      "Label ind_cder_fin_ult1: 0.00\n",
      "Label ind_cno_fin_ult1: 0.00\n",
      "Label ind_ctju_fin_ult1: 0.61\n",
      "Label ind_ctma_fin_ult1: 0.00\n",
      "Label ind_ctop_fin_ult1: 0.00\n",
      "Label ind_ctpp_fin_ult1: 0.00\n",
      "Label ind_deco_fin_ult1: 0.00\n",
      "Label ind_deme_fin_ult1: 0.00\n",
      "Label ind_dela_fin_ult1: 0.49\n",
      "Label ind_ecue_fin_ult1: 0.00\n",
      "Label ind_fond_fin_ult1: 0.00\n",
      "Label ind_hip_fin_ult1: 0.00\n",
      "Label ind_plan_fin_ult1: 0.00\n",
      "Label ind_pres_fin_ult1: 0.40\n",
      "Label ind_reca_fin_ult1: 0.00\n",
      "Label ind_tjcr_fin_ult1: 0.00\n",
      "Label ind_valo_fin_ult1: 0.00\n",
      "Label ind_viv_fin_ult1: 0.00\n",
      "Label ind_nomina_ult1: 0.00\n",
      "Label ind_nom_pens_ult1: 0.00\n",
      "Label ind_recibo_ult1: 0.00\n"
     ]
    }
   ],
   "source": [
    "models = []\n",
    "for label in labels:\n",
    "    # select features\n",
    "    selector = SelectKBest()\n",
    "    selector.fit(X,y[label])\n",
    "    features = list(list(zip(*sorted(zip(X.columns, selector.scores_), key=lambda x:-x[1])))[0])\n",
    "    \n",
    "    #classify    \n",
    "    clf = SGDClassifier()\n",
    "    cv = StratifiedShuffleSplit()\n",
    "    scores = cross_val_score(clf, X[features[:12]], y[label], cv=cv, scoring='f1')\n",
    "    score_est = scores.mean()-scores.std()\n",
    "    \n",
    "    # store\n",
    "    models.append((label, SGDClassifier(), features, score_est))\n",
    "    print(\"Label {}: {:.2f}\".format(label, score_est.mean()))"
   ]
  },
  {
   "cell_type": "markdown",
   "metadata": {},
   "source": [
    "### Further training all classifiers"
   ]
  },
  {
   "cell_type": "code",
   "execution_count": 8,
   "metadata": {
    "collapsed": false
   },
   "outputs": [],
   "source": [
    "# sorted(filter(lambda v:v[1][2]>.3, models.items()), key=lambda x:-x[1][2])\n",
    "ordered_models = sorted(models, key=lambda x:-x[3])"
   ]
  },
  {
   "cell_type": "code",
   "execution_count": 9,
   "metadata": {
    "collapsed": false
   },
   "outputs": [
    {
     "name": "stdout",
     "output_type": "stream",
     "text": [
      "0 1705913\n",
      "(1356361, 252)\n",
      "ind_cco_fin_ult1\n",
      "ind_ctju_fin_ult1\n",
      "ind_dela_fin_ult1\n",
      "ind_pres_fin_ult1\n",
      "ind_ahor_fin_ult1\n",
      "ind_aval_fin_ult1\n",
      "ind_cder_fin_ult1\n",
      "ind_cno_fin_ult1\n",
      "ind_ctma_fin_ult1\n",
      "ind_ctop_fin_ult1\n",
      "ind_ctpp_fin_ult1\n",
      "ind_deco_fin_ult1\n",
      "ind_deme_fin_ult1\n",
      "ind_ecue_fin_ult1\n",
      "ind_fond_fin_ult1\n",
      "ind_hip_fin_ult1\n",
      "ind_plan_fin_ult1\n",
      "ind_reca_fin_ult1\n",
      "ind_tjcr_fin_ult1\n",
      "ind_valo_fin_ult1\n",
      "ind_viv_fin_ult1\n",
      "ind_nomina_ult1\n",
      "ind_nom_pens_ult1\n",
      "ind_recibo_ult1\n",
      "1 1705914\n",
      "(1356678, 251)\n",
      "ind_cco_fin_ult1\n",
      "ind_ctju_fin_ult1\n",
      "ind_dela_fin_ult1\n",
      "ind_pres_fin_ult1\n",
      "ind_ahor_fin_ult1\n",
      "ind_aval_fin_ult1\n",
      "ind_cder_fin_ult1\n",
      "ind_cno_fin_ult1\n",
      "ind_ctma_fin_ult1\n",
      "ind_ctop_fin_ult1\n",
      "ind_ctpp_fin_ult1\n",
      "ind_deco_fin_ult1\n",
      "ind_deme_fin_ult1\n",
      "ind_ecue_fin_ult1\n",
      "ind_fond_fin_ult1\n",
      "ind_hip_fin_ult1\n",
      "ind_plan_fin_ult1\n",
      "ind_reca_fin_ult1\n",
      "ind_tjcr_fin_ult1\n",
      "ind_valo_fin_ult1\n",
      "ind_viv_fin_ult1\n",
      "ind_nomina_ult1\n",
      "ind_nom_pens_ult1\n",
      "ind_recibo_ult1\n",
      "2 1705913\n",
      "(1356230, 249)\n",
      "ind_cco_fin_ult1\n",
      "ind_ctju_fin_ult1\n",
      "ind_dela_fin_ult1\n",
      "ind_pres_fin_ult1\n",
      "ind_ahor_fin_ult1\n",
      "ind_aval_fin_ult1\n",
      "ind_cder_fin_ult1\n",
      "ind_cno_fin_ult1\n",
      "ind_ctma_fin_ult1\n",
      "ind_ctop_fin_ult1\n",
      "ind_ctpp_fin_ult1\n",
      "ind_deco_fin_ult1\n",
      "ind_deme_fin_ult1\n",
      "ind_ecue_fin_ult1\n",
      "ind_fond_fin_ult1\n",
      "ind_hip_fin_ult1\n",
      "ind_plan_fin_ult1\n",
      "ind_reca_fin_ult1\n",
      "ind_tjcr_fin_ult1\n",
      "ind_valo_fin_ult1\n",
      "ind_viv_fin_ult1\n",
      "ind_nomina_ult1\n",
      "ind_nom_pens_ult1\n",
      "ind_recibo_ult1\n",
      "3 1705914\n",
      "(1356880, 252)\n",
      "ind_cco_fin_ult1\n",
      "ind_ctju_fin_ult1\n",
      "ind_dela_fin_ult1\n",
      "ind_pres_fin_ult1\n",
      "ind_ahor_fin_ult1\n",
      "ind_aval_fin_ult1\n",
      "ind_cder_fin_ult1\n",
      "ind_cno_fin_ult1\n",
      "ind_ctma_fin_ult1\n",
      "ind_ctop_fin_ult1\n",
      "ind_ctpp_fin_ult1\n",
      "ind_deco_fin_ult1\n",
      "ind_deme_fin_ult1\n",
      "ind_ecue_fin_ult1\n",
      "ind_fond_fin_ult1\n",
      "ind_hip_fin_ult1\n",
      "ind_plan_fin_ult1\n",
      "ind_reca_fin_ult1\n",
      "ind_tjcr_fin_ult1\n",
      "ind_valo_fin_ult1\n",
      "ind_viv_fin_ult1\n",
      "ind_nomina_ult1\n",
      "ind_nom_pens_ult1\n",
      "ind_recibo_ult1\n",
      "4 1705914\n",
      "(1356658, 249)\n",
      "ind_cco_fin_ult1\n",
      "ind_ctju_fin_ult1\n",
      "ind_dela_fin_ult1\n",
      "ind_pres_fin_ult1\n",
      "ind_ahor_fin_ult1\n",
      "ind_aval_fin_ult1\n",
      "ind_cder_fin_ult1\n",
      "ind_cno_fin_ult1\n",
      "ind_ctma_fin_ult1\n",
      "ind_ctop_fin_ult1\n",
      "ind_ctpp_fin_ult1\n",
      "ind_deco_fin_ult1\n",
      "ind_deme_fin_ult1\n",
      "ind_ecue_fin_ult1\n",
      "ind_fond_fin_ult1\n",
      "ind_hip_fin_ult1\n",
      "ind_plan_fin_ult1\n",
      "ind_reca_fin_ult1\n",
      "ind_tjcr_fin_ult1\n",
      "ind_valo_fin_ult1\n",
      "ind_viv_fin_ult1\n",
      "ind_nomina_ult1\n",
      "ind_nom_pens_ult1\n",
      "ind_recibo_ult1\n",
      "5 1705913\n",
      "(1357292, 250)\n",
      "ind_cco_fin_ult1\n",
      "ind_ctju_fin_ult1\n",
      "ind_dela_fin_ult1\n",
      "ind_pres_fin_ult1\n",
      "ind_ahor_fin_ult1\n",
      "ind_aval_fin_ult1\n",
      "ind_cder_fin_ult1\n",
      "ind_cno_fin_ult1\n",
      "ind_ctma_fin_ult1\n",
      "ind_ctop_fin_ult1\n",
      "ind_ctpp_fin_ult1\n",
      "ind_deco_fin_ult1\n",
      "ind_deme_fin_ult1\n",
      "ind_ecue_fin_ult1\n",
      "ind_fond_fin_ult1\n",
      "ind_hip_fin_ult1\n",
      "ind_plan_fin_ult1\n",
      "ind_reca_fin_ult1\n",
      "ind_tjcr_fin_ult1\n",
      "ind_valo_fin_ult1\n",
      "ind_viv_fin_ult1\n",
      "ind_nomina_ult1\n",
      "ind_nom_pens_ult1\n",
      "ind_recibo_ult1\n",
      "6 1705914\n",
      "(1356573, 251)\n",
      "ind_cco_fin_ult1\n",
      "ind_ctju_fin_ult1\n",
      "ind_dela_fin_ult1\n",
      "ind_pres_fin_ult1\n",
      "ind_ahor_fin_ult1\n",
      "ind_aval_fin_ult1\n",
      "ind_cder_fin_ult1\n",
      "ind_cno_fin_ult1\n",
      "ind_ctma_fin_ult1\n",
      "ind_ctop_fin_ult1\n",
      "ind_ctpp_fin_ult1\n",
      "ind_deco_fin_ult1\n",
      "ind_deme_fin_ult1\n",
      "ind_ecue_fin_ult1\n",
      "ind_fond_fin_ult1\n",
      "ind_hip_fin_ult1\n",
      "ind_plan_fin_ult1\n",
      "ind_reca_fin_ult1\n",
      "ind_tjcr_fin_ult1\n",
      "ind_valo_fin_ult1\n",
      "ind_viv_fin_ult1\n",
      "ind_nomina_ult1\n",
      "ind_nom_pens_ult1\n",
      "ind_recibo_ult1\n",
      "7 1705914\n",
      "(1356228, 253)\n",
      "ind_cco_fin_ult1\n",
      "ind_ctju_fin_ult1\n",
      "ind_dela_fin_ult1\n",
      "ind_pres_fin_ult1\n",
      "ind_ahor_fin_ult1\n",
      "ind_aval_fin_ult1\n",
      "ind_cder_fin_ult1\n",
      "ind_cno_fin_ult1\n",
      "ind_ctma_fin_ult1\n",
      "ind_ctop_fin_ult1\n",
      "ind_ctpp_fin_ult1\n",
      "ind_deco_fin_ult1\n",
      "ind_deme_fin_ult1\n",
      "ind_ecue_fin_ult1\n",
      "ind_fond_fin_ult1\n",
      "ind_hip_fin_ult1\n",
      "ind_plan_fin_ult1\n",
      "ind_reca_fin_ult1\n",
      "ind_tjcr_fin_ult1\n",
      "ind_valo_fin_ult1\n",
      "ind_viv_fin_ult1\n",
      "ind_nomina_ult1\n",
      "ind_nom_pens_ult1\n",
      "ind_recibo_ult1\n"
     ]
    }
   ],
   "source": [
    "# init scaler\n",
    "scaler = MinMaxScaler()\n",
    "n_features = 6\n",
    "\n",
    "# loop chunks of data\n",
    "for i, chunk in enumerate(chunks):\n",
    "    print(i, len(chunk))\n",
    "    X,y, labels = gen_data(chunk)\n",
    "    X = transform(X)\n",
    "    y = y.loc[X.index]\n",
    "    print(X.shape)\n",
    "    scaler.partial_fit(X[numerical_vars])\n",
    "    X[numerical_vars] = scaler.transform(X[numerical_vars])\n",
    "    \n",
    "    # loop models/labels\n",
    "    for j, model in enumerate(ordered_models):\n",
    "        label, clf, features, score = model\n",
    "        \n",
    "        # exception: if first chunk, create new classifier\n",
    "        if i == 0: \n",
    "            clf = SGDClassifier()\n",
    "            ordered_models[j] = (label, clf, features, score)\n",
    "            \n",
    "        print(label)\n",
    "        \n",
    "        # select features and partial fit classifier\n",
    "        clf.partial_fit(X[features[:n_features]],y[label], classes=[0,1])"
   ]
  },
  {
   "cell_type": "code",
   "execution_count": 10,
   "metadata": {
    "collapsed": true
   },
   "outputs": [],
   "source": [
    "# reimport the data for remaining\n",
    "nrows = 13647309\n",
    "indices = np.random.permutation(nrows)\n",
    "\n",
    "# divided data into 100 chunks, pick 5 for validation\n",
    "# only the first will be used for feature selection. \n",
    "chunks_count = 100\n",
    "csize = len(indices)/chunks_count\n",
    "chunks = []\n",
    "for i in range(chunks_count):\n",
    "    chunks.append(indices[i*csize:(i+1)*csize])"
   ]
  },
  {
   "cell_type": "code",
   "execution_count": 11,
   "metadata": {
    "collapsed": false
   },
   "outputs": [
    {
     "name": "stdout",
     "output_type": "stream",
     "text": [
      "(108421, 236)\n",
      "(108503, 235)\n",
      "(108475, 238)\n",
      "(108246, 234)\n",
      "(108648, 236)\n"
     ]
    }
   ],
   "source": [
    "for i, chunk in enumerate(chunks[:5]):\n",
    "    X,y, labels = gen_data(chunk)\n",
    "    X = transform(X)\n",
    "    y = y.loc[X.index]\n",
    "    print(X.shape)\n",
    "    X[numerical_vars] = scaler.transform(X[numerical_vars])\n",
    "    # loop models/labels\n",
    "    for j, model in enumerate(ordered_models):\n",
    "        label, clf, features, scores = model\n",
    "        \n",
    "        # exception: if first chunk, create array of scores\n",
    "        if i == 0: \n",
    "            scores = []\n",
    "            ordered_models[j] = (label, clf, features, scores)\n",
    "            \n",
    "        # select features and partial fit classifier\n",
    "        y_pred = clf.predict(X[features[:n_features]])\n",
    "        score = f1_score(y[label], y_pred)\n",
    "        scores.append(score)"
   ]
  },
  {
   "cell_type": "code",
   "execution_count": 12,
   "metadata": {
    "collapsed": false
   },
   "outputs": [],
   "source": [
    "# calc mean precision\n",
    "def calc_mean_score(t):\n",
    "    mean_score = sum(t[3])/len(t[3])\n",
    "    return (t[0], t[1], t[2], mean_score)\n",
    "\n",
    "om = list(map(lambda x:calc_mean_score(x), ordered_models))"
   ]
  },
  {
   "cell_type": "code",
   "execution_count": 24,
   "metadata": {
    "collapsed": false
   },
   "outputs": [],
   "source": [
    "# filter only f1 scores above 40%\n",
    "om = list(filter(lambda x:x[3]>.3, om))\n"
   ]
  },
  {
   "cell_type": "code",
   "execution_count": 25,
   "metadata": {
    "collapsed": false
   },
   "outputs": [],
   "source": [
    "# predict for training data\n",
    "X,y, labels = gen_data(test=True)\n",
    "results = pd.DataFrame(X['ncodpers'])\n",
    "X = transform(X, fillna=True)\n",
    "X[numerical_vars] = scaler.transform(X[numerical_vars])\n",
    "for model in om:\n",
    "    label, clf, features, scores = model\n",
    "    results[label] = clf.predict(X[features[:n_features]])"
   ]
  },
  {
   "cell_type": "code",
   "execution_count": 26,
   "metadata": {
    "collapsed": false
   },
   "outputs": [
    {
     "name": "stdout",
     "output_type": "stream",
     "text": [
      "1    929615\n",
      "Name: ind_cco_fin_ult1, dtype: int64\n",
      "0    926942\n",
      "1      2673\n",
      "Name: ind_ctju_fin_ult1, dtype: int64\n",
      "0    894020\n",
      "1     35595\n",
      "Name: ind_dela_fin_ult1, dtype: int64\n",
      "0    928412\n",
      "1      1203\n",
      "Name: ind_pres_fin_ult1, dtype: int64\n"
     ]
    }
   ],
   "source": [
    "# check count for each results\n",
    "for col in results.columns - ['ncodpers']:\n",
    "    print(results[col].value_counts())"
   ]
  },
  {
   "cell_type": "code",
   "execution_count": 27,
   "metadata": {
    "collapsed": true
   },
   "outputs": [],
   "source": [
    "# now I need to fetch the last row for these in the training_data\n",
    "df = pd.read_csv('train_ver2.csv')"
   ]
  },
  {
   "cell_type": "code",
   "execution_count": 28,
   "metadata": {
    "collapsed": false
   },
   "outputs": [
    {
     "data": {
      "text/plain": [
       "True"
      ]
     },
     "execution_count": 28,
     "metadata": {},
     "output_type": "execute_result"
    }
   ],
   "source": [
    "# checking if all ids from test are in training database\n",
    "ids_from_train = df[df['fecha_dato']=='2016-05-28']['ncodpers']\n",
    "ids_from_test = results['ncodpers']\n",
    "len(ids_from_test) == len(set(ids_from_test).intersection(ids_from_train))"
   ]
  },
  {
   "cell_type": "code",
   "execution_count": 29,
   "metadata": {
    "collapsed": false
   },
   "outputs": [
    {
     "name": "stdout",
     "output_type": "stream",
     "text": [
      "24\n"
     ]
    }
   ],
   "source": [
    "# get labels\n",
    "labels = []\n",
    "for col in df.columns:\n",
    "    if col[:4] == 'ind_' and col[-4:] == 'ult1':\n",
    "        labels.append(col)\n",
    "print(len(labels))"
   ]
  },
  {
   "cell_type": "code",
   "execution_count": 30,
   "metadata": {
    "collapsed": false
   },
   "outputs": [
    {
     "data": {
      "text/plain": [
       "(929615, 25)"
      ]
     },
     "execution_count": 30,
     "metadata": {},
     "output_type": "execute_result"
    }
   ],
   "source": [
    "df_last = df[df['ncodpers'].isin(ids_from_test)]\n",
    "df_last = df_last[df_last['fecha_dato']=='2016-05-28'][['ncodpers']+labels]\n",
    "df_last.shape"
   ]
  },
  {
   "cell_type": "code",
   "execution_count": 31,
   "metadata": {
    "collapsed": false
   },
   "outputs": [],
   "source": [
    "# sort both to align dataframes\n",
    "# results.sort_values('ncodpers', inplace=True)\n",
    "# df_last.sort_values('ncodpers', inplace=True)\n",
    "\n",
    "# reindex instead of sorting\n",
    "df_last = df_last.set_index('ncodpers')\n",
    "results = results.set_index('ncodpers')"
   ]
  },
  {
   "cell_type": "code",
   "execution_count": 32,
   "metadata": {
    "collapsed": true
   },
   "outputs": [],
   "source": [
    "#get the added products\n",
    "fresults = results.copy()\n",
    "for col in results.columns - ['ncodpers']:\n",
    "    fresults[col] = results[col] - df_last[col]"
   ]
  },
  {
   "cell_type": "code",
   "execution_count": 33,
   "metadata": {
    "collapsed": false
   },
   "outputs": [],
   "source": [
    "# export\n",
    "# clean memory\n",
    "del df\n",
    "del df_last\n",
    "del results\n",
    "\n",
    "# transform results to expected output\n",
    "for label in fresults.columns:\n",
    "    fresults.ix[fresults[label]==1, label] = label\n",
    "    fresults.ix[fresults[label]==0, label] = ''\n",
    "    fresults.ix[fresults[label]==-1, label] = ''\n",
    "    \n",
    "# concatenate results\n",
    "fn_join_columns = lambda x:re.sub('\\s+', ' ', ' '.join(x)).strip()\n",
    "\n",
    "# add new column added products in report\n",
    "fresults['added_products'] = fresults.apply(fn_join_columns, axis=1)\n",
    "\n",
    "#export\n",
    "fresults['added_products'].to_csv('round5d.csv', header=True, index=True)\n"
   ]
  },
  {
   "cell_type": "code",
   "execution_count": 34,
   "metadata": {
    "collapsed": false
   },
   "outputs": [
    {
     "data": {
      "text/plain": [
       "(0.79187271794662695,\n",
       " 0.51708392045849338,\n",
       " 0.49185205436065599,\n",
       " 0.42183351124274271)"
      ]
     },
     "execution_count": 34,
     "metadata": {},
     "output_type": "execute_result"
    }
   ],
   "source": [
    "list(zip(*om))[3]\n",
    "\n"
   ]
  },
  {
   "cell_type": "code",
   "execution_count": null,
   "metadata": {
    "collapsed": true
   },
   "outputs": [],
   "source": []
  }
 ],
 "metadata": {
  "anaconda-cloud": {},
  "kernelspec": {
   "display_name": "Python [conda env:udacity]",
   "language": "python",
   "name": "conda-env-udacity-py"
  },
  "language_info": {
   "codemirror_mode": {
    "name": "ipython",
    "version": 3
   },
   "file_extension": ".py",
   "mimetype": "text/x-python",
   "name": "python",
   "nbconvert_exporter": "python",
   "pygments_lexer": "ipython3",
   "version": "3.5.2"
  }
 },
 "nbformat": 4,
 "nbformat_minor": 1
}
